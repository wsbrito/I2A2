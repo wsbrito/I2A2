{
 "cells": [
  {
   "cell_type": "markdown",
   "metadata": {},
   "source": [
    "# This is notebook refers a education project to evatuate a credit for a fictional company and this is a part of Udemy's course \"Formação Cientista de Dados com Python e R\" by Fernando Amaral.\n",
    "## Author Wagner Brito."
   ]
  },
  {
   "cell_type": "markdown",
   "metadata": {},
   "source": [
    "## Part 1 - Getting data"
   ]
  },
  {
   "cell_type": "code",
   "execution_count": 3,
   "metadata": {},
   "outputs": [],
   "source": [
    "import psycopg2\n",
    "import pandas as pd"
   ]
  },
  {
   "cell_type": "code",
   "execution_count": 2,
   "metadata": {},
   "outputs": [],
   "source": [
    "# open a database conection\n",
    "conexao = psycopg2.connect(host=\"localhost\",database=\"wbk_db\", user=\"postgres\", password=\"postgres\", port=5432)"
   ]
  },
  {
   "cell_type": "code",
   "execution_count": 3,
   "metadata": {},
   "outputs": [],
   "source": [
    "'''\n",
    "Some \"constanst\" to help querys\n",
    "'''\n",
    "sql_tables = \"SELECT table_name FROM information_schema.tables WHERE table_schema = %s\"\n",
    "str_schema = 'public'\n",
    "columns = 'COLUMNS'\n",
    "data = 'DATA'"
   ]
  },
  {
   "cell_type": "code",
   "execution_count": 4,
   "metadata": {},
   "outputs": [],
   "source": [
    "'''\n",
    "Method to recovery all data from specific query\n",
    "'''\n",
    "def return_data(conn,sql,params):\n",
    "    cursor = conn.cursor()\n",
    "    cursor.execute(sql,params)\n",
    "    retorno = cursor.fetchall()\n",
    "    cursor.close()\n",
    "    return retorno"
   ]
  },
  {
   "cell_type": "code",
   "execution_count": 5,
   "metadata": {},
   "outputs": [],
   "source": [
    "'''\n",
    "Change tuple in list \n",
    "'''\n",
    "def return_list_from_record(data):\n",
    "    retorno = []\n",
    "    for d in data:\n",
    "        if len(d) == 1:\n",
    "            retorno.append(d[0])\n",
    "        else:\n",
    "            inner_list = []\n",
    "            for d1 in d:\n",
    "                inner_list.append(d1)\n",
    "            retorno.append(inner_list)\n",
    "    return retorno"
   ]
  },
  {
   "cell_type": "code",
   "execution_count": 6,
   "metadata": {},
   "outputs": [],
   "source": [
    "'''\n",
    "Auxiliar method to recovery columns from specific table\n",
    "'''\n",
    "def return_table_columns(conn,table_name):\n",
    "    sql_columns = \"SELECT column_name FROM information_schema.columns WHERE table_schema=%s AND table_name = %s\"\n",
    "    return return_data(conn,sql_columns,[str_schema,table_name])"
   ]
  },
  {
   "cell_type": "code",
   "execution_count": 7,
   "metadata": {},
   "outputs": [],
   "source": [
    "'''\n",
    "Make a SQL based in columns list and a table name\n",
    "'''\n",
    "def make_query(colunms,table):\n",
    "    return 'SELECT '+', '.join(colunms)+\" FROM \"+table"
   ]
  },
  {
   "cell_type": "code",
   "execution_count": 8,
   "metadata": {},
   "outputs": [],
   "source": [
    "'''\n",
    "Make a dictionary with key call 'DATA' and data is a Pandas DataFrame with all records from a table name\n",
    "'''\n",
    "def get_dataframe_from_table(conexao,table_name):\n",
    "    columns_list = return_list_from_record(return_table_columns(conexao,table_name))\n",
    "    str_sql = make_query(columns_list,table_name)\n",
    "    table_data = return_data(conexao,str_sql,[])\n",
    "    return pd.DataFrame(table_data, columns = columns_list)"
   ]
  },
  {
   "cell_type": "code",
   "execution_count": 9,
   "metadata": {},
   "outputs": [],
   "source": [
    "'''\n",
    "Make a dictionary with this structure:\n",
    "    'TABLE_NAME':{\n",
    "        'COLUMNS':[List of columns names],\n",
    "        'DATA':Pandas datafreme\n",
    "    }\n",
    "'''\n",
    "def create_data_dict():\n",
    "    dict_out = {}\n",
    "    table_list = return_list_from_record(return_data(conexao,sql_tables,[str_schema]))\n",
    "    for t in table_list:\n",
    "        dict_out[t] = {\n",
    "            columns:return_list_from_record(return_table_columns(conexao,t)),\n",
    "            data:get_dataframe_from_table(conexao,t)\n",
    "        } \n",
    "    return dict_out"
   ]
  },
  {
   "cell_type": "code",
   "execution_count": 10,
   "metadata": {},
   "outputs": [],
   "source": [
    "data_dict = create_data_dict()"
   ]
  },
  {
   "cell_type": "code",
   "execution_count": 11,
   "metadata": {},
   "outputs": [
    {
     "data": {
      "text/plain": [
       "{'clientes': {'COLUMNS': ['idcliente', 'cliente', 'estado', 'sexo'],\n",
       "  'DATA':      idcliente               cliente estado sexo\n",
       "  0            1  Adelina Buenaventura     RJ    M\n",
       "  1            2          Adelino Gago     RJ    M\n",
       "  2            3         Adélio Lisboa     SE    M\n",
       "  3            4         Adérito Bahía     MA    M\n",
       "  4            5       Adolfo Patrício     PE    M\n",
       "  ..         ...                   ...    ...  ...\n",
       "  245        246  Jandaíra Albuquerque     SP    F\n",
       "  246        247            Joana Ataí     GO    F\n",
       "  247        248       Joaquim Hurtado     AP    M\n",
       "  248        249        Joaquim Mieiro     TO    M\n",
       "  249        250  Joaquina Vasconcelos     SC    F\n",
       "  \n",
       "  [250 rows x 4 columns]},\n",
       " 'credito': {'COLUMNS': ['idcredito',\n",
       "   'duracao',\n",
       "   'historicocredito',\n",
       "   'proposito',\n",
       "   'valor',\n",
       "   'investimentos',\n",
       "   'emprego',\n",
       "   'tempoparcelamento',\n",
       "   'estadocivil',\n",
       "   'fiadorterceiros',\n",
       "   'residenciadesde',\n",
       "   'idade',\n",
       "   'outrosfinanciamentos',\n",
       "   'habitacao',\n",
       "   'emprestimoexistente',\n",
       "   'profissao',\n",
       "   'dependentes',\n",
       "   'socioempresa',\n",
       "   'estrangeiro',\n",
       "   'status'],\n",
       "  'DATA':      idcredito  duracao  historicocredito  proposito  valor  investimentos  \\\n",
       "  0            2       48                 2          1   5951              2   \n",
       "  1            3       12                 1          2   2096              2   \n",
       "  2            4       42                 2          3   7882              2   \n",
       "  3            5       24                 3          4   4870              2   \n",
       "  4            6       36                 2          2   9055              1   \n",
       "  ..         ...      ...               ...        ...    ...            ...   \n",
       "  995        505       24                 2          4   1207              2   \n",
       "  996        834       24                 2          1   5084              1   \n",
       "  997        234       18                 0          1    866              2   \n",
       "  998        474        6                 0         10   1238              1   \n",
       "  999        565       24                 0          6   4712              1   \n",
       "  \n",
       "       emprego  tempoparcelamento  estadocivil  fiadorterceiros  \\\n",
       "  0        3.0                  2            1                3   \n",
       "  1        4.0                  2            4                3   \n",
       "  2        4.0                  2            4                4   \n",
       "  3        3.0                  3            4                3   \n",
       "  4        3.0                  2            4                3   \n",
       "  ..       ...                ...          ...              ...   \n",
       "  995      1.0                  4            1                3   \n",
       "  996      2.0                  2            1                3   \n",
       "  997      3.0                  4            3                4   \n",
       "  998      5.0                  4            4                3   \n",
       "  999      3.0                  4            4                3   \n",
       "  \n",
       "       residenciadesde  idade  outrosfinanciamentos  habitacao  \\\n",
       "  0                2.0     22                     3        1.0   \n",
       "  1                3.0     49                     3        1.0   \n",
       "  2                4.0     45                     3        2.0   \n",
       "  3                4.0     53                     3        2.0   \n",
       "  4                4.0     35                     3        2.0   \n",
       "  ..               ...    ...                   ...        ...   \n",
       "  995              4.0     24                     3        3.0   \n",
       "  996              4.0     42                     3        1.0   \n",
       "  997              2.0     25                     3        1.0   \n",
       "  998              4.0     36                     3        1.0   \n",
       "  999              2.0     37                     1        1.0   \n",
       "  \n",
       "       emprestimoexistente  profissao  dependentes  socioempresa  estrangeiro  \\\n",
       "  0                      1          4            1             0            0   \n",
       "  1                      1          3            2             0            0   \n",
       "  2                      1          4            2             0            0   \n",
       "  3                      2          4            2             0            0   \n",
       "  4                      1          3            2             1            0   \n",
       "  ..                   ...        ...          ...           ...          ...   \n",
       "  995                    1        999            1             0            0   \n",
       "  996                    1        999            1             1            0   \n",
       "  997                    1          3            1             0            0   \n",
       "  998                    1          1            2             1            0   \n",
       "  999                    2          1            1             1            0   \n",
       "  \n",
       "       status  \n",
       "  0         0  \n",
       "  1         1  \n",
       "  2         1  \n",
       "  3         0  \n",
       "  4         1  \n",
       "  ..      ...  \n",
       "  995       0  \n",
       "  996       1  \n",
       "  997       1  \n",
       "  998       1  \n",
       "  999       1  \n",
       "  \n",
       "  [1000 rows x 20 columns]},\n",
       " 'emprego': {'COLUMNS': ['idemprego', 'emprego'],\n",
       "  'DATA':    idemprego       emprego\n",
       "  0          1            <1\n",
       "  1          2           >=7\n",
       "  2          3        1<=X<4\n",
       "  3          4        4<=X<7\n",
       "  4          5  Desempregado},\n",
       " 'estadocivil': {'COLUMNS': ['idestadocivil', 'estadocivil'],\n",
       "  'DATA':    idestadocivil           estadocivil\n",
       "  0              1  feminino div/dep/cas\n",
       "  1              2      maculino div/dep\n",
       "  2              3     masculino cas/viu\n",
       "  3              4    masculino solteiro},\n",
       " 'fiador': {'COLUMNS': ['idfiador', 'fiador'],\n",
       "  'DATA':    idfiador         fiador\n",
       "  0         1   co aplicante\n",
       "  1         2  co requerente\n",
       "  2         3            nao\n",
       "  3         4            sim},\n",
       " 'habitacao': {'COLUMNS': ['idhabitacao', 'habitacao'],\n",
       "  'DATA':    idhabitacao habitacao\n",
       "  0            1    proria\n",
       "  1            2  de graca\n",
       "  2            3   alugada},\n",
       " 'historico_credito': {'COLUMNS': ['idhistcred', 'historico'],\n",
       "  'DATA':    idhistcred                 historico\n",
       "  0           1   Critico-outros creditos\n",
       "  1           2          existentes/pagos\n",
       "  2           3        Atrasos anteriores\n",
       "  3           4  sem creditos/todos pagos\n",
       "  4           5               todos pagos},\n",
       " 'investimentos': {'COLUMNS': ['idinvestimentos', 'investimentos'],\n",
       "  'DATA':    idinvestimentos   investimentos\n",
       "  0                1  Desconhecido\\n\n",
       "  1                2          <100\\n\n",
       "  2                3     500<=X<1000\n",
       "  3                4          >=1000\n",
       "  4                5      100<=X<500},\n",
       " 'outrosfinanc': {'COLUMNS': ['idoutrosfinanc', 'outrosfinanciamentos'],\n",
       "  'DATA':    idoutrosfinanc outrosfinanciamentos\n",
       "  0               1                banco\n",
       "  1               2                 loja\n",
       "  2               3               nenhum},\n",
       " 'profissao': {'COLUMNS': ['idprofissao', 'profissao'],\n",
       "  'DATA':    idprofissao                         profissao\n",
       "  0            1  altamente qualificado/empresario\n",
       "  1            2                      desempregado\n",
       "  2            3                   nao qualificado\n",
       "  3            4                       qualificado},\n",
       " 'proposito': {'COLUMNS': ['idproposito', 'proposito'],\n",
       "  'DATA':    idproposito      proposito\n",
       "  0            1        reforma\n",
       "  1            2       educacao\n",
       "  2            3         moveis\n",
       "  3            4   veiculo novo\n",
       "  4            5  veiculo usado\n",
       "  5            6  abrir negocio\n",
       "  6            7  quitar divida\n",
       "  7            8   reforma casa\n",
       "  8            9         outros\n",
       "  9           10   qualificacao}}"
      ]
     },
     "execution_count": 11,
     "metadata": {},
     "output_type": "execute_result"
    }
   ],
   "source": [
    "data_dict"
   ]
  },
  {
   "cell_type": "code",
   "execution_count": 11,
   "metadata": {},
   "outputs": [],
   "source": [
    "conexao.close()"
   ]
  },
  {
   "cell_type": "code",
   "execution_count": 12,
   "metadata": {},
   "outputs": [
    {
     "name": "stdout",
     "output_type": "stream",
     "text": [
      "['idcliente', 'cliente', 'estado', 'sexo']\n",
      "['idcredito', 'duracao', 'historicocredito', 'proposito', 'valor', 'investimentos', 'emprego', 'tempoparcelamento', 'estadocivil', 'fiadorterceiros', 'residenciadesde', 'idade', 'outrosfinanciamentos', 'habitacao', 'emprestimoexistente', 'profissao', 'dependentes', 'socioempresa', 'estrangeiro', 'status']\n",
      "['idemprego', 'emprego']\n",
      "['idestadocivil', 'estadocivil']\n",
      "['idfiador', 'fiador']\n",
      "['idhabitacao', 'habitacao']\n",
      "['idhistcred', 'historico']\n",
      "['idinvestimentos', 'investimentos']\n",
      "['idoutrosfinanc', 'outrosfinanciamentos']\n",
      "['idprofissao', 'profissao']\n",
      "['idproposito', 'proposito']\n"
     ]
    }
   ],
   "source": [
    "'''\n",
    "Looking for a similar columns in all tables\n",
    "'''\n",
    "for key in data_dict:\n",
    "    #print(key)\n",
    "    print(data_dict[key][columns])"
   ]
  },
  {
   "cell_type": "code",
   "execution_count": 14,
   "metadata": {},
   "outputs": [
    {
     "name": "stdout",
     "output_type": "stream",
     "text": [
      "-------------------------------------------------------------\n",
      "clientes\n",
      "                        cliente estado sexo\n",
      "idcliente                                  \n",
      "1          Adelina Buenaventura     RJ    M\n",
      "2                  Adelino Gago     RJ    M\n",
      "3                 Adélio Lisboa     SE    M\n",
      "4                 Adérito Bahía     MA    M\n",
      "5               Adolfo Patrício     PE    M\n",
      "...                         ...    ...  ...\n",
      "246        Jandaíra Albuquerque     SP    F\n",
      "247                  Joana Ataí     GO    F\n",
      "248             Joaquim Hurtado     AP    M\n",
      "249              Joaquim Mieiro     TO    M\n",
      "250        Joaquina Vasconcelos     SC    F\n",
      "\n",
      "[250 rows x 3 columns]\n",
      "-------------------------------------------------------------\n",
      "-------------------------------------------------------------\n",
      "credito\n",
      "           duracao  historicocredito  proposito  valor  investimentos  \\\n",
      "idcredito                                                               \n",
      "2               48                 2          1   5951              2   \n",
      "3               12                 1          2   2096              2   \n",
      "4               42                 2          3   7882              2   \n",
      "5               24                 3          4   4870              2   \n",
      "6               36                 2          2   9055              1   \n",
      "...            ...               ...        ...    ...            ...   \n",
      "505             24                 2          4   1207              2   \n",
      "834             24                 2          1   5084              1   \n",
      "234             18                 0          1    866              2   \n",
      "474              6                 0         10   1238              1   \n",
      "565             24                 0          6   4712              1   \n",
      "\n",
      "           emprego  tempoparcelamento  estadocivil  fiadorterceiros  \\\n",
      "idcredito                                                             \n",
      "2              3.0                  2            1                3   \n",
      "3              4.0                  2            4                3   \n",
      "4              4.0                  2            4                4   \n",
      "5              3.0                  3            4                3   \n",
      "6              3.0                  2            4                3   \n",
      "...            ...                ...          ...              ...   \n",
      "505            1.0                  4            1                3   \n",
      "834            2.0                  2            1                3   \n",
      "234            3.0                  4            3                4   \n",
      "474            5.0                  4            4                3   \n",
      "565            3.0                  4            4                3   \n",
      "\n",
      "           residenciadesde  idade  outrosfinanciamentos  habitacao  \\\n",
      "idcredito                                                            \n",
      "2                      2.0     22                     3        1.0   \n",
      "3                      3.0     49                     3        1.0   \n",
      "4                      4.0     45                     3        2.0   \n",
      "5                      4.0     53                     3        2.0   \n",
      "6                      4.0     35                     3        2.0   \n",
      "...                    ...    ...                   ...        ...   \n",
      "505                    4.0     24                     3        3.0   \n",
      "834                    4.0     42                     3        1.0   \n",
      "234                    2.0     25                     3        1.0   \n",
      "474                    4.0     36                     3        1.0   \n",
      "565                    2.0     37                     1        1.0   \n",
      "\n",
      "           emprestimoexistente  profissao  dependentes  socioempresa  \\\n",
      "idcredito                                                              \n",
      "2                            1          4            1             0   \n",
      "3                            1          3            2             0   \n",
      "4                            1          4            2             0   \n",
      "5                            2          4            2             0   \n",
      "6                            1          3            2             1   \n",
      "...                        ...        ...          ...           ...   \n",
      "505                          1        999            1             0   \n",
      "834                          1        999            1             1   \n",
      "234                          1          3            1             0   \n",
      "474                          1          1            2             1   \n",
      "565                          2          1            1             1   \n",
      "\n",
      "           estrangeiro  status  \n",
      "idcredito                       \n",
      "2                    0       0  \n",
      "3                    0       1  \n",
      "4                    0       1  \n",
      "5                    0       0  \n",
      "6                    0       1  \n",
      "...                ...     ...  \n",
      "505                  0       0  \n",
      "834                  0       1  \n",
      "234                  0       1  \n",
      "474                  0       1  \n",
      "565                  0       1  \n",
      "\n",
      "[1000 rows x 19 columns]\n",
      "-------------------------------------------------------------\n",
      "-------------------------------------------------------------\n",
      "emprego\n",
      "                emprego\n",
      "idemprego              \n",
      "1                    <1\n",
      "2                   >=7\n",
      "3                1<=X<4\n",
      "4                4<=X<7\n",
      "5          Desempregado\n",
      "-------------------------------------------------------------\n",
      "-------------------------------------------------------------\n",
      "estadocivil\n",
      "                        estadocivil\n",
      "idestadocivil                      \n",
      "1              feminino div/dep/cas\n",
      "2                  maculino div/dep\n",
      "3                 masculino cas/viu\n",
      "4                masculino solteiro\n",
      "-------------------------------------------------------------\n",
      "-------------------------------------------------------------\n",
      "fiador\n",
      "                 fiador\n",
      "idfiador               \n",
      "1          co aplicante\n",
      "2         co requerente\n",
      "3                   nao\n",
      "4                   sim\n",
      "-------------------------------------------------------------\n",
      "-------------------------------------------------------------\n",
      "habitacao\n",
      "            habitacao\n",
      "idhabitacao          \n",
      "1              proria\n",
      "2            de graca\n",
      "3             alugada\n",
      "-------------------------------------------------------------\n",
      "-------------------------------------------------------------\n",
      "historico_credito\n",
      "                           historico\n",
      "idhistcred                          \n",
      "1            Critico-outros creditos\n",
      "2                   existentes/pagos\n",
      "3                 Atrasos anteriores\n",
      "4           sem creditos/todos pagos\n",
      "5                        todos pagos\n",
      "-------------------------------------------------------------\n",
      "-------------------------------------------------------------\n",
      "investimentos\n",
      "                  investimentos\n",
      "idinvestimentos                \n",
      "1                Desconhecido\\n\n",
      "2                        <100\\n\n",
      "3                   500<=X<1000\n",
      "4                        >=1000\n",
      "5                    100<=X<500\n",
      "-------------------------------------------------------------\n",
      "-------------------------------------------------------------\n",
      "outrosfinanc\n",
      "               outrosfinanciamentos\n",
      "idoutrosfinanc                     \n",
      "1                             banco\n",
      "2                              loja\n",
      "3                            nenhum\n",
      "-------------------------------------------------------------\n",
      "-------------------------------------------------------------\n",
      "profissao\n",
      "                                    profissao\n",
      "idprofissao                                  \n",
      "1            altamente qualificado/empresario\n",
      "2                                desempregado\n",
      "3                             nao qualificado\n",
      "4                                 qualificado\n",
      "-------------------------------------------------------------\n",
      "-------------------------------------------------------------\n",
      "proposito\n",
      "                 proposito\n",
      "idproposito               \n",
      "1                  reforma\n",
      "2                 educacao\n",
      "3                   moveis\n",
      "4             veiculo novo\n",
      "5            veiculo usado\n",
      "6            abrir negocio\n",
      "7            quitar divida\n",
      "8             reforma casa\n",
      "9                   outros\n",
      "10            qualificacao\n",
      "-------------------------------------------------------------\n"
     ]
    }
   ],
   "source": [
    "for key in data_dict:\n",
    "    print('-------------------------------------------------------------')\n",
    "    print(key)\n",
    "    print(data_dict[key][data])\n",
    "    print('-------------------------------------------------------------')  "
   ]
  },
  {
   "cell_type": "markdown",
   "metadata": {},
   "source": [
    "All DataFrame that I created have a 'extra' index because my routines put all 'id' columns in a \n",
    "DataFrame column. Now I'll try to reindex this."
   ]
  },
  {
   "cell_type": "code",
   "execution_count": 12,
   "metadata": {},
   "outputs": [],
   "source": [
    "# Reindex all data frame \n",
    "for key in data_dict:\n",
    "    data_dict[key][data].set_index(data_dict[key][data].columns[0],inplace=True) "
   ]
  },
  {
   "cell_type": "markdown",
   "metadata": {},
   "source": [
    "## Part 2 - Exploring data"
   ]
  },
  {
   "cell_type": "code",
   "execution_count": 13,
   "metadata": {},
   "outputs": [
    {
     "data": {
      "text/plain": [
       "dict_keys(['clientes', 'credito', 'emprego', 'estadocivil', 'fiador', 'habitacao', 'historico_credito', 'investimentos', 'outrosfinanc', 'profissao', 'proposito'])"
      ]
     },
     "execution_count": 13,
     "metadata": {},
     "output_type": "execute_result"
    }
   ],
   "source": [
    "data_dict.keys()"
   ]
  },
  {
   "cell_type": "code",
   "execution_count": 14,
   "metadata": {},
   "outputs": [],
   "source": [
    "credito = data_dict['credito'][data]"
   ]
  },
  {
   "cell_type": "code",
   "execution_count": 17,
   "metadata": {},
   "outputs": [
    {
     "data": {
      "text/html": [
       "<div>\n",
       "<style scoped>\n",
       "    .dataframe tbody tr th:only-of-type {\n",
       "        vertical-align: middle;\n",
       "    }\n",
       "\n",
       "    .dataframe tbody tr th {\n",
       "        vertical-align: top;\n",
       "    }\n",
       "\n",
       "    .dataframe thead th {\n",
       "        text-align: right;\n",
       "    }\n",
       "</style>\n",
       "<table border=\"1\" class=\"dataframe\">\n",
       "  <thead>\n",
       "    <tr style=\"text-align: right;\">\n",
       "      <th></th>\n",
       "      <th>duracao</th>\n",
       "      <th>historicocredito</th>\n",
       "      <th>proposito</th>\n",
       "      <th>valor</th>\n",
       "      <th>investimentos</th>\n",
       "      <th>emprego</th>\n",
       "      <th>tempoparcelamento</th>\n",
       "      <th>estadocivil</th>\n",
       "      <th>fiadorterceiros</th>\n",
       "      <th>residenciadesde</th>\n",
       "      <th>idade</th>\n",
       "      <th>outrosfinanciamentos</th>\n",
       "      <th>habitacao</th>\n",
       "      <th>emprestimoexistente</th>\n",
       "      <th>profissao</th>\n",
       "      <th>dependentes</th>\n",
       "      <th>socioempresa</th>\n",
       "      <th>estrangeiro</th>\n",
       "      <th>status</th>\n",
       "    </tr>\n",
       "    <tr>\n",
       "      <th>idcredito</th>\n",
       "      <th></th>\n",
       "      <th></th>\n",
       "      <th></th>\n",
       "      <th></th>\n",
       "      <th></th>\n",
       "      <th></th>\n",
       "      <th></th>\n",
       "      <th></th>\n",
       "      <th></th>\n",
       "      <th></th>\n",
       "      <th></th>\n",
       "      <th></th>\n",
       "      <th></th>\n",
       "      <th></th>\n",
       "      <th></th>\n",
       "      <th></th>\n",
       "      <th></th>\n",
       "      <th></th>\n",
       "      <th></th>\n",
       "    </tr>\n",
       "  </thead>\n",
       "  <tbody>\n",
       "    <tr>\n",
       "      <th>2</th>\n",
       "      <td>48</td>\n",
       "      <td>2</td>\n",
       "      <td>1</td>\n",
       "      <td>5951</td>\n",
       "      <td>2</td>\n",
       "      <td>3.0</td>\n",
       "      <td>2</td>\n",
       "      <td>1</td>\n",
       "      <td>3</td>\n",
       "      <td>2.0</td>\n",
       "      <td>22</td>\n",
       "      <td>3</td>\n",
       "      <td>1.0</td>\n",
       "      <td>1</td>\n",
       "      <td>4</td>\n",
       "      <td>1</td>\n",
       "      <td>0</td>\n",
       "      <td>0</td>\n",
       "      <td>0</td>\n",
       "    </tr>\n",
       "    <tr>\n",
       "      <th>3</th>\n",
       "      <td>12</td>\n",
       "      <td>1</td>\n",
       "      <td>2</td>\n",
       "      <td>2096</td>\n",
       "      <td>2</td>\n",
       "      <td>4.0</td>\n",
       "      <td>2</td>\n",
       "      <td>4</td>\n",
       "      <td>3</td>\n",
       "      <td>3.0</td>\n",
       "      <td>49</td>\n",
       "      <td>3</td>\n",
       "      <td>1.0</td>\n",
       "      <td>1</td>\n",
       "      <td>3</td>\n",
       "      <td>2</td>\n",
       "      <td>0</td>\n",
       "      <td>0</td>\n",
       "      <td>1</td>\n",
       "    </tr>\n",
       "    <tr>\n",
       "      <th>4</th>\n",
       "      <td>42</td>\n",
       "      <td>2</td>\n",
       "      <td>3</td>\n",
       "      <td>7882</td>\n",
       "      <td>2</td>\n",
       "      <td>4.0</td>\n",
       "      <td>2</td>\n",
       "      <td>4</td>\n",
       "      <td>4</td>\n",
       "      <td>4.0</td>\n",
       "      <td>45</td>\n",
       "      <td>3</td>\n",
       "      <td>2.0</td>\n",
       "      <td>1</td>\n",
       "      <td>4</td>\n",
       "      <td>2</td>\n",
       "      <td>0</td>\n",
       "      <td>0</td>\n",
       "      <td>1</td>\n",
       "    </tr>\n",
       "    <tr>\n",
       "      <th>5</th>\n",
       "      <td>24</td>\n",
       "      <td>3</td>\n",
       "      <td>4</td>\n",
       "      <td>4870</td>\n",
       "      <td>2</td>\n",
       "      <td>3.0</td>\n",
       "      <td>3</td>\n",
       "      <td>4</td>\n",
       "      <td>3</td>\n",
       "      <td>4.0</td>\n",
       "      <td>53</td>\n",
       "      <td>3</td>\n",
       "      <td>2.0</td>\n",
       "      <td>2</td>\n",
       "      <td>4</td>\n",
       "      <td>2</td>\n",
       "      <td>0</td>\n",
       "      <td>0</td>\n",
       "      <td>0</td>\n",
       "    </tr>\n",
       "    <tr>\n",
       "      <th>6</th>\n",
       "      <td>36</td>\n",
       "      <td>2</td>\n",
       "      <td>2</td>\n",
       "      <td>9055</td>\n",
       "      <td>1</td>\n",
       "      <td>3.0</td>\n",
       "      <td>2</td>\n",
       "      <td>4</td>\n",
       "      <td>3</td>\n",
       "      <td>4.0</td>\n",
       "      <td>35</td>\n",
       "      <td>3</td>\n",
       "      <td>2.0</td>\n",
       "      <td>1</td>\n",
       "      <td>3</td>\n",
       "      <td>2</td>\n",
       "      <td>1</td>\n",
       "      <td>0</td>\n",
       "      <td>1</td>\n",
       "    </tr>\n",
       "  </tbody>\n",
       "</table>\n",
       "</div>"
      ],
      "text/plain": [
       "           duracao  historicocredito  proposito  valor  investimentos  \\\n",
       "idcredito                                                               \n",
       "2               48                 2          1   5951              2   \n",
       "3               12                 1          2   2096              2   \n",
       "4               42                 2          3   7882              2   \n",
       "5               24                 3          4   4870              2   \n",
       "6               36                 2          2   9055              1   \n",
       "\n",
       "           emprego  tempoparcelamento  estadocivil  fiadorterceiros  \\\n",
       "idcredito                                                             \n",
       "2              3.0                  2            1                3   \n",
       "3              4.0                  2            4                3   \n",
       "4              4.0                  2            4                4   \n",
       "5              3.0                  3            4                3   \n",
       "6              3.0                  2            4                3   \n",
       "\n",
       "           residenciadesde  idade  outrosfinanciamentos  habitacao  \\\n",
       "idcredito                                                            \n",
       "2                      2.0     22                     3        1.0   \n",
       "3                      3.0     49                     3        1.0   \n",
       "4                      4.0     45                     3        2.0   \n",
       "5                      4.0     53                     3        2.0   \n",
       "6                      4.0     35                     3        2.0   \n",
       "\n",
       "           emprestimoexistente  profissao  dependentes  socioempresa  \\\n",
       "idcredito                                                              \n",
       "2                            1          4            1             0   \n",
       "3                            1          3            2             0   \n",
       "4                            1          4            2             0   \n",
       "5                            2          4            2             0   \n",
       "6                            1          3            2             1   \n",
       "\n",
       "           estrangeiro  status  \n",
       "idcredito                       \n",
       "2                    0       0  \n",
       "3                    0       1  \n",
       "4                    0       1  \n",
       "5                    0       0  \n",
       "6                    0       1  "
      ]
     },
     "execution_count": 17,
     "metadata": {},
     "output_type": "execute_result"
    }
   ],
   "source": [
    "credito.head()"
   ]
  },
  {
   "cell_type": "code",
   "execution_count": 15,
   "metadata": {},
   "outputs": [
    {
     "name": "stdout",
     "output_type": "stream",
     "text": [
      "<class 'pandas.core.frame.DataFrame'>\n",
      "Int64Index: 1000 entries, 2 to 565\n",
      "Data columns (total 19 columns):\n",
      " #   Column                Non-Null Count  Dtype  \n",
      "---  ------                --------------  -----  \n",
      " 0   duracao               1000 non-null   int64  \n",
      " 1   historicocredito      1000 non-null   int64  \n",
      " 2   proposito             1000 non-null   int64  \n",
      " 3   valor                 1000 non-null   int64  \n",
      " 4   investimentos         1000 non-null   int64  \n",
      " 5   emprego               990 non-null    float64\n",
      " 6   tempoparcelamento     1000 non-null   int64  \n",
      " 7   estadocivil           1000 non-null   int64  \n",
      " 8   fiadorterceiros       1000 non-null   int64  \n",
      " 9   residenciadesde       993 non-null    float64\n",
      " 10  idade                 1000 non-null   int64  \n",
      " 11  outrosfinanciamentos  1000 non-null   int64  \n",
      " 12  habitacao             991 non-null    float64\n",
      " 13  emprestimoexistente   1000 non-null   int64  \n",
      " 14  profissao             1000 non-null   int64  \n",
      " 15  dependentes           1000 non-null   int64  \n",
      " 16  socioempresa          1000 non-null   int64  \n",
      " 17  estrangeiro           1000 non-null   int64  \n",
      " 18  status                1000 non-null   int64  \n",
      "dtypes: float64(3), int64(16)\n",
      "memory usage: 156.2 KB\n"
     ]
    }
   ],
   "source": [
    "credito.info()"
   ]
  },
  {
   "cell_type": "markdown",
   "metadata": {},
   "source": [
    "In first look I have: <br>\n",
    "10 records without emprego; <br>\n",
    "7 records without residenciadesde; <br>\n",
    "9 records without habitacao."
   ]
  },
  {
   "cell_type": "code",
   "execution_count": 16,
   "metadata": {},
   "outputs": [],
   "source": [
    "# About emprego\n",
    "emprego = data_dict['emprego'][data]"
   ]
  },
  {
   "cell_type": "code",
   "execution_count": 17,
   "metadata": {},
   "outputs": [
    {
     "data": {
      "text/html": [
       "<div>\n",
       "<style scoped>\n",
       "    .dataframe tbody tr th:only-of-type {\n",
       "        vertical-align: middle;\n",
       "    }\n",
       "\n",
       "    .dataframe tbody tr th {\n",
       "        vertical-align: top;\n",
       "    }\n",
       "\n",
       "    .dataframe thead th {\n",
       "        text-align: right;\n",
       "    }\n",
       "</style>\n",
       "<table border=\"1\" class=\"dataframe\">\n",
       "  <thead>\n",
       "    <tr style=\"text-align: right;\">\n",
       "      <th></th>\n",
       "      <th>emprego</th>\n",
       "    </tr>\n",
       "    <tr>\n",
       "      <th>idemprego</th>\n",
       "      <th></th>\n",
       "    </tr>\n",
       "  </thead>\n",
       "  <tbody>\n",
       "    <tr>\n",
       "      <th>1</th>\n",
       "      <td>&lt;1</td>\n",
       "    </tr>\n",
       "    <tr>\n",
       "      <th>2</th>\n",
       "      <td>&gt;=7</td>\n",
       "    </tr>\n",
       "    <tr>\n",
       "      <th>3</th>\n",
       "      <td>1&lt;=X&lt;4</td>\n",
       "    </tr>\n",
       "    <tr>\n",
       "      <th>4</th>\n",
       "      <td>4&lt;=X&lt;7</td>\n",
       "    </tr>\n",
       "    <tr>\n",
       "      <th>5</th>\n",
       "      <td>Desempregado</td>\n",
       "    </tr>\n",
       "  </tbody>\n",
       "</table>\n",
       "</div>"
      ],
      "text/plain": [
       "                emprego\n",
       "idemprego              \n",
       "1                    <1\n",
       "2                   >=7\n",
       "3                1<=X<4\n",
       "4                4<=X<7\n",
       "5          Desempregado"
      ]
     },
     "execution_count": 17,
     "metadata": {},
     "output_type": "execute_result"
    }
   ],
   "source": [
    "emprego"
   ]
  },
  {
   "cell_type": "code",
   "execution_count": 18,
   "metadata": {},
   "outputs": [
    {
     "data": {
      "text/plain": [
       "array([ 3.,  4.,  2.,  1.,  5., nan])"
      ]
     },
     "execution_count": 18,
     "metadata": {},
     "output_type": "execute_result"
    }
   ],
   "source": [
    "credito['emprego'].unique()"
   ]
  },
  {
   "cell_type": "code",
   "execution_count": 19,
   "metadata": {},
   "outputs": [
    {
     "data": {
      "text/plain": [
       "emprego\n",
       "1.0    171\n",
       "2.0    247\n",
       "3.0    338\n",
       "4.0    172\n",
       "5.0     62\n",
       "dtype: int64"
      ]
     },
     "execution_count": 19,
     "metadata": {},
     "output_type": "execute_result"
    }
   ],
   "source": [
    "# verify how emprego are distributed\n",
    "job_group = credito.groupby(['emprego']).size()\n",
    "job_group"
   ]
  },
  {
   "cell_type": "code",
   "execution_count": 20,
   "metadata": {},
   "outputs": [
    {
     "data": {
      "text/html": [
       "<div>\n",
       "<style scoped>\n",
       "    .dataframe tbody tr th:only-of-type {\n",
       "        vertical-align: middle;\n",
       "    }\n",
       "\n",
       "    .dataframe tbody tr th {\n",
       "        vertical-align: top;\n",
       "    }\n",
       "\n",
       "    .dataframe thead th {\n",
       "        text-align: right;\n",
       "    }\n",
       "</style>\n",
       "<table border=\"1\" class=\"dataframe\">\n",
       "  <thead>\n",
       "    <tr style=\"text-align: right;\">\n",
       "      <th></th>\n",
       "      <th>duracao</th>\n",
       "      <th>historicocredito</th>\n",
       "      <th>proposito</th>\n",
       "      <th>valor</th>\n",
       "      <th>investimentos</th>\n",
       "      <th>emprego</th>\n",
       "      <th>tempoparcelamento</th>\n",
       "      <th>estadocivil</th>\n",
       "      <th>fiadorterceiros</th>\n",
       "      <th>residenciadesde</th>\n",
       "      <th>idade</th>\n",
       "      <th>outrosfinanciamentos</th>\n",
       "      <th>habitacao</th>\n",
       "      <th>emprestimoexistente</th>\n",
       "      <th>profissao</th>\n",
       "      <th>dependentes</th>\n",
       "      <th>socioempresa</th>\n",
       "      <th>estrangeiro</th>\n",
       "      <th>status</th>\n",
       "    </tr>\n",
       "    <tr>\n",
       "      <th>idcredito</th>\n",
       "      <th></th>\n",
       "      <th></th>\n",
       "      <th></th>\n",
       "      <th></th>\n",
       "      <th></th>\n",
       "      <th></th>\n",
       "      <th></th>\n",
       "      <th></th>\n",
       "      <th></th>\n",
       "      <th></th>\n",
       "      <th></th>\n",
       "      <th></th>\n",
       "      <th></th>\n",
       "      <th></th>\n",
       "      <th></th>\n",
       "      <th></th>\n",
       "      <th></th>\n",
       "      <th></th>\n",
       "      <th></th>\n",
       "    </tr>\n",
       "  </thead>\n",
       "  <tbody>\n",
       "    <tr>\n",
       "      <th>1</th>\n",
       "      <td>6</td>\n",
       "      <td>0</td>\n",
       "      <td>1</td>\n",
       "      <td>1169</td>\n",
       "      <td>1</td>\n",
       "      <td>NaN</td>\n",
       "      <td>4</td>\n",
       "      <td>4</td>\n",
       "      <td>3</td>\n",
       "      <td>4.0</td>\n",
       "      <td>67</td>\n",
       "      <td>3</td>\n",
       "      <td>1.0</td>\n",
       "      <td>2</td>\n",
       "      <td>4</td>\n",
       "      <td>1</td>\n",
       "      <td>1</td>\n",
       "      <td>0</td>\n",
       "      <td>1</td>\n",
       "    </tr>\n",
       "    <tr>\n",
       "      <th>78</th>\n",
       "      <td>11</td>\n",
       "      <td>3</td>\n",
       "      <td>1</td>\n",
       "      <td>4771</td>\n",
       "      <td>2</td>\n",
       "      <td>NaN</td>\n",
       "      <td>2</td>\n",
       "      <td>4</td>\n",
       "      <td>3</td>\n",
       "      <td>4.0</td>\n",
       "      <td>51</td>\n",
       "      <td>3</td>\n",
       "      <td>1.0</td>\n",
       "      <td>1</td>\n",
       "      <td>4</td>\n",
       "      <td>1</td>\n",
       "      <td>0</td>\n",
       "      <td>0</td>\n",
       "      <td>1</td>\n",
       "    </tr>\n",
       "    <tr>\n",
       "      <th>145</th>\n",
       "      <td>21</td>\n",
       "      <td>1</td>\n",
       "      <td>3</td>\n",
       "      <td>2288</td>\n",
       "      <td>2</td>\n",
       "      <td>NaN</td>\n",
       "      <td>4</td>\n",
       "      <td>1</td>\n",
       "      <td>3</td>\n",
       "      <td>4.0</td>\n",
       "      <td>23</td>\n",
       "      <td>3</td>\n",
       "      <td>NaN</td>\n",
       "      <td>1</td>\n",
       "      <td>4</td>\n",
       "      <td>1</td>\n",
       "      <td>1</td>\n",
       "      <td>0</td>\n",
       "      <td>1</td>\n",
       "    </tr>\n",
       "    <tr>\n",
       "      <th>960</th>\n",
       "      <td>24</td>\n",
       "      <td>2</td>\n",
       "      <td>3</td>\n",
       "      <td>3069</td>\n",
       "      <td>5</td>\n",
       "      <td>NaN</td>\n",
       "      <td>4</td>\n",
       "      <td>4</td>\n",
       "      <td>3</td>\n",
       "      <td>NaN</td>\n",
       "      <td>30</td>\n",
       "      <td>3</td>\n",
       "      <td>2.0</td>\n",
       "      <td>1</td>\n",
       "      <td>4</td>\n",
       "      <td>1</td>\n",
       "      <td>0</td>\n",
       "      <td>0</td>\n",
       "      <td>1</td>\n",
       "    </tr>\n",
       "    <tr>\n",
       "      <th>56</th>\n",
       "      <td>6</td>\n",
       "      <td>5</td>\n",
       "      <td>4</td>\n",
       "      <td>783</td>\n",
       "      <td>1</td>\n",
       "      <td>NaN</td>\n",
       "      <td>1</td>\n",
       "      <td>4</td>\n",
       "      <td>4</td>\n",
       "      <td>2.0</td>\n",
       "      <td>26</td>\n",
       "      <td>2</td>\n",
       "      <td>1.0</td>\n",
       "      <td>1</td>\n",
       "      <td>3</td>\n",
       "      <td>2</td>\n",
       "      <td>0</td>\n",
       "      <td>0</td>\n",
       "      <td>1</td>\n",
       "    </tr>\n",
       "    <tr>\n",
       "      <th>270</th>\n",
       "      <td>24</td>\n",
       "      <td>2</td>\n",
       "      <td>1</td>\n",
       "      <td>999</td>\n",
       "      <td>1</td>\n",
       "      <td>NaN</td>\n",
       "      <td>4</td>\n",
       "      <td>4</td>\n",
       "      <td>3</td>\n",
       "      <td>2.0</td>\n",
       "      <td>25</td>\n",
       "      <td>3</td>\n",
       "      <td>1.0</td>\n",
       "      <td>2</td>\n",
       "      <td>4</td>\n",
       "      <td>1</td>\n",
       "      <td>0</td>\n",
       "      <td>0</td>\n",
       "      <td>1</td>\n",
       "    </tr>\n",
       "    <tr>\n",
       "      <th>896</th>\n",
       "      <td>36</td>\n",
       "      <td>3</td>\n",
       "      <td>5</td>\n",
       "      <td>8947</td>\n",
       "      <td>1</td>\n",
       "      <td>NaN</td>\n",
       "      <td>3</td>\n",
       "      <td>4</td>\n",
       "      <td>3</td>\n",
       "      <td>2.0</td>\n",
       "      <td>31</td>\n",
       "      <td>2</td>\n",
       "      <td>1.0</td>\n",
       "      <td>1</td>\n",
       "      <td>1</td>\n",
       "      <td>2</td>\n",
       "      <td>1</td>\n",
       "      <td>0</td>\n",
       "      <td>1</td>\n",
       "    </tr>\n",
       "    <tr>\n",
       "      <th>199</th>\n",
       "      <td>24</td>\n",
       "      <td>2</td>\n",
       "      <td>5</td>\n",
       "      <td>2760</td>\n",
       "      <td>1</td>\n",
       "      <td>NaN</td>\n",
       "      <td>4</td>\n",
       "      <td>4</td>\n",
       "      <td>3</td>\n",
       "      <td>4.0</td>\n",
       "      <td>36</td>\n",
       "      <td>1</td>\n",
       "      <td>NaN</td>\n",
       "      <td>1</td>\n",
       "      <td>4</td>\n",
       "      <td>1</td>\n",
       "      <td>1</td>\n",
       "      <td>0</td>\n",
       "      <td>1</td>\n",
       "    </tr>\n",
       "    <tr>\n",
       "      <th>45</th>\n",
       "      <td>48</td>\n",
       "      <td>1</td>\n",
       "      <td>5</td>\n",
       "      <td>6143</td>\n",
       "      <td>2</td>\n",
       "      <td>NaN</td>\n",
       "      <td>4</td>\n",
       "      <td>1</td>\n",
       "      <td>3</td>\n",
       "      <td>4.0</td>\n",
       "      <td>58</td>\n",
       "      <td>2</td>\n",
       "      <td>2.0</td>\n",
       "      <td>2</td>\n",
       "      <td>999</td>\n",
       "      <td>1</td>\n",
       "      <td>0</td>\n",
       "      <td>0</td>\n",
       "      <td>0</td>\n",
       "    </tr>\n",
       "    <tr>\n",
       "      <th>95</th>\n",
       "      <td>12</td>\n",
       "      <td>2</td>\n",
       "      <td>4</td>\n",
       "      <td>1318</td>\n",
       "      <td>4</td>\n",
       "      <td>NaN</td>\n",
       "      <td>4</td>\n",
       "      <td>4</td>\n",
       "      <td>3</td>\n",
       "      <td>4.0</td>\n",
       "      <td>54</td>\n",
       "      <td>3</td>\n",
       "      <td>1.0</td>\n",
       "      <td>1</td>\n",
       "      <td>999</td>\n",
       "      <td>1</td>\n",
       "      <td>1</td>\n",
       "      <td>0</td>\n",
       "      <td>1</td>\n",
       "    </tr>\n",
       "  </tbody>\n",
       "</table>\n",
       "</div>"
      ],
      "text/plain": [
       "           duracao  historicocredito  proposito  valor  investimentos  \\\n",
       "idcredito                                                               \n",
       "1                6                 0          1   1169              1   \n",
       "78              11                 3          1   4771              2   \n",
       "145             21                 1          3   2288              2   \n",
       "960             24                 2          3   3069              5   \n",
       "56               6                 5          4    783              1   \n",
       "270             24                 2          1    999              1   \n",
       "896             36                 3          5   8947              1   \n",
       "199             24                 2          5   2760              1   \n",
       "45              48                 1          5   6143              2   \n",
       "95              12                 2          4   1318              4   \n",
       "\n",
       "           emprego  tempoparcelamento  estadocivil  fiadorterceiros  \\\n",
       "idcredito                                                             \n",
       "1              NaN                  4            4                3   \n",
       "78             NaN                  2            4                3   \n",
       "145            NaN                  4            1                3   \n",
       "960            NaN                  4            4                3   \n",
       "56             NaN                  1            4                4   \n",
       "270            NaN                  4            4                3   \n",
       "896            NaN                  3            4                3   \n",
       "199            NaN                  4            4                3   \n",
       "45             NaN                  4            1                3   \n",
       "95             NaN                  4            4                3   \n",
       "\n",
       "           residenciadesde  idade  outrosfinanciamentos  habitacao  \\\n",
       "idcredito                                                            \n",
       "1                      4.0     67                     3        1.0   \n",
       "78                     4.0     51                     3        1.0   \n",
       "145                    4.0     23                     3        NaN   \n",
       "960                    NaN     30                     3        2.0   \n",
       "56                     2.0     26                     2        1.0   \n",
       "270                    2.0     25                     3        1.0   \n",
       "896                    2.0     31                     2        1.0   \n",
       "199                    4.0     36                     1        NaN   \n",
       "45                     4.0     58                     2        2.0   \n",
       "95                     4.0     54                     3        1.0   \n",
       "\n",
       "           emprestimoexistente  profissao  dependentes  socioempresa  \\\n",
       "idcredito                                                              \n",
       "1                            2          4            1             1   \n",
       "78                           1          4            1             0   \n",
       "145                          1          4            1             1   \n",
       "960                          1          4            1             0   \n",
       "56                           1          3            2             0   \n",
       "270                          2          4            1             0   \n",
       "896                          1          1            2             1   \n",
       "199                          1          4            1             1   \n",
       "45                           2        999            1             0   \n",
       "95                           1        999            1             1   \n",
       "\n",
       "           estrangeiro  status  \n",
       "idcredito                       \n",
       "1                    0       1  \n",
       "78                   0       1  \n",
       "145                  0       1  \n",
       "960                  0       1  \n",
       "56                   0       1  \n",
       "270                  0       1  \n",
       "896                  0       1  \n",
       "199                  0       1  \n",
       "45                   0       0  \n",
       "95                   0       1  "
      ]
     },
     "execution_count": 20,
     "metadata": {},
     "output_type": "execute_result"
    }
   ],
   "source": [
    "credito[credito['emprego'].isnull()]"
   ]
  },
  {
   "cell_type": "markdown",
   "metadata": {},
   "source": [
    "Besides the emprego is null the profissao was filled so I decide to grap the average of each profissao to fill emprego column."
   ]
  },
  {
   "cell_type": "code",
   "execution_count": 21,
   "metadata": {},
   "outputs": [
    {
     "data": {
      "text/plain": [
       "idcredito\n",
       "1        4\n",
       "78       4\n",
       "145      4\n",
       "960      4\n",
       "56       3\n",
       "270      4\n",
       "896      1\n",
       "199      4\n",
       "45     999\n",
       "95     999\n",
       "Name: profissao, dtype: int64"
      ]
     },
     "execution_count": 21,
     "metadata": {},
     "output_type": "execute_result"
    }
   ],
   "source": [
    "credito[credito['emprego'].isnull()]['profissao']"
   ]
  },
  {
   "cell_type": "code",
   "execution_count": 22,
   "metadata": {},
   "outputs": [],
   "source": [
    "avg_emprego_4 = credito[credito['profissao'] == 4].groupby(['emprego']).size()"
   ]
  },
  {
   "cell_type": "code",
   "execution_count": 23,
   "metadata": {},
   "outputs": [
    {
     "data": {
      "text/plain": [
       "emprego\n",
       "1.0    105\n",
       "2.0    156\n",
       "3.0    228\n",
       "4.0    118\n",
       "5.0     12\n",
       "dtype: int64"
      ]
     },
     "execution_count": 23,
     "metadata": {},
     "output_type": "execute_result"
    }
   ],
   "source": [
    "avg_emprego_4"
   ]
  },
  {
   "cell_type": "code",
   "execution_count": 24,
   "metadata": {},
   "outputs": [],
   "source": [
    "avg_emprego_3 = credito[credito['profissao'] == 3].groupby(['emprego']).size()"
   ]
  },
  {
   "cell_type": "code",
   "execution_count": 25,
   "metadata": {},
   "outputs": [
    {
     "data": {
      "text/plain": [
       "emprego\n",
       "1.0    44\n",
       "2.0    39\n",
       "3.0    78\n",
       "4.0    34\n",
       "5.0     1\n",
       "dtype: int64"
      ]
     },
     "execution_count": 25,
     "metadata": {},
     "output_type": "execute_result"
    }
   ],
   "source": [
    "avg_emprego_3"
   ]
  },
  {
   "cell_type": "code",
   "execution_count": 26,
   "metadata": {},
   "outputs": [],
   "source": [
    "avg_emprego_1 = credito[credito['profissao'] == 1].groupby(['emprego']).size()"
   ]
  },
  {
   "cell_type": "code",
   "execution_count": 27,
   "metadata": {},
   "outputs": [
    {
     "data": {
      "text/plain": [
       "emprego\n",
       "1.0    16\n",
       "2.0    50\n",
       "3.0    28\n",
       "4.0    19\n",
       "5.0    33\n",
       "dtype: int64"
      ]
     },
     "execution_count": 27,
     "metadata": {},
     "output_type": "execute_result"
    }
   ],
   "source": [
    "avg_emprego_1"
   ]
  },
  {
   "cell_type": "code",
   "execution_count": 28,
   "metadata": {},
   "outputs": [],
   "source": [
    "avg_emprego_999 = credito[credito['profissao'] == 999].groupby(['emprego']).size()"
   ]
  },
  {
   "cell_type": "code",
   "execution_count": 29,
   "metadata": {},
   "outputs": [
    {
     "data": {
      "text/plain": [
       "emprego\n",
       "1.0    1\n",
       "2.0    2\n",
       "3.0    3\n",
       "4.0    1\n",
       "dtype: int64"
      ]
     },
     "execution_count": 29,
     "metadata": {},
     "output_type": "execute_result"
    }
   ],
   "source": [
    "avg_emprego_999"
   ]
  },
  {
   "cell_type": "markdown",
   "metadata": {},
   "source": [
    "After some obsrevations we have:<br>\n",
    "- profissao 999, 3 and 4 => max(emprego) == 3<br>\n",
    "- profissao 1 => max(emprego) == 2"
   ]
  },
  {
   "cell_type": "code",
   "execution_count": 30,
   "metadata": {},
   "outputs": [
    {
     "data": {
      "text/plain": [
       "True"
      ]
     },
     "execution_count": 30,
     "metadata": {},
     "output_type": "execute_result"
    }
   ],
   "source": [
    "credito['emprego'].isnull().values.any()"
   ]
  },
  {
   "cell_type": "markdown",
   "metadata": {},
   "source": [
    "#### This is the right way to correcting 'emprego' missing data"
   ]
  },
  {
   "cell_type": "code",
   "execution_count": 31,
   "metadata": {},
   "outputs": [],
   "source": [
    "credito.loc[(credito['profissao'] == 3) & (credito['emprego'].isnull()),'emprego'] = 3.0"
   ]
  },
  {
   "cell_type": "code",
   "execution_count": 32,
   "metadata": {},
   "outputs": [],
   "source": [
    "credito.loc[(credito['profissao'] == 4) & (credito['emprego'].isnull()),'emprego'] = 3.0"
   ]
  },
  {
   "cell_type": "code",
   "execution_count": 33,
   "metadata": {},
   "outputs": [],
   "source": [
    "credito.loc[(credito['profissao'] == 999) & (credito['emprego'].isnull()),'emprego'] = 3.0"
   ]
  },
  {
   "cell_type": "code",
   "execution_count": 34,
   "metadata": {},
   "outputs": [],
   "source": [
    "credito.loc[(credito['profissao'] == 1) & (credito['emprego'].isnull()),'emprego'] = 2.0"
   ]
  },
  {
   "cell_type": "code",
   "execution_count": 35,
   "metadata": {},
   "outputs": [
    {
     "name": "stdout",
     "output_type": "stream",
     "text": [
      "<class 'pandas.core.frame.DataFrame'>\n",
      "Int64Index: 1000 entries, 2 to 565\n",
      "Data columns (total 19 columns):\n",
      " #   Column                Non-Null Count  Dtype  \n",
      "---  ------                --------------  -----  \n",
      " 0   duracao               1000 non-null   int64  \n",
      " 1   historicocredito      1000 non-null   int64  \n",
      " 2   proposito             1000 non-null   int64  \n",
      " 3   valor                 1000 non-null   int64  \n",
      " 4   investimentos         1000 non-null   int64  \n",
      " 5   emprego               1000 non-null   float64\n",
      " 6   tempoparcelamento     1000 non-null   int64  \n",
      " 7   estadocivil           1000 non-null   int64  \n",
      " 8   fiadorterceiros       1000 non-null   int64  \n",
      " 9   residenciadesde       993 non-null    float64\n",
      " 10  idade                 1000 non-null   int64  \n",
      " 11  outrosfinanciamentos  1000 non-null   int64  \n",
      " 12  habitacao             991 non-null    float64\n",
      " 13  emprestimoexistente   1000 non-null   int64  \n",
      " 14  profissao             1000 non-null   int64  \n",
      " 15  dependentes           1000 non-null   int64  \n",
      " 16  socioempresa          1000 non-null   int64  \n",
      " 17  estrangeiro           1000 non-null   int64  \n",
      " 18  status                1000 non-null   int64  \n",
      "dtypes: float64(3), int64(16)\n",
      "memory usage: 156.2 KB\n"
     ]
    }
   ],
   "source": [
    "credito.info()"
   ]
  },
  {
   "cell_type": "code",
   "execution_count": 57,
   "metadata": {},
   "outputs": [
    {
     "data": {
      "text/plain": [
       "idcredito\n",
       "35     33\n",
       "15     28\n",
       "200    40\n",
       "75     40\n",
       "350    32\n",
       "650    40\n",
       "960    30\n",
       "Name: idade, dtype: int64"
      ]
     },
     "execution_count": 57,
     "metadata": {},
     "output_type": "execute_result"
    }
   ],
   "source": [
    "credito[credito['residenciadesde'].isnull()]['idade']"
   ]
  },
  {
   "cell_type": "code",
   "execution_count": 56,
   "metadata": {},
   "outputs": [
    {
     "data": {
      "text/plain": [
       "residenciadesde\n",
       "1.0    129\n",
       "2.0    308\n",
       "3.0    147\n",
       "4.0    409\n",
       "dtype: int64"
      ]
     },
     "execution_count": 56,
     "metadata": {},
     "output_type": "execute_result"
    }
   ],
   "source": [
    "residenciadesde_group = credito.groupby(['residenciadesde']).size()\n",
    "residenciadesde_group"
   ]
  },
  {
   "cell_type": "code",
   "execution_count": 36,
   "metadata": {},
   "outputs": [],
   "source": [
    "credito['residenciadesde'].fillna(4.0, inplace=True)"
   ]
  },
  {
   "cell_type": "code",
   "execution_count": 50,
   "metadata": {},
   "outputs": [
    {
     "name": "stdout",
     "output_type": "stream",
     "text": [
      "<class 'pandas.core.frame.DataFrame'>\n",
      "Int64Index: 1000 entries, 2 to 565\n",
      "Data columns (total 19 columns):\n",
      " #   Column                Non-Null Count  Dtype  \n",
      "---  ------                --------------  -----  \n",
      " 0   duracao               1000 non-null   int64  \n",
      " 1   historicocredito      1000 non-null   int64  \n",
      " 2   proposito             1000 non-null   int64  \n",
      " 3   valor                 1000 non-null   int64  \n",
      " 4   investimentos         1000 non-null   int64  \n",
      " 5   emprego               1000 non-null   float64\n",
      " 6   tempoparcelamento     1000 non-null   int64  \n",
      " 7   estadocivil           1000 non-null   int64  \n",
      " 8   fiadorterceiros       1000 non-null   int64  \n",
      " 9   residenciadesde       1000 non-null   float64\n",
      " 10  idade                 1000 non-null   int64  \n",
      " 11  outrosfinanciamentos  1000 non-null   int64  \n",
      " 12  habitacao             991 non-null    float64\n",
      " 13  emprestimoexistente   1000 non-null   int64  \n",
      " 14  profissao             1000 non-null   int64  \n",
      " 15  dependentes           1000 non-null   int64  \n",
      " 16  socioempresa          1000 non-null   int64  \n",
      " 17  estrangeiro           1000 non-null   int64  \n",
      " 18  status                1000 non-null   int64  \n",
      "dtypes: float64(3), int64(16)\n",
      "memory usage: 156.2 KB\n"
     ]
    }
   ],
   "source": [
    "credito.info()"
   ]
  },
  {
   "cell_type": "code",
   "execution_count": 60,
   "metadata": {},
   "outputs": [
    {
     "data": {
      "text/html": [
       "<div>\n",
       "<style scoped>\n",
       "    .dataframe tbody tr th:only-of-type {\n",
       "        vertical-align: middle;\n",
       "    }\n",
       "\n",
       "    .dataframe tbody tr th {\n",
       "        vertical-align: top;\n",
       "    }\n",
       "\n",
       "    .dataframe thead th {\n",
       "        text-align: right;\n",
       "    }\n",
       "</style>\n",
       "<table border=\"1\" class=\"dataframe\">\n",
       "  <thead>\n",
       "    <tr style=\"text-align: right;\">\n",
       "      <th></th>\n",
       "      <th>duracao</th>\n",
       "      <th>historicocredito</th>\n",
       "      <th>proposito</th>\n",
       "      <th>valor</th>\n",
       "      <th>investimentos</th>\n",
       "      <th>emprego</th>\n",
       "      <th>tempoparcelamento</th>\n",
       "      <th>estadocivil</th>\n",
       "      <th>fiadorterceiros</th>\n",
       "      <th>residenciadesde</th>\n",
       "      <th>idade</th>\n",
       "      <th>outrosfinanciamentos</th>\n",
       "      <th>habitacao</th>\n",
       "      <th>emprestimoexistente</th>\n",
       "      <th>profissao</th>\n",
       "      <th>dependentes</th>\n",
       "      <th>socioempresa</th>\n",
       "      <th>estrangeiro</th>\n",
       "      <th>status</th>\n",
       "    </tr>\n",
       "    <tr>\n",
       "      <th>idcredito</th>\n",
       "      <th></th>\n",
       "      <th></th>\n",
       "      <th></th>\n",
       "      <th></th>\n",
       "      <th></th>\n",
       "      <th></th>\n",
       "      <th></th>\n",
       "      <th></th>\n",
       "      <th></th>\n",
       "      <th></th>\n",
       "      <th></th>\n",
       "      <th></th>\n",
       "      <th></th>\n",
       "      <th></th>\n",
       "      <th></th>\n",
       "      <th></th>\n",
       "      <th></th>\n",
       "      <th></th>\n",
       "      <th></th>\n",
       "    </tr>\n",
       "  </thead>\n",
       "  <tbody>\n",
       "    <tr>\n",
       "      <th>8</th>\n",
       "      <td>36</td>\n",
       "      <td>2</td>\n",
       "      <td>5</td>\n",
       "      <td>6948</td>\n",
       "      <td>2</td>\n",
       "      <td>3.0</td>\n",
       "      <td>2</td>\n",
       "      <td>4</td>\n",
       "      <td>3</td>\n",
       "      <td>2.0</td>\n",
       "      <td>35</td>\n",
       "      <td>3</td>\n",
       "      <td>NaN</td>\n",
       "      <td>1</td>\n",
       "      <td>1</td>\n",
       "      <td>1</td>\n",
       "      <td>1</td>\n",
       "      <td>0</td>\n",
       "      <td>1</td>\n",
       "    </tr>\n",
       "    <tr>\n",
       "      <th>12</th>\n",
       "      <td>48</td>\n",
       "      <td>2</td>\n",
       "      <td>6</td>\n",
       "      <td>4308</td>\n",
       "      <td>2</td>\n",
       "      <td>1.0</td>\n",
       "      <td>3</td>\n",
       "      <td>1</td>\n",
       "      <td>3</td>\n",
       "      <td>4.0</td>\n",
       "      <td>24</td>\n",
       "      <td>3</td>\n",
       "      <td>NaN</td>\n",
       "      <td>1</td>\n",
       "      <td>4</td>\n",
       "      <td>1</td>\n",
       "      <td>0</td>\n",
       "      <td>0</td>\n",
       "      <td>0</td>\n",
       "    </tr>\n",
       "    <tr>\n",
       "      <th>145</th>\n",
       "      <td>21</td>\n",
       "      <td>1</td>\n",
       "      <td>3</td>\n",
       "      <td>2288</td>\n",
       "      <td>2</td>\n",
       "      <td>3.0</td>\n",
       "      <td>4</td>\n",
       "      <td>1</td>\n",
       "      <td>3</td>\n",
       "      <td>4.0</td>\n",
       "      <td>23</td>\n",
       "      <td>3</td>\n",
       "      <td>NaN</td>\n",
       "      <td>1</td>\n",
       "      <td>4</td>\n",
       "      <td>1</td>\n",
       "      <td>1</td>\n",
       "      <td>0</td>\n",
       "      <td>1</td>\n",
       "    </tr>\n",
       "    <tr>\n",
       "      <th>945</th>\n",
       "      <td>15</td>\n",
       "      <td>2</td>\n",
       "      <td>3</td>\n",
       "      <td>1845</td>\n",
       "      <td>2</td>\n",
       "      <td>1.0</td>\n",
       "      <td>4</td>\n",
       "      <td>1</td>\n",
       "      <td>4</td>\n",
       "      <td>1.0</td>\n",
       "      <td>46</td>\n",
       "      <td>3</td>\n",
       "      <td>NaN</td>\n",
       "      <td>1</td>\n",
       "      <td>4</td>\n",
       "      <td>1</td>\n",
       "      <td>0</td>\n",
       "      <td>0</td>\n",
       "      <td>1</td>\n",
       "    </tr>\n",
       "    <tr>\n",
       "      <th>199</th>\n",
       "      <td>24</td>\n",
       "      <td>2</td>\n",
       "      <td>5</td>\n",
       "      <td>2760</td>\n",
       "      <td>1</td>\n",
       "      <td>3.0</td>\n",
       "      <td>4</td>\n",
       "      <td>4</td>\n",
       "      <td>3</td>\n",
       "      <td>4.0</td>\n",
       "      <td>36</td>\n",
       "      <td>1</td>\n",
       "      <td>NaN</td>\n",
       "      <td>1</td>\n",
       "      <td>4</td>\n",
       "      <td>1</td>\n",
       "      <td>1</td>\n",
       "      <td>0</td>\n",
       "      <td>1</td>\n",
       "    </tr>\n",
       "    <tr>\n",
       "      <th>356</th>\n",
       "      <td>24</td>\n",
       "      <td>2</td>\n",
       "      <td>4</td>\n",
       "      <td>1246</td>\n",
       "      <td>2</td>\n",
       "      <td>1.0</td>\n",
       "      <td>4</td>\n",
       "      <td>4</td>\n",
       "      <td>3</td>\n",
       "      <td>2.0</td>\n",
       "      <td>23</td>\n",
       "      <td>2</td>\n",
       "      <td>NaN</td>\n",
       "      <td>1</td>\n",
       "      <td>3</td>\n",
       "      <td>1</td>\n",
       "      <td>0</td>\n",
       "      <td>0</td>\n",
       "      <td>0</td>\n",
       "    </tr>\n",
       "    <tr>\n",
       "      <th>396</th>\n",
       "      <td>39</td>\n",
       "      <td>3</td>\n",
       "      <td>2</td>\n",
       "      <td>11760</td>\n",
       "      <td>5</td>\n",
       "      <td>4.0</td>\n",
       "      <td>2</td>\n",
       "      <td>4</td>\n",
       "      <td>3</td>\n",
       "      <td>3.0</td>\n",
       "      <td>32</td>\n",
       "      <td>3</td>\n",
       "      <td>NaN</td>\n",
       "      <td>1</td>\n",
       "      <td>4</td>\n",
       "      <td>1</td>\n",
       "      <td>1</td>\n",
       "      <td>0</td>\n",
       "      <td>1</td>\n",
       "    </tr>\n",
       "    <tr>\n",
       "      <th>745</th>\n",
       "      <td>39</td>\n",
       "      <td>1</td>\n",
       "      <td>3</td>\n",
       "      <td>14179</td>\n",
       "      <td>1</td>\n",
       "      <td>4.0</td>\n",
       "      <td>4</td>\n",
       "      <td>4</td>\n",
       "      <td>3</td>\n",
       "      <td>4.0</td>\n",
       "      <td>30</td>\n",
       "      <td>3</td>\n",
       "      <td>NaN</td>\n",
       "      <td>2</td>\n",
       "      <td>1</td>\n",
       "      <td>1</td>\n",
       "      <td>1</td>\n",
       "      <td>0</td>\n",
       "      <td>1</td>\n",
       "    </tr>\n",
       "    <tr>\n",
       "      <th>750</th>\n",
       "      <td>15</td>\n",
       "      <td>2</td>\n",
       "      <td>5</td>\n",
       "      <td>3029</td>\n",
       "      <td>2</td>\n",
       "      <td>4.0</td>\n",
       "      <td>2</td>\n",
       "      <td>4</td>\n",
       "      <td>3</td>\n",
       "      <td>2.0</td>\n",
       "      <td>33</td>\n",
       "      <td>3</td>\n",
       "      <td>NaN</td>\n",
       "      <td>1</td>\n",
       "      <td>4</td>\n",
       "      <td>1</td>\n",
       "      <td>0</td>\n",
       "      <td>0</td>\n",
       "      <td>1</td>\n",
       "    </tr>\n",
       "  </tbody>\n",
       "</table>\n",
       "</div>"
      ],
      "text/plain": [
       "           duracao  historicocredito  proposito  valor  investimentos  \\\n",
       "idcredito                                                               \n",
       "8               36                 2          5   6948              2   \n",
       "12              48                 2          6   4308              2   \n",
       "145             21                 1          3   2288              2   \n",
       "945             15                 2          3   1845              2   \n",
       "199             24                 2          5   2760              1   \n",
       "356             24                 2          4   1246              2   \n",
       "396             39                 3          2  11760              5   \n",
       "745             39                 1          3  14179              1   \n",
       "750             15                 2          5   3029              2   \n",
       "\n",
       "           emprego  tempoparcelamento  estadocivil  fiadorterceiros  \\\n",
       "idcredito                                                             \n",
       "8              3.0                  2            4                3   \n",
       "12             1.0                  3            1                3   \n",
       "145            3.0                  4            1                3   \n",
       "945            1.0                  4            1                4   \n",
       "199            3.0                  4            4                3   \n",
       "356            1.0                  4            4                3   \n",
       "396            4.0                  2            4                3   \n",
       "745            4.0                  4            4                3   \n",
       "750            4.0                  2            4                3   \n",
       "\n",
       "           residenciadesde  idade  outrosfinanciamentos  habitacao  \\\n",
       "idcredito                                                            \n",
       "8                      2.0     35                     3        NaN   \n",
       "12                     4.0     24                     3        NaN   \n",
       "145                    4.0     23                     3        NaN   \n",
       "945                    1.0     46                     3        NaN   \n",
       "199                    4.0     36                     1        NaN   \n",
       "356                    2.0     23                     2        NaN   \n",
       "396                    3.0     32                     3        NaN   \n",
       "745                    4.0     30                     3        NaN   \n",
       "750                    2.0     33                     3        NaN   \n",
       "\n",
       "           emprestimoexistente  profissao  dependentes  socioempresa  \\\n",
       "idcredito                                                              \n",
       "8                            1          1            1             1   \n",
       "12                           1          4            1             0   \n",
       "145                          1          4            1             1   \n",
       "945                          1          4            1             0   \n",
       "199                          1          4            1             1   \n",
       "356                          1          3            1             0   \n",
       "396                          1          4            1             1   \n",
       "745                          2          1            1             1   \n",
       "750                          1          4            1             0   \n",
       "\n",
       "           estrangeiro  status  \n",
       "idcredito                       \n",
       "8                    0       1  \n",
       "12                   0       0  \n",
       "145                  0       1  \n",
       "945                  0       1  \n",
       "199                  0       1  \n",
       "356                  0       0  \n",
       "396                  0       1  \n",
       "745                  0       1  \n",
       "750                  0       1  "
      ]
     },
     "execution_count": 60,
     "metadata": {},
     "output_type": "execute_result"
    }
   ],
   "source": [
    "credito[credito['habitacao'].isnull()]"
   ]
  },
  {
   "cell_type": "code",
   "execution_count": 61,
   "metadata": {},
   "outputs": [
    {
     "data": {
      "text/plain": [
       "array([ 1.,  2.,  3., nan])"
      ]
     },
     "execution_count": 61,
     "metadata": {},
     "output_type": "execute_result"
    }
   ],
   "source": [
    "credito['habitacao'].unique()"
   ]
  },
  {
   "cell_type": "code",
   "execution_count": 62,
   "metadata": {},
   "outputs": [
    {
     "data": {
      "text/plain": [
       "habitacao\n",
       "1.0    709\n",
       "2.0    107\n",
       "3.0    175\n",
       "dtype: int64"
      ]
     },
     "execution_count": 62,
     "metadata": {},
     "output_type": "execute_result"
    }
   ],
   "source": [
    "habitacao_group = credito.groupby(['habitacao']).size()\n",
    "habitacao_group"
   ]
  },
  {
   "cell_type": "code",
   "execution_count": 37,
   "metadata": {},
   "outputs": [],
   "source": [
    "credito['habitacao'].fillna(1.0, inplace=True)"
   ]
  },
  {
   "cell_type": "code",
   "execution_count": 52,
   "metadata": {},
   "outputs": [
    {
     "name": "stdout",
     "output_type": "stream",
     "text": [
      "<class 'pandas.core.frame.DataFrame'>\n",
      "Int64Index: 1000 entries, 2 to 565\n",
      "Data columns (total 19 columns):\n",
      " #   Column                Non-Null Count  Dtype  \n",
      "---  ------                --------------  -----  \n",
      " 0   duracao               1000 non-null   int64  \n",
      " 1   historicocredito      1000 non-null   int64  \n",
      " 2   proposito             1000 non-null   int64  \n",
      " 3   valor                 1000 non-null   int64  \n",
      " 4   investimentos         1000 non-null   int64  \n",
      " 5   emprego               1000 non-null   float64\n",
      " 6   tempoparcelamento     1000 non-null   int64  \n",
      " 7   estadocivil           1000 non-null   int64  \n",
      " 8   fiadorterceiros       1000 non-null   int64  \n",
      " 9   residenciadesde       1000 non-null   float64\n",
      " 10  idade                 1000 non-null   int64  \n",
      " 11  outrosfinanciamentos  1000 non-null   int64  \n",
      " 12  habitacao             1000 non-null   float64\n",
      " 13  emprestimoexistente   1000 non-null   int64  \n",
      " 14  profissao             1000 non-null   int64  \n",
      " 15  dependentes           1000 non-null   int64  \n",
      " 16  socioempresa          1000 non-null   int64  \n",
      " 17  estrangeiro           1000 non-null   int64  \n",
      " 18  status                1000 non-null   int64  \n",
      "dtypes: float64(3), int64(16)\n",
      "memory usage: 156.2 KB\n"
     ]
    }
   ],
   "source": [
    "credito.info()"
   ]
  },
  {
   "cell_type": "code",
   "execution_count": 53,
   "metadata": {},
   "outputs": [
    {
     "data": {
      "text/plain": [
       "array([0, 1])"
      ]
     },
     "execution_count": 53,
     "metadata": {},
     "output_type": "execute_result"
    }
   ],
   "source": [
    "'''\n",
    "See the values of status our class to infer\n",
    "'''\n",
    "credito['status'].unique()"
   ]
  },
  {
   "cell_type": "markdown",
   "metadata": {},
   "source": [
    "#### Now I see for relations between credito dataset and othes data tables if that something filled wrong "
   ]
  },
  {
   "cell_type": "code",
   "execution_count": 54,
   "metadata": {},
   "outputs": [
    {
     "data": {
      "text/plain": [
       "dict_keys(['clientes', 'credito', 'emprego', 'estadocivil', 'fiador', 'habitacao', 'historico_credito', 'investimentos', 'outrosfinanc', 'profissao', 'proposito'])"
      ]
     },
     "execution_count": 54,
     "metadata": {},
     "output_type": "execute_result"
    }
   ],
   "source": [
    "data_dict.keys()"
   ]
  },
  {
   "cell_type": "code",
   "execution_count": 57,
   "metadata": {},
   "outputs": [
    {
     "data": {
      "text/plain": [
       "Index(['duracao', 'historicocredito', 'proposito', 'valor', 'investimentos',\n",
       "       'emprego', 'tempoparcelamento', 'estadocivil', 'fiadorterceiros',\n",
       "       'residenciadesde', 'idade', 'outrosfinanciamentos', 'habitacao',\n",
       "       'emprestimoexistente', 'profissao', 'dependentes', 'socioempresa',\n",
       "       'estrangeiro', 'status'],\n",
       "      dtype='object')"
      ]
     },
     "execution_count": 57,
     "metadata": {},
     "output_type": "execute_result"
    }
   ],
   "source": [
    "credito.columns"
   ]
  },
  {
   "cell_type": "code",
   "execution_count": 38,
   "metadata": {},
   "outputs": [
    {
     "data": {
      "text/plain": [
       "array([2, 1, 3, 4, 5, 0])"
      ]
     },
     "execution_count": 38,
     "metadata": {},
     "output_type": "execute_result"
    }
   ],
   "source": [
    "credito['historicocredito'].unique()"
   ]
  },
  {
   "cell_type": "code",
   "execution_count": 60,
   "metadata": {},
   "outputs": [
    {
     "data": {
      "text/plain": [
       "{'COLUMNS': ['idhistcred', 'historico'],\n",
       " 'DATA':                            historico\n",
       " idhistcred                          \n",
       " 1            Critico-outros creditos\n",
       " 2                   existentes/pagos\n",
       " 3                 Atrasos anteriores\n",
       " 4           sem creditos/todos pagos\n",
       " 5                        todos pagos}"
      ]
     },
     "execution_count": 60,
     "metadata": {},
     "output_type": "execute_result"
    }
   ],
   "source": [
    "data_dict['historico_credito']"
   ]
  },
  {
   "cell_type": "markdown",
   "metadata": {},
   "source": [
    "#### 0 is not a valid value for 'historico_credito' "
   ]
  },
  {
   "cell_type": "code",
   "execution_count": 62,
   "metadata": {},
   "outputs": [
    {
     "data": {
      "text/html": [
       "<div>\n",
       "<style scoped>\n",
       "    .dataframe tbody tr th:only-of-type {\n",
       "        vertical-align: middle;\n",
       "    }\n",
       "\n",
       "    .dataframe tbody tr th {\n",
       "        vertical-align: top;\n",
       "    }\n",
       "\n",
       "    .dataframe thead th {\n",
       "        text-align: right;\n",
       "    }\n",
       "</style>\n",
       "<table border=\"1\" class=\"dataframe\">\n",
       "  <thead>\n",
       "    <tr style=\"text-align: right;\">\n",
       "      <th></th>\n",
       "      <th>duracao</th>\n",
       "      <th>historicocredito</th>\n",
       "      <th>proposito</th>\n",
       "      <th>valor</th>\n",
       "      <th>investimentos</th>\n",
       "      <th>emprego</th>\n",
       "      <th>tempoparcelamento</th>\n",
       "      <th>estadocivil</th>\n",
       "      <th>fiadorterceiros</th>\n",
       "      <th>residenciadesde</th>\n",
       "      <th>idade</th>\n",
       "      <th>outrosfinanciamentos</th>\n",
       "      <th>habitacao</th>\n",
       "      <th>emprestimoexistente</th>\n",
       "      <th>profissao</th>\n",
       "      <th>dependentes</th>\n",
       "      <th>socioempresa</th>\n",
       "      <th>estrangeiro</th>\n",
       "      <th>status</th>\n",
       "    </tr>\n",
       "    <tr>\n",
       "      <th>idcredito</th>\n",
       "      <th></th>\n",
       "      <th></th>\n",
       "      <th></th>\n",
       "      <th></th>\n",
       "      <th></th>\n",
       "      <th></th>\n",
       "      <th></th>\n",
       "      <th></th>\n",
       "      <th></th>\n",
       "      <th></th>\n",
       "      <th></th>\n",
       "      <th></th>\n",
       "      <th></th>\n",
       "      <th></th>\n",
       "      <th></th>\n",
       "      <th></th>\n",
       "      <th></th>\n",
       "      <th></th>\n",
       "      <th></th>\n",
       "    </tr>\n",
       "  </thead>\n",
       "  <tbody>\n",
       "    <tr>\n",
       "      <th>1</th>\n",
       "      <td>6</td>\n",
       "      <td>0</td>\n",
       "      <td>1</td>\n",
       "      <td>1169</td>\n",
       "      <td>1</td>\n",
       "      <td>3.0</td>\n",
       "      <td>4</td>\n",
       "      <td>4</td>\n",
       "      <td>3</td>\n",
       "      <td>4.0</td>\n",
       "      <td>67</td>\n",
       "      <td>3</td>\n",
       "      <td>1.0</td>\n",
       "      <td>2</td>\n",
       "      <td>4</td>\n",
       "      <td>1</td>\n",
       "      <td>1</td>\n",
       "      <td>0</td>\n",
       "      <td>1</td>\n",
       "    </tr>\n",
       "    <tr>\n",
       "      <th>10</th>\n",
       "      <td>30</td>\n",
       "      <td>0</td>\n",
       "      <td>4</td>\n",
       "      <td>5234</td>\n",
       "      <td>2</td>\n",
       "      <td>5.0</td>\n",
       "      <td>4</td>\n",
       "      <td>3</td>\n",
       "      <td>3</td>\n",
       "      <td>2.0</td>\n",
       "      <td>28</td>\n",
       "      <td>3</td>\n",
       "      <td>1.0</td>\n",
       "      <td>2</td>\n",
       "      <td>1</td>\n",
       "      <td>1</td>\n",
       "      <td>0</td>\n",
       "      <td>0</td>\n",
       "      <td>0</td>\n",
       "    </tr>\n",
       "    <tr>\n",
       "      <th>169</th>\n",
       "      <td>24</td>\n",
       "      <td>0</td>\n",
       "      <td>3</td>\n",
       "      <td>3972</td>\n",
       "      <td>2</td>\n",
       "      <td>4.0</td>\n",
       "      <td>2</td>\n",
       "      <td>1</td>\n",
       "      <td>3</td>\n",
       "      <td>4.0</td>\n",
       "      <td>25</td>\n",
       "      <td>3</td>\n",
       "      <td>3.0</td>\n",
       "      <td>1</td>\n",
       "      <td>4</td>\n",
       "      <td>1</td>\n",
       "      <td>1</td>\n",
       "      <td>0</td>\n",
       "      <td>1</td>\n",
       "    </tr>\n",
       "    <tr>\n",
       "      <th>233</th>\n",
       "      <td>12</td>\n",
       "      <td>0</td>\n",
       "      <td>1</td>\n",
       "      <td>2141</td>\n",
       "      <td>5</td>\n",
       "      <td>4.0</td>\n",
       "      <td>3</td>\n",
       "      <td>4</td>\n",
       "      <td>3</td>\n",
       "      <td>1.0</td>\n",
       "      <td>35</td>\n",
       "      <td>3</td>\n",
       "      <td>1.0</td>\n",
       "      <td>1</td>\n",
       "      <td>4</td>\n",
       "      <td>1</td>\n",
       "      <td>0</td>\n",
       "      <td>0</td>\n",
       "      <td>1</td>\n",
       "    </tr>\n",
       "    <tr>\n",
       "      <th>395</th>\n",
       "      <td>9</td>\n",
       "      <td>0</td>\n",
       "      <td>3</td>\n",
       "      <td>2406</td>\n",
       "      <td>2</td>\n",
       "      <td>5.0</td>\n",
       "      <td>2</td>\n",
       "      <td>4</td>\n",
       "      <td>3</td>\n",
       "      <td>3.0</td>\n",
       "      <td>31</td>\n",
       "      <td>3</td>\n",
       "      <td>1.0</td>\n",
       "      <td>1</td>\n",
       "      <td>1</td>\n",
       "      <td>1</td>\n",
       "      <td>0</td>\n",
       "      <td>0</td>\n",
       "      <td>1</td>\n",
       "    </tr>\n",
       "    <tr>\n",
       "      <th>676</th>\n",
       "      <td>30</td>\n",
       "      <td>0</td>\n",
       "      <td>1</td>\n",
       "      <td>4530</td>\n",
       "      <td>2</td>\n",
       "      <td>4.0</td>\n",
       "      <td>4</td>\n",
       "      <td>1</td>\n",
       "      <td>3</td>\n",
       "      <td>4.0</td>\n",
       "      <td>26</td>\n",
       "      <td>3</td>\n",
       "      <td>3.0</td>\n",
       "      <td>1</td>\n",
       "      <td>1</td>\n",
       "      <td>1</td>\n",
       "      <td>1</td>\n",
       "      <td>0</td>\n",
       "      <td>1</td>\n",
       "    </tr>\n",
       "    <tr>\n",
       "      <th>799</th>\n",
       "      <td>24</td>\n",
       "      <td>0</td>\n",
       "      <td>4</td>\n",
       "      <td>717</td>\n",
       "      <td>1</td>\n",
       "      <td>2.0</td>\n",
       "      <td>4</td>\n",
       "      <td>3</td>\n",
       "      <td>3</td>\n",
       "      <td>4.0</td>\n",
       "      <td>54</td>\n",
       "      <td>3</td>\n",
       "      <td>1.0</td>\n",
       "      <td>2</td>\n",
       "      <td>4</td>\n",
       "      <td>1</td>\n",
       "      <td>1</td>\n",
       "      <td>0</td>\n",
       "      <td>1</td>\n",
       "    </tr>\n",
       "    <tr>\n",
       "      <th>844</th>\n",
       "      <td>24</td>\n",
       "      <td>0</td>\n",
       "      <td>6</td>\n",
       "      <td>1559</td>\n",
       "      <td>2</td>\n",
       "      <td>4.0</td>\n",
       "      <td>4</td>\n",
       "      <td>4</td>\n",
       "      <td>3</td>\n",
       "      <td>4.0</td>\n",
       "      <td>50</td>\n",
       "      <td>1</td>\n",
       "      <td>1.0</td>\n",
       "      <td>1</td>\n",
       "      <td>4</td>\n",
       "      <td>1</td>\n",
       "      <td>1</td>\n",
       "      <td>0</td>\n",
       "      <td>1</td>\n",
       "    </tr>\n",
       "    <tr>\n",
       "      <th>234</th>\n",
       "      <td>18</td>\n",
       "      <td>0</td>\n",
       "      <td>1</td>\n",
       "      <td>866</td>\n",
       "      <td>2</td>\n",
       "      <td>3.0</td>\n",
       "      <td>4</td>\n",
       "      <td>3</td>\n",
       "      <td>4</td>\n",
       "      <td>2.0</td>\n",
       "      <td>25</td>\n",
       "      <td>3</td>\n",
       "      <td>1.0</td>\n",
       "      <td>1</td>\n",
       "      <td>3</td>\n",
       "      <td>1</td>\n",
       "      <td>0</td>\n",
       "      <td>0</td>\n",
       "      <td>1</td>\n",
       "    </tr>\n",
       "    <tr>\n",
       "      <th>474</th>\n",
       "      <td>6</td>\n",
       "      <td>0</td>\n",
       "      <td>10</td>\n",
       "      <td>1238</td>\n",
       "      <td>1</td>\n",
       "      <td>5.0</td>\n",
       "      <td>4</td>\n",
       "      <td>4</td>\n",
       "      <td>3</td>\n",
       "      <td>4.0</td>\n",
       "      <td>36</td>\n",
       "      <td>3</td>\n",
       "      <td>1.0</td>\n",
       "      <td>1</td>\n",
       "      <td>1</td>\n",
       "      <td>2</td>\n",
       "      <td>1</td>\n",
       "      <td>0</td>\n",
       "      <td>1</td>\n",
       "    </tr>\n",
       "    <tr>\n",
       "      <th>565</th>\n",
       "      <td>24</td>\n",
       "      <td>0</td>\n",
       "      <td>6</td>\n",
       "      <td>4712</td>\n",
       "      <td>1</td>\n",
       "      <td>3.0</td>\n",
       "      <td>4</td>\n",
       "      <td>4</td>\n",
       "      <td>3</td>\n",
       "      <td>2.0</td>\n",
       "      <td>37</td>\n",
       "      <td>1</td>\n",
       "      <td>1.0</td>\n",
       "      <td>2</td>\n",
       "      <td>1</td>\n",
       "      <td>1</td>\n",
       "      <td>1</td>\n",
       "      <td>0</td>\n",
       "      <td>1</td>\n",
       "    </tr>\n",
       "  </tbody>\n",
       "</table>\n",
       "</div>"
      ],
      "text/plain": [
       "           duracao  historicocredito  proposito  valor  investimentos  \\\n",
       "idcredito                                                               \n",
       "1                6                 0          1   1169              1   \n",
       "10              30                 0          4   5234              2   \n",
       "169             24                 0          3   3972              2   \n",
       "233             12                 0          1   2141              5   \n",
       "395              9                 0          3   2406              2   \n",
       "676             30                 0          1   4530              2   \n",
       "799             24                 0          4    717              1   \n",
       "844             24                 0          6   1559              2   \n",
       "234             18                 0          1    866              2   \n",
       "474              6                 0         10   1238              1   \n",
       "565             24                 0          6   4712              1   \n",
       "\n",
       "           emprego  tempoparcelamento  estadocivil  fiadorterceiros  \\\n",
       "idcredito                                                             \n",
       "1              3.0                  4            4                3   \n",
       "10             5.0                  4            3                3   \n",
       "169            4.0                  2            1                3   \n",
       "233            4.0                  3            4                3   \n",
       "395            5.0                  2            4                3   \n",
       "676            4.0                  4            1                3   \n",
       "799            2.0                  4            3                3   \n",
       "844            4.0                  4            4                3   \n",
       "234            3.0                  4            3                4   \n",
       "474            5.0                  4            4                3   \n",
       "565            3.0                  4            4                3   \n",
       "\n",
       "           residenciadesde  idade  outrosfinanciamentos  habitacao  \\\n",
       "idcredito                                                            \n",
       "1                      4.0     67                     3        1.0   \n",
       "10                     2.0     28                     3        1.0   \n",
       "169                    4.0     25                     3        3.0   \n",
       "233                    1.0     35                     3        1.0   \n",
       "395                    3.0     31                     3        1.0   \n",
       "676                    4.0     26                     3        3.0   \n",
       "799                    4.0     54                     3        1.0   \n",
       "844                    4.0     50                     1        1.0   \n",
       "234                    2.0     25                     3        1.0   \n",
       "474                    4.0     36                     3        1.0   \n",
       "565                    2.0     37                     1        1.0   \n",
       "\n",
       "           emprestimoexistente  profissao  dependentes  socioempresa  \\\n",
       "idcredito                                                              \n",
       "1                            2          4            1             1   \n",
       "10                           2          1            1             0   \n",
       "169                          1          4            1             1   \n",
       "233                          1          4            1             0   \n",
       "395                          1          1            1             0   \n",
       "676                          1          1            1             1   \n",
       "799                          2          4            1             1   \n",
       "844                          1          4            1             1   \n",
       "234                          1          3            1             0   \n",
       "474                          1          1            2             1   \n",
       "565                          2          1            1             1   \n",
       "\n",
       "           estrangeiro  status  \n",
       "idcredito                       \n",
       "1                    0       1  \n",
       "10                   0       0  \n",
       "169                  0       1  \n",
       "233                  0       1  \n",
       "395                  0       1  \n",
       "676                  0       1  \n",
       "799                  0       1  \n",
       "844                  0       1  \n",
       "234                  0       1  \n",
       "474                  0       1  \n",
       "565                  0       1  "
      ]
     },
     "execution_count": 62,
     "metadata": {},
     "output_type": "execute_result"
    }
   ],
   "source": [
    "credito[credito['historicocredito'] == 0]"
   ]
  },
  {
   "cell_type": "code",
   "execution_count": 63,
   "metadata": {},
   "outputs": [
    {
     "data": {
      "text/plain": [
       "historicocredito\n",
       "0     11\n",
       "1    289\n",
       "2    526\n",
       "3     86\n",
       "4     40\n",
       "5     48\n",
       "dtype: int64"
      ]
     },
     "execution_count": 63,
     "metadata": {},
     "output_type": "execute_result"
    }
   ],
   "source": [
    "historicocredito_group = credito.groupby(['historicocredito']).size()\n",
    "historicocredito_group"
   ]
  },
  {
   "cell_type": "markdown",
   "metadata": {},
   "source": [
    "The most part of data consists in type 2 existentes/pagos in 0 (zeros) cases only one (id = 10) is considered bad credit so I decide to replace most part of 0 to 2. The id = 10 I'll replace by type 1 Critico-outros creditos"
   ]
  },
  {
   "cell_type": "code",
   "execution_count": 39,
   "metadata": {},
   "outputs": [],
   "source": [
    "credito.loc[(credito['historicocredito'] == 0) & (credito['status'] == 1),'historicocredito'] = 2"
   ]
  },
  {
   "cell_type": "code",
   "execution_count": 40,
   "metadata": {},
   "outputs": [],
   "source": [
    "credito.loc[(credito['historicocredito'] == 0) & (credito['status'] == 0),'historicocredito'] = 1"
   ]
  },
  {
   "cell_type": "code",
   "execution_count": 41,
   "metadata": {},
   "outputs": [
    {
     "data": {
      "text/html": [
       "<div>\n",
       "<style scoped>\n",
       "    .dataframe tbody tr th:only-of-type {\n",
       "        vertical-align: middle;\n",
       "    }\n",
       "\n",
       "    .dataframe tbody tr th {\n",
       "        vertical-align: top;\n",
       "    }\n",
       "\n",
       "    .dataframe thead th {\n",
       "        text-align: right;\n",
       "    }\n",
       "</style>\n",
       "<table border=\"1\" class=\"dataframe\">\n",
       "  <thead>\n",
       "    <tr style=\"text-align: right;\">\n",
       "      <th></th>\n",
       "      <th>duracao</th>\n",
       "      <th>historicocredito</th>\n",
       "      <th>proposito</th>\n",
       "      <th>valor</th>\n",
       "      <th>investimentos</th>\n",
       "      <th>emprego</th>\n",
       "      <th>tempoparcelamento</th>\n",
       "      <th>estadocivil</th>\n",
       "      <th>fiadorterceiros</th>\n",
       "      <th>residenciadesde</th>\n",
       "      <th>idade</th>\n",
       "      <th>outrosfinanciamentos</th>\n",
       "      <th>habitacao</th>\n",
       "      <th>emprestimoexistente</th>\n",
       "      <th>profissao</th>\n",
       "      <th>dependentes</th>\n",
       "      <th>socioempresa</th>\n",
       "      <th>estrangeiro</th>\n",
       "      <th>status</th>\n",
       "    </tr>\n",
       "    <tr>\n",
       "      <th>idcredito</th>\n",
       "      <th></th>\n",
       "      <th></th>\n",
       "      <th></th>\n",
       "      <th></th>\n",
       "      <th></th>\n",
       "      <th></th>\n",
       "      <th></th>\n",
       "      <th></th>\n",
       "      <th></th>\n",
       "      <th></th>\n",
       "      <th></th>\n",
       "      <th></th>\n",
       "      <th></th>\n",
       "      <th></th>\n",
       "      <th></th>\n",
       "      <th></th>\n",
       "      <th></th>\n",
       "      <th></th>\n",
       "      <th></th>\n",
       "    </tr>\n",
       "  </thead>\n",
       "  <tbody>\n",
       "  </tbody>\n",
       "</table>\n",
       "</div>"
      ],
      "text/plain": [
       "Empty DataFrame\n",
       "Columns: [duracao, historicocredito, proposito, valor, investimentos, emprego, tempoparcelamento, estadocivil, fiadorterceiros, residenciadesde, idade, outrosfinanciamentos, habitacao, emprestimoexistente, profissao, dependentes, socioempresa, estrangeiro, status]\n",
       "Index: []"
      ]
     },
     "execution_count": 41,
     "metadata": {},
     "output_type": "execute_result"
    }
   ],
   "source": [
    "credito[credito['historicocredito'] == 0]"
   ]
  },
  {
   "cell_type": "code",
   "execution_count": 69,
   "metadata": {},
   "outputs": [
    {
     "data": {
      "text/plain": [
       "array([ 1,  2,  3,  4,  6,  5,  7,  8,  9, 10])"
      ]
     },
     "execution_count": 69,
     "metadata": {},
     "output_type": "execute_result"
    }
   ],
   "source": [
    "credito['proposito'].unique()"
   ]
  },
  {
   "cell_type": "code",
   "execution_count": 70,
   "metadata": {},
   "outputs": [
    {
     "data": {
      "text/plain": [
       "{'COLUMNS': ['idproposito', 'proposito'],\n",
       " 'DATA':                  proposito\n",
       " idproposito               \n",
       " 1                  reforma\n",
       " 2                 educacao\n",
       " 3                   moveis\n",
       " 4             veiculo novo\n",
       " 5            veiculo usado\n",
       " 6            abrir negocio\n",
       " 7            quitar divida\n",
       " 8             reforma casa\n",
       " 9                   outros\n",
       " 10            qualificacao}"
      ]
     },
     "execution_count": 70,
     "metadata": {},
     "output_type": "execute_result"
    }
   ],
   "source": [
    "data_dict['proposito']"
   ]
  },
  {
   "cell_type": "markdown",
   "metadata": {},
   "source": [
    "'proposito' is Ok"
   ]
  },
  {
   "cell_type": "code",
   "execution_count": 71,
   "metadata": {},
   "outputs": [
    {
     "data": {
      "text/plain": [
       "array([2, 1, 3, 4, 5])"
      ]
     },
     "execution_count": 71,
     "metadata": {},
     "output_type": "execute_result"
    }
   ],
   "source": [
    "credito['investimentos'].unique()"
   ]
  },
  {
   "cell_type": "code",
   "execution_count": 72,
   "metadata": {},
   "outputs": [
    {
     "data": {
      "text/plain": [
       "{'COLUMNS': ['idinvestimentos', 'investimentos'],\n",
       " 'DATA':                   investimentos\n",
       " idinvestimentos                \n",
       " 1                Desconhecido\\n\n",
       " 2                        <100\\n\n",
       " 3                   500<=X<1000\n",
       " 4                        >=1000\n",
       " 5                    100<=X<500}"
      ]
     },
     "execution_count": 72,
     "metadata": {},
     "output_type": "execute_result"
    }
   ],
   "source": [
    "data_dict['investimentos']"
   ]
  },
  {
   "cell_type": "markdown",
   "metadata": {},
   "source": [
    "'investimentos' is Ok"
   ]
  },
  {
   "cell_type": "code",
   "execution_count": 73,
   "metadata": {},
   "outputs": [
    {
     "data": {
      "text/plain": [
       "array([3., 4., 2., 1., 5.])"
      ]
     },
     "execution_count": 73,
     "metadata": {},
     "output_type": "execute_result"
    }
   ],
   "source": [
    "credito['emprego'].unique()"
   ]
  },
  {
   "cell_type": "code",
   "execution_count": 74,
   "metadata": {},
   "outputs": [
    {
     "data": {
      "text/plain": [
       "{'COLUMNS': ['idemprego', 'emprego'],\n",
       " 'DATA':                 emprego\n",
       " idemprego              \n",
       " 1                    <1\n",
       " 2                   >=7\n",
       " 3                1<=X<4\n",
       " 4                4<=X<7\n",
       " 5          Desempregado}"
      ]
     },
     "execution_count": 74,
     "metadata": {},
     "output_type": "execute_result"
    }
   ],
   "source": [
    "data_dict['emprego']"
   ]
  },
  {
   "cell_type": "markdown",
   "metadata": {},
   "source": [
    "'emprego' is Ok"
   ]
  },
  {
   "cell_type": "code",
   "execution_count": 76,
   "metadata": {},
   "outputs": [
    {
     "data": {
      "text/plain": [
       "{'COLUMNS': ['idestadocivil', 'estadocivil'],\n",
       " 'DATA':                         estadocivil\n",
       " idestadocivil                      \n",
       " 1              feminino div/dep/cas\n",
       " 2                  maculino div/dep\n",
       " 3                 masculino cas/viu\n",
       " 4                masculino solteiro}"
      ]
     },
     "execution_count": 76,
     "metadata": {},
     "output_type": "execute_result"
    }
   ],
   "source": [
    "data_dict['estadocivil']"
   ]
  },
  {
   "cell_type": "code",
   "execution_count": 75,
   "metadata": {},
   "outputs": [
    {
     "data": {
      "text/plain": [
       "array([1, 4, 2, 3])"
      ]
     },
     "execution_count": 75,
     "metadata": {},
     "output_type": "execute_result"
    }
   ],
   "source": [
    "credito['estadocivil'].unique()"
   ]
  },
  {
   "cell_type": "markdown",
   "metadata": {},
   "source": [
    "'estadocivil' is Ok"
   ]
  },
  {
   "cell_type": "code",
   "execution_count": 79,
   "metadata": {},
   "outputs": [
    {
     "data": {
      "text/plain": [
       "array([3, 4, 2, 1])"
      ]
     },
     "execution_count": 79,
     "metadata": {},
     "output_type": "execute_result"
    }
   ],
   "source": [
    "credito['fiadorterceiros'].unique()"
   ]
  },
  {
   "cell_type": "code",
   "execution_count": 77,
   "metadata": {},
   "outputs": [
    {
     "data": {
      "text/plain": [
       "{'COLUMNS': ['idfiador', 'fiador'],\n",
       " 'DATA':                  fiador\n",
       " idfiador               \n",
       " 1          co aplicante\n",
       " 2         co requerente\n",
       " 3                   nao\n",
       " 4                   sim}"
      ]
     },
     "execution_count": 77,
     "metadata": {},
     "output_type": "execute_result"
    }
   ],
   "source": [
    "data_dict['fiador']"
   ]
  },
  {
   "cell_type": "markdown",
   "metadata": {},
   "source": [
    "#### If fiador is the same that fiadorterceiros is Ok"
   ]
  },
  {
   "cell_type": "code",
   "execution_count": 80,
   "metadata": {},
   "outputs": [
    {
     "data": {
      "text/plain": [
       "array([3, 1, 2])"
      ]
     },
     "execution_count": 80,
     "metadata": {},
     "output_type": "execute_result"
    }
   ],
   "source": [
    "credito['outrosfinanciamentos'].unique()"
   ]
  },
  {
   "cell_type": "code",
   "execution_count": 81,
   "metadata": {},
   "outputs": [
    {
     "data": {
      "text/plain": [
       "{'COLUMNS': ['idoutrosfinanc', 'outrosfinanciamentos'],\n",
       " 'DATA':                outrosfinanciamentos\n",
       " idoutrosfinanc                     \n",
       " 1                             banco\n",
       " 2                              loja\n",
       " 3                            nenhum}"
      ]
     },
     "execution_count": 81,
     "metadata": {},
     "output_type": "execute_result"
    }
   ],
   "source": [
    "data_dict['outrosfinanc']"
   ]
  },
  {
   "cell_type": "markdown",
   "metadata": {},
   "source": [
    "#### If outrosfinanciamentos and outrosfinanc is the same, Ok."
   ]
  },
  {
   "cell_type": "code",
   "execution_count": 57,
   "metadata": {},
   "outputs": [
    {
     "data": {
      "text/plain": [
       "Index(['duracao', 'historicocredito', 'proposito', 'valor', 'investimentos',\n",
       "       'emprego', 'tempoparcelamento', 'estadocivil', 'fiadorterceiros',\n",
       "       'residenciadesde', 'idade', 'outrosfinanciamentos', 'habitacao',\n",
       "       'emprestimoexistente', 'profissao', 'dependentes', 'socioempresa',\n",
       "       'estrangeiro', 'status'],\n",
       "      dtype='object')"
      ]
     },
     "execution_count": 57,
     "metadata": {},
     "output_type": "execute_result"
    }
   ],
   "source": [
    "credito.columns"
   ]
  },
  {
   "cell_type": "code",
   "execution_count": 54,
   "metadata": {},
   "outputs": [
    {
     "data": {
      "text/plain": [
       "dict_keys(['clientes', 'credito', 'emprego', 'estadocivil', 'fiador', 'habitacao', 'historico_credito', 'investimentos', 'outrosfinanc', 'profissao', 'proposito'])"
      ]
     },
     "execution_count": 54,
     "metadata": {},
     "output_type": "execute_result"
    }
   ],
   "source": [
    "data_dict.keys()"
   ]
  },
  {
   "cell_type": "code",
   "execution_count": 82,
   "metadata": {},
   "outputs": [
    {
     "data": {
      "text/plain": [
       "array([  4,   3,   1,   2, 999])"
      ]
     },
     "execution_count": 82,
     "metadata": {},
     "output_type": "execute_result"
    }
   ],
   "source": [
    "credito['profissao'].unique()"
   ]
  },
  {
   "cell_type": "code",
   "execution_count": 83,
   "metadata": {},
   "outputs": [
    {
     "data": {
      "text/plain": [
       "{'COLUMNS': ['idprofissao', 'profissao'],\n",
       " 'DATA':                                     profissao\n",
       " idprofissao                                  \n",
       " 1            altamente qualificado/empresario\n",
       " 2                                desempregado\n",
       " 3                             nao qualificado\n",
       " 4                                 qualificado}"
      ]
     },
     "execution_count": 83,
     "metadata": {},
     "output_type": "execute_result"
    }
   ],
   "source": [
    "data_dict['profissao']"
   ]
  },
  {
   "cell_type": "markdown",
   "metadata": {},
   "source": [
    "### Remain some credito data with wrong profession"
   ]
  },
  {
   "cell_type": "code",
   "execution_count": 42,
   "metadata": {},
   "outputs": [
    {
     "data": {
      "text/html": [
       "<div>\n",
       "<style scoped>\n",
       "    .dataframe tbody tr th:only-of-type {\n",
       "        vertical-align: middle;\n",
       "    }\n",
       "\n",
       "    .dataframe tbody tr th {\n",
       "        vertical-align: top;\n",
       "    }\n",
       "\n",
       "    .dataframe thead th {\n",
       "        text-align: right;\n",
       "    }\n",
       "</style>\n",
       "<table border=\"1\" class=\"dataframe\">\n",
       "  <thead>\n",
       "    <tr style=\"text-align: right;\">\n",
       "      <th></th>\n",
       "      <th>duracao</th>\n",
       "      <th>historicocredito</th>\n",
       "      <th>proposito</th>\n",
       "      <th>valor</th>\n",
       "      <th>investimentos</th>\n",
       "      <th>emprego</th>\n",
       "      <th>tempoparcelamento</th>\n",
       "      <th>estadocivil</th>\n",
       "      <th>fiadorterceiros</th>\n",
       "      <th>residenciadesde</th>\n",
       "      <th>idade</th>\n",
       "      <th>outrosfinanciamentos</th>\n",
       "      <th>habitacao</th>\n",
       "      <th>emprestimoexistente</th>\n",
       "      <th>profissao</th>\n",
       "      <th>dependentes</th>\n",
       "      <th>socioempresa</th>\n",
       "      <th>estrangeiro</th>\n",
       "      <th>status</th>\n",
       "    </tr>\n",
       "    <tr>\n",
       "      <th>idcredito</th>\n",
       "      <th></th>\n",
       "      <th></th>\n",
       "      <th></th>\n",
       "      <th></th>\n",
       "      <th></th>\n",
       "      <th></th>\n",
       "      <th></th>\n",
       "      <th></th>\n",
       "      <th></th>\n",
       "      <th></th>\n",
       "      <th></th>\n",
       "      <th></th>\n",
       "      <th></th>\n",
       "      <th></th>\n",
       "      <th></th>\n",
       "      <th></th>\n",
       "      <th></th>\n",
       "      <th></th>\n",
       "      <th></th>\n",
       "    </tr>\n",
       "  </thead>\n",
       "  <tbody>\n",
       "    <tr>\n",
       "      <th>69</th>\n",
       "      <td>36</td>\n",
       "      <td>2</td>\n",
       "      <td>2</td>\n",
       "      <td>1819</td>\n",
       "      <td>2</td>\n",
       "      <td>3.0</td>\n",
       "      <td>4</td>\n",
       "      <td>4</td>\n",
       "      <td>3</td>\n",
       "      <td>4.0</td>\n",
       "      <td>37</td>\n",
       "      <td>2</td>\n",
       "      <td>2.0</td>\n",
       "      <td>1</td>\n",
       "      <td>999</td>\n",
       "      <td>1</td>\n",
       "      <td>1</td>\n",
       "      <td>0</td>\n",
       "      <td>0</td>\n",
       "    </tr>\n",
       "    <tr>\n",
       "      <th>174</th>\n",
       "      <td>8</td>\n",
       "      <td>2</td>\n",
       "      <td>1</td>\n",
       "      <td>1414</td>\n",
       "      <td>2</td>\n",
       "      <td>3.0</td>\n",
       "      <td>4</td>\n",
       "      <td>4</td>\n",
       "      <td>4</td>\n",
       "      <td>2.0</td>\n",
       "      <td>33</td>\n",
       "      <td>3</td>\n",
       "      <td>1.0</td>\n",
       "      <td>1</td>\n",
       "      <td>999</td>\n",
       "      <td>1</td>\n",
       "      <td>0</td>\n",
       "      <td>1</td>\n",
       "      <td>1</td>\n",
       "    </tr>\n",
       "    <tr>\n",
       "      <th>412</th>\n",
       "      <td>33</td>\n",
       "      <td>1</td>\n",
       "      <td>5</td>\n",
       "      <td>7253</td>\n",
       "      <td>2</td>\n",
       "      <td>4.0</td>\n",
       "      <td>3</td>\n",
       "      <td>4</td>\n",
       "      <td>3</td>\n",
       "      <td>2.0</td>\n",
       "      <td>35</td>\n",
       "      <td>3</td>\n",
       "      <td>1.0</td>\n",
       "      <td>2</td>\n",
       "      <td>999</td>\n",
       "      <td>1</td>\n",
       "      <td>1</td>\n",
       "      <td>0</td>\n",
       "      <td>1</td>\n",
       "    </tr>\n",
       "    <tr>\n",
       "      <th>976</th>\n",
       "      <td>24</td>\n",
       "      <td>2</td>\n",
       "      <td>1</td>\n",
       "      <td>1258</td>\n",
       "      <td>3</td>\n",
       "      <td>3.0</td>\n",
       "      <td>3</td>\n",
       "      <td>1</td>\n",
       "      <td>3</td>\n",
       "      <td>3.0</td>\n",
       "      <td>57</td>\n",
       "      <td>3</td>\n",
       "      <td>1.0</td>\n",
       "      <td>1</td>\n",
       "      <td>999</td>\n",
       "      <td>1</td>\n",
       "      <td>0</td>\n",
       "      <td>0</td>\n",
       "      <td>1</td>\n",
       "    </tr>\n",
       "    <tr>\n",
       "      <th>45</th>\n",
       "      <td>48</td>\n",
       "      <td>1</td>\n",
       "      <td>5</td>\n",
       "      <td>6143</td>\n",
       "      <td>2</td>\n",
       "      <td>3.0</td>\n",
       "      <td>4</td>\n",
       "      <td>1</td>\n",
       "      <td>3</td>\n",
       "      <td>4.0</td>\n",
       "      <td>58</td>\n",
       "      <td>2</td>\n",
       "      <td>2.0</td>\n",
       "      <td>2</td>\n",
       "      <td>999</td>\n",
       "      <td>1</td>\n",
       "      <td>0</td>\n",
       "      <td>0</td>\n",
       "      <td>0</td>\n",
       "    </tr>\n",
       "    <tr>\n",
       "      <th>95</th>\n",
       "      <td>12</td>\n",
       "      <td>2</td>\n",
       "      <td>4</td>\n",
       "      <td>1318</td>\n",
       "      <td>4</td>\n",
       "      <td>3.0</td>\n",
       "      <td>4</td>\n",
       "      <td>4</td>\n",
       "      <td>3</td>\n",
       "      <td>4.0</td>\n",
       "      <td>54</td>\n",
       "      <td>3</td>\n",
       "      <td>1.0</td>\n",
       "      <td>1</td>\n",
       "      <td>999</td>\n",
       "      <td>1</td>\n",
       "      <td>1</td>\n",
       "      <td>0</td>\n",
       "      <td>1</td>\n",
       "    </tr>\n",
       "    <tr>\n",
       "      <th>499</th>\n",
       "      <td>18</td>\n",
       "      <td>2</td>\n",
       "      <td>1</td>\n",
       "      <td>1301</td>\n",
       "      <td>2</td>\n",
       "      <td>2.0</td>\n",
       "      <td>4</td>\n",
       "      <td>3</td>\n",
       "      <td>4</td>\n",
       "      <td>2.0</td>\n",
       "      <td>32</td>\n",
       "      <td>3</td>\n",
       "      <td>1.0</td>\n",
       "      <td>1</td>\n",
       "      <td>999</td>\n",
       "      <td>1</td>\n",
       "      <td>0</td>\n",
       "      <td>0</td>\n",
       "      <td>1</td>\n",
       "    </tr>\n",
       "    <tr>\n",
       "      <th>505</th>\n",
       "      <td>24</td>\n",
       "      <td>2</td>\n",
       "      <td>4</td>\n",
       "      <td>1207</td>\n",
       "      <td>2</td>\n",
       "      <td>1.0</td>\n",
       "      <td>4</td>\n",
       "      <td>1</td>\n",
       "      <td>3</td>\n",
       "      <td>4.0</td>\n",
       "      <td>24</td>\n",
       "      <td>3</td>\n",
       "      <td>3.0</td>\n",
       "      <td>1</td>\n",
       "      <td>999</td>\n",
       "      <td>1</td>\n",
       "      <td>0</td>\n",
       "      <td>0</td>\n",
       "      <td>0</td>\n",
       "    </tr>\n",
       "    <tr>\n",
       "      <th>834</th>\n",
       "      <td>24</td>\n",
       "      <td>2</td>\n",
       "      <td>1</td>\n",
       "      <td>5084</td>\n",
       "      <td>1</td>\n",
       "      <td>2.0</td>\n",
       "      <td>2</td>\n",
       "      <td>1</td>\n",
       "      <td>3</td>\n",
       "      <td>4.0</td>\n",
       "      <td>42</td>\n",
       "      <td>3</td>\n",
       "      <td>1.0</td>\n",
       "      <td>1</td>\n",
       "      <td>999</td>\n",
       "      <td>1</td>\n",
       "      <td>1</td>\n",
       "      <td>0</td>\n",
       "      <td>1</td>\n",
       "    </tr>\n",
       "  </tbody>\n",
       "</table>\n",
       "</div>"
      ],
      "text/plain": [
       "           duracao  historicocredito  proposito  valor  investimentos  \\\n",
       "idcredito                                                               \n",
       "69              36                 2          2   1819              2   \n",
       "174              8                 2          1   1414              2   \n",
       "412             33                 1          5   7253              2   \n",
       "976             24                 2          1   1258              3   \n",
       "45              48                 1          5   6143              2   \n",
       "95              12                 2          4   1318              4   \n",
       "499             18                 2          1   1301              2   \n",
       "505             24                 2          4   1207              2   \n",
       "834             24                 2          1   5084              1   \n",
       "\n",
       "           emprego  tempoparcelamento  estadocivil  fiadorterceiros  \\\n",
       "idcredito                                                             \n",
       "69             3.0                  4            4                3   \n",
       "174            3.0                  4            4                4   \n",
       "412            4.0                  3            4                3   \n",
       "976            3.0                  3            1                3   \n",
       "45             3.0                  4            1                3   \n",
       "95             3.0                  4            4                3   \n",
       "499            2.0                  4            3                4   \n",
       "505            1.0                  4            1                3   \n",
       "834            2.0                  2            1                3   \n",
       "\n",
       "           residenciadesde  idade  outrosfinanciamentos  habitacao  \\\n",
       "idcredito                                                            \n",
       "69                     4.0     37                     2        2.0   \n",
       "174                    2.0     33                     3        1.0   \n",
       "412                    2.0     35                     3        1.0   \n",
       "976                    3.0     57                     3        1.0   \n",
       "45                     4.0     58                     2        2.0   \n",
       "95                     4.0     54                     3        1.0   \n",
       "499                    2.0     32                     3        1.0   \n",
       "505                    4.0     24                     3        3.0   \n",
       "834                    4.0     42                     3        1.0   \n",
       "\n",
       "           emprestimoexistente  profissao  dependentes  socioempresa  \\\n",
       "idcredito                                                              \n",
       "69                           1        999            1             1   \n",
       "174                          1        999            1             0   \n",
       "412                          2        999            1             1   \n",
       "976                          1        999            1             0   \n",
       "45                           2        999            1             0   \n",
       "95                           1        999            1             1   \n",
       "499                          1        999            1             0   \n",
       "505                          1        999            1             0   \n",
       "834                          1        999            1             1   \n",
       "\n",
       "           estrangeiro  status  \n",
       "idcredito                       \n",
       "69                   0       0  \n",
       "174                  1       1  \n",
       "412                  0       1  \n",
       "976                  0       1  \n",
       "45                   0       0  \n",
       "95                   0       1  \n",
       "499                  0       1  \n",
       "505                  0       0  \n",
       "834                  0       1  "
      ]
     },
     "execution_count": 42,
     "metadata": {},
     "output_type": "execute_result"
    }
   ],
   "source": [
    "credito[credito['profissao'] == 999]"
   ]
  },
  {
   "cell_type": "code",
   "execution_count": 85,
   "metadata": {},
   "outputs": [
    {
     "data": {
      "text/plain": [
       "profissao\n",
       "1      147\n",
       "2       22\n",
       "3      197\n",
       "4      625\n",
       "999      9\n",
       "dtype: int64"
      ]
     },
     "execution_count": 85,
     "metadata": {},
     "output_type": "execute_result"
    }
   ],
   "source": [
    "profissao_group = credito.groupby(['profissao']).size()\n",
    "profissao_group"
   ]
  },
  {
   "cell_type": "markdown",
   "metadata": {},
   "source": [
    "The most part of credito data have profissao = 4 qualificado but I'll look more close how many this records received good credit"
   ]
  },
  {
   "cell_type": "code",
   "execution_count": 87,
   "metadata": {},
   "outputs": [
    {
     "data": {
      "text/html": [
       "<div>\n",
       "<style scoped>\n",
       "    .dataframe tbody tr th:only-of-type {\n",
       "        vertical-align: middle;\n",
       "    }\n",
       "\n",
       "    .dataframe tbody tr th {\n",
       "        vertical-align: top;\n",
       "    }\n",
       "\n",
       "    .dataframe thead th {\n",
       "        text-align: right;\n",
       "    }\n",
       "</style>\n",
       "<table border=\"1\" class=\"dataframe\">\n",
       "  <thead>\n",
       "    <tr style=\"text-align: right;\">\n",
       "      <th></th>\n",
       "      <th>duracao</th>\n",
       "      <th>historicocredito</th>\n",
       "      <th>proposito</th>\n",
       "      <th>valor</th>\n",
       "      <th>investimentos</th>\n",
       "      <th>emprego</th>\n",
       "      <th>tempoparcelamento</th>\n",
       "      <th>estadocivil</th>\n",
       "      <th>fiadorterceiros</th>\n",
       "      <th>residenciadesde</th>\n",
       "      <th>idade</th>\n",
       "      <th>outrosfinanciamentos</th>\n",
       "      <th>habitacao</th>\n",
       "      <th>emprestimoexistente</th>\n",
       "      <th>profissao</th>\n",
       "      <th>dependentes</th>\n",
       "      <th>socioempresa</th>\n",
       "      <th>estrangeiro</th>\n",
       "    </tr>\n",
       "    <tr>\n",
       "      <th>status</th>\n",
       "      <th></th>\n",
       "      <th></th>\n",
       "      <th></th>\n",
       "      <th></th>\n",
       "      <th></th>\n",
       "      <th></th>\n",
       "      <th></th>\n",
       "      <th></th>\n",
       "      <th></th>\n",
       "      <th></th>\n",
       "      <th></th>\n",
       "      <th></th>\n",
       "      <th></th>\n",
       "      <th></th>\n",
       "      <th></th>\n",
       "      <th></th>\n",
       "      <th></th>\n",
       "      <th></th>\n",
       "    </tr>\n",
       "  </thead>\n",
       "  <tbody>\n",
       "    <tr>\n",
       "      <th>0</th>\n",
       "      <td>184</td>\n",
       "      <td>184</td>\n",
       "      <td>184</td>\n",
       "      <td>184</td>\n",
       "      <td>184</td>\n",
       "      <td>184</td>\n",
       "      <td>184</td>\n",
       "      <td>184</td>\n",
       "      <td>184</td>\n",
       "      <td>184</td>\n",
       "      <td>184</td>\n",
       "      <td>184</td>\n",
       "      <td>184</td>\n",
       "      <td>184</td>\n",
       "      <td>184</td>\n",
       "      <td>184</td>\n",
       "      <td>184</td>\n",
       "      <td>184</td>\n",
       "    </tr>\n",
       "    <tr>\n",
       "      <th>1</th>\n",
       "      <td>441</td>\n",
       "      <td>441</td>\n",
       "      <td>441</td>\n",
       "      <td>441</td>\n",
       "      <td>441</td>\n",
       "      <td>441</td>\n",
       "      <td>441</td>\n",
       "      <td>441</td>\n",
       "      <td>441</td>\n",
       "      <td>441</td>\n",
       "      <td>441</td>\n",
       "      <td>441</td>\n",
       "      <td>441</td>\n",
       "      <td>441</td>\n",
       "      <td>441</td>\n",
       "      <td>441</td>\n",
       "      <td>441</td>\n",
       "      <td>441</td>\n",
       "    </tr>\n",
       "  </tbody>\n",
       "</table>\n",
       "</div>"
      ],
      "text/plain": [
       "        duracao  historicocredito  proposito  valor  investimentos  emprego  \\\n",
       "status                                                                        \n",
       "0           184               184        184    184            184      184   \n",
       "1           441               441        441    441            441      441   \n",
       "\n",
       "        tempoparcelamento  estadocivil  fiadorterceiros  residenciadesde  \\\n",
       "status                                                                     \n",
       "0                     184          184              184              184   \n",
       "1                     441          441              441              441   \n",
       "\n",
       "        idade  outrosfinanciamentos  habitacao  emprestimoexistente  \\\n",
       "status                                                                \n",
       "0         184                   184        184                  184   \n",
       "1         441                   441        441                  441   \n",
       "\n",
       "        profissao  dependentes  socioempresa  estrangeiro  \n",
       "status                                                     \n",
       "0             184          184           184          184  \n",
       "1             441          441           441          441  "
      ]
     },
     "execution_count": 87,
     "metadata": {},
     "output_type": "execute_result"
    }
   ],
   "source": [
    "profissao_group_2 = credito[credito['profissao'] == 4].groupby(['status']).count()\n",
    "profissao_group_2"
   ]
  },
  {
   "cell_type": "markdown",
   "metadata": {},
   "source": [
    "The distribuiton look's like Ok. I decide change all profissao = 999 to 4"
   ]
  },
  {
   "cell_type": "code",
   "execution_count": 43,
   "metadata": {},
   "outputs": [],
   "source": [
    "credito.loc[(credito['profissao'] == 999),'profissao'] = 4"
   ]
  },
  {
   "cell_type": "code",
   "execution_count": 44,
   "metadata": {},
   "outputs": [
    {
     "data": {
      "text/html": [
       "<div>\n",
       "<style scoped>\n",
       "    .dataframe tbody tr th:only-of-type {\n",
       "        vertical-align: middle;\n",
       "    }\n",
       "\n",
       "    .dataframe tbody tr th {\n",
       "        vertical-align: top;\n",
       "    }\n",
       "\n",
       "    .dataframe thead th {\n",
       "        text-align: right;\n",
       "    }\n",
       "</style>\n",
       "<table border=\"1\" class=\"dataframe\">\n",
       "  <thead>\n",
       "    <tr style=\"text-align: right;\">\n",
       "      <th></th>\n",
       "      <th>duracao</th>\n",
       "      <th>historicocredito</th>\n",
       "      <th>proposito</th>\n",
       "      <th>valor</th>\n",
       "      <th>investimentos</th>\n",
       "      <th>emprego</th>\n",
       "      <th>tempoparcelamento</th>\n",
       "      <th>estadocivil</th>\n",
       "      <th>fiadorterceiros</th>\n",
       "      <th>residenciadesde</th>\n",
       "      <th>idade</th>\n",
       "      <th>outrosfinanciamentos</th>\n",
       "      <th>habitacao</th>\n",
       "      <th>emprestimoexistente</th>\n",
       "      <th>profissao</th>\n",
       "      <th>dependentes</th>\n",
       "      <th>socioempresa</th>\n",
       "      <th>estrangeiro</th>\n",
       "      <th>status</th>\n",
       "    </tr>\n",
       "    <tr>\n",
       "      <th>idcredito</th>\n",
       "      <th></th>\n",
       "      <th></th>\n",
       "      <th></th>\n",
       "      <th></th>\n",
       "      <th></th>\n",
       "      <th></th>\n",
       "      <th></th>\n",
       "      <th></th>\n",
       "      <th></th>\n",
       "      <th></th>\n",
       "      <th></th>\n",
       "      <th></th>\n",
       "      <th></th>\n",
       "      <th></th>\n",
       "      <th></th>\n",
       "      <th></th>\n",
       "      <th></th>\n",
       "      <th></th>\n",
       "      <th></th>\n",
       "    </tr>\n",
       "  </thead>\n",
       "  <tbody>\n",
       "  </tbody>\n",
       "</table>\n",
       "</div>"
      ],
      "text/plain": [
       "Empty DataFrame\n",
       "Columns: [duracao, historicocredito, proposito, valor, investimentos, emprego, tempoparcelamento, estadocivil, fiadorterceiros, residenciadesde, idade, outrosfinanciamentos, habitacao, emprestimoexistente, profissao, dependentes, socioempresa, estrangeiro, status]\n",
       "Index: []"
      ]
     },
     "execution_count": 44,
     "metadata": {},
     "output_type": "execute_result"
    }
   ],
   "source": [
    "credito[credito['profissao'] == 999]"
   ]
  },
  {
   "cell_type": "code",
   "execution_count": 45,
   "metadata": {},
   "outputs": [],
   "source": [
    "'''\n",
    "Percist a cleanup version of dataset\n",
    "'''\n",
    "credito.to_csv('credito_01.csv')"
   ]
  },
  {
   "cell_type": "markdown",
   "metadata": {},
   "source": [
    "### Now I decide transform some continuos data in categorical like 'duracao', 'valor', 'idade' and others if necessary"
   ]
  },
  {
   "cell_type": "code",
   "execution_count": 6,
   "metadata": {},
   "outputs": [],
   "source": [
    "credito = pd.read_csv('credito_01.csv')"
   ]
  },
  {
   "cell_type": "code",
   "execution_count": 14,
   "metadata": {},
   "outputs": [
    {
     "data": {
      "text/plain": [
       "array([3, 1, 2, 4])"
      ]
     },
     "execution_count": 14,
     "metadata": {},
     "output_type": "execute_result"
    }
   ],
   "source": [
    "'''\n",
    "Looking 'duracao' values\n",
    "'''\n",
    "credito['duracao'].unique()"
   ]
  },
  {
   "cell_type": "code",
   "execution_count": 10,
   "metadata": {},
   "outputs": [
    {
     "data": {
      "text/plain": [
       "4"
      ]
     },
     "execution_count": 10,
     "metadata": {},
     "output_type": "execute_result"
    }
   ],
   "source": [
    "credito['duracao'].min()"
   ]
  },
  {
   "cell_type": "code",
   "execution_count": 12,
   "metadata": {},
   "outputs": [
    {
     "data": {
      "text/plain": [
       "12.0"
      ]
     },
     "execution_count": 12,
     "metadata": {},
     "output_type": "execute_result"
    }
   ],
   "source": [
    "credito['duracao'].quantile(0.25)"
   ]
  },
  {
   "cell_type": "code",
   "execution_count": 14,
   "metadata": {},
   "outputs": [
    {
     "data": {
      "text/plain": [
       "18.0"
      ]
     },
     "execution_count": 14,
     "metadata": {},
     "output_type": "execute_result"
    }
   ],
   "source": [
    "credito['duracao'].median()"
   ]
  },
  {
   "cell_type": "code",
   "execution_count": 13,
   "metadata": {},
   "outputs": [
    {
     "data": {
      "text/plain": [
       "24.0"
      ]
     },
     "execution_count": 13,
     "metadata": {},
     "output_type": "execute_result"
    }
   ],
   "source": [
    "credito['duracao'].quantile(0.75)"
   ]
  },
  {
   "cell_type": "code",
   "execution_count": 11,
   "metadata": {},
   "outputs": [
    {
     "data": {
      "text/plain": [
       "72"
      ]
     },
     "execution_count": 11,
     "metadata": {},
     "output_type": "execute_result"
    }
   ],
   "source": [
    "credito['duracao'].max()"
   ]
  },
  {
   "cell_type": "code",
   "execution_count": 8,
   "metadata": {},
   "outputs": [],
   "source": [
    "'''\n",
    "Based in amplitude and range of values I'll make 'duracao' in these classes\n",
    "1 :  <= 21\n",
    "2 :  > 21 and <= 38\n",
    "3 :  > 38 and <= 55\n",
    "4 :  > 55\n",
    "'''\n",
    "def duration_class(duration):\n",
    "    if duration <= 21:\n",
    "        return 1\n",
    "    elif duration > 21 and duration <= 38:\n",
    "        return 2\n",
    "    elif duration > 38 and duration <= 55:\n",
    "        return 3\n",
    "    else:\n",
    "        return 4"
   ]
  },
  {
   "cell_type": "code",
   "execution_count": 9,
   "metadata": {},
   "outputs": [],
   "source": [
    "credito['duracao'] = credito['duracao'].apply(duration_class)"
   ]
  },
  {
   "cell_type": "code",
   "execution_count": 49,
   "metadata": {},
   "outputs": [
    {
     "data": {
      "text/plain": [
       "19"
      ]
     },
     "execution_count": 49,
     "metadata": {},
     "output_type": "execute_result"
    }
   ],
   "source": [
    "'''\n",
    "Looking 'idade' values\n",
    "'''\n",
    "credito['idade'].min()"
   ]
  },
  {
   "cell_type": "code",
   "execution_count": 50,
   "metadata": {},
   "outputs": [
    {
     "data": {
      "text/plain": [
       "27.0"
      ]
     },
     "execution_count": 50,
     "metadata": {},
     "output_type": "execute_result"
    }
   ],
   "source": [
    "credito['idade'].quantile(0.25)"
   ]
  },
  {
   "cell_type": "code",
   "execution_count": 53,
   "metadata": {},
   "outputs": [
    {
     "data": {
      "text/plain": [
       "33.0"
      ]
     },
     "execution_count": 53,
     "metadata": {},
     "output_type": "execute_result"
    }
   ],
   "source": [
    "credito['idade'].median()"
   ]
  },
  {
   "cell_type": "code",
   "execution_count": 51,
   "metadata": {},
   "outputs": [
    {
     "data": {
      "text/plain": [
       "42.0"
      ]
     },
     "execution_count": 51,
     "metadata": {},
     "output_type": "execute_result"
    }
   ],
   "source": [
    "credito['idade'].quantile(0.75)"
   ]
  },
  {
   "cell_type": "code",
   "execution_count": 52,
   "metadata": {},
   "outputs": [
    {
     "data": {
      "text/plain": [
       "75"
      ]
     },
     "execution_count": 52,
     "metadata": {},
     "output_type": "execute_result"
    }
   ],
   "source": [
    "credito['idade'].max()"
   ]
  },
  {
   "cell_type": "code",
   "execution_count": 54,
   "metadata": {},
   "outputs": [
    {
     "data": {
      "text/plain": [
       "56"
      ]
     },
     "execution_count": 54,
     "metadata": {},
     "output_type": "execute_result"
    }
   ],
   "source": [
    "credito['idade'].max() - credito['idade'].min()"
   ]
  },
  {
   "cell_type": "code",
   "execution_count": 55,
   "metadata": {},
   "outputs": [
    {
     "data": {
      "text/plain": [
       "14.0"
      ]
     },
     "execution_count": 55,
     "metadata": {},
     "output_type": "execute_result"
    }
   ],
   "source": [
    "(credito['idade'].max() - credito['idade'].min())/4"
   ]
  },
  {
   "cell_type": "code",
   "execution_count": 11,
   "metadata": {},
   "outputs": [],
   "source": [
    "'''\n",
    "Based in amplitude and range of values I'll make 'idade' in these classes\n",
    "1 :  <= 33\n",
    "2 :   > 33 and <= 47\n",
    "3 :   > 47 and <= 61\n",
    "4 :   > 61\n",
    "'''\n",
    "def idade_class(age):\n",
    "    if age <= 33:\n",
    "        return 1\n",
    "    elif age > 33 and age <= 47:\n",
    "        return 2\n",
    "    elif age > 47 and age <= 61:\n",
    "        return 3\n",
    "    else:\n",
    "        return 4"
   ]
  },
  {
   "cell_type": "code",
   "execution_count": 12,
   "metadata": {},
   "outputs": [],
   "source": [
    "credito['idade'] = credito['idade'].apply(idade_class)"
   ]
  },
  {
   "cell_type": "code",
   "execution_count": 13,
   "metadata": {},
   "outputs": [
    {
     "data": {
      "text/plain": [
       "array([1, 3, 2, 4])"
      ]
     },
     "execution_count": 13,
     "metadata": {},
     "output_type": "execute_result"
    }
   ],
   "source": [
    "credito['idade'].unique()"
   ]
  },
  {
   "cell_type": "code",
   "execution_count": 15,
   "metadata": {},
   "outputs": [],
   "source": [
    "'''\n",
    "Percist a categorigal version of dataset\n",
    "'''\n",
    "credito.to_csv('credito_02.csv')"
   ]
  },
  {
   "cell_type": "markdown",
   "metadata": {},
   "source": [
    "## Part 3 - Model creation"
   ]
  },
  {
   "cell_type": "code",
   "execution_count": 1,
   "metadata": {},
   "outputs": [],
   "source": [
    "import numpy as np\n",
    "import pandas as pd\n",
    "from sklearn.preprocessing import LabelEncoder\n",
    "from sklearn.model_selection import train_test_split\n",
    "from sklearn.ensemble import ExtraTreesClassifier\n",
    "from sklearn.svm import SVC\n",
    "from sklearn.metrics import confusion_matrix, accuracy_score\n",
    "from sklearn.naive_bayes import GaussianNB\n",
    "from sklearn.ensemble import RandomForestClassifier"
   ]
  },
  {
   "cell_type": "code",
   "execution_count": 5,
   "metadata": {},
   "outputs": [],
   "source": [
    "'''\n",
    "Loading all versions of credito to evaluate all posible results \n",
    "'''\n",
    "credito_01 = pd.read_csv('credito_01.csv',index_col='idcredito')\n",
    "credito_02 = pd.read_csv('credito_02.csv',index_col='idcredito')\n",
    "credito_03 = pd.read_csv('credito_03.csv')"
   ]
  },
  {
   "cell_type": "code",
   "execution_count": 6,
   "metadata": {},
   "outputs": [
    {
     "name": "stdout",
     "output_type": "stream",
     "text": [
      "<class 'pandas.core.frame.DataFrame'>\n",
      "Int64Index: 1000 entries, 2 to 565\n",
      "Data columns (total 19 columns):\n",
      " #   Column                Non-Null Count  Dtype  \n",
      "---  ------                --------------  -----  \n",
      " 0   duracao               1000 non-null   int64  \n",
      " 1   historicocredito      1000 non-null   int64  \n",
      " 2   proposito             1000 non-null   int64  \n",
      " 3   valor                 1000 non-null   int64  \n",
      " 4   investimentos         1000 non-null   int64  \n",
      " 5   emprego               1000 non-null   float64\n",
      " 6   tempoparcelamento     1000 non-null   int64  \n",
      " 7   estadocivil           1000 non-null   int64  \n",
      " 8   fiadorterceiros       1000 non-null   int64  \n",
      " 9   residenciadesde       1000 non-null   float64\n",
      " 10  idade                 1000 non-null   int64  \n",
      " 11  outrosfinanciamentos  1000 non-null   int64  \n",
      " 12  habitacao             1000 non-null   float64\n",
      " 13  emprestimoexistente   1000 non-null   int64  \n",
      " 14  profissao             1000 non-null   int64  \n",
      " 15  dependentes           1000 non-null   int64  \n",
      " 16  socioempresa          1000 non-null   int64  \n",
      " 17  estrangeiro           1000 non-null   int64  \n",
      " 18  status                1000 non-null   int64  \n",
      "dtypes: float64(3), int64(16)\n",
      "memory usage: 156.2 KB\n"
     ]
    }
   ],
   "source": [
    "credito_01.info()"
   ]
  },
  {
   "cell_type": "code",
   "execution_count": 7,
   "metadata": {},
   "outputs": [
    {
     "name": "stdout",
     "output_type": "stream",
     "text": [
      "<class 'pandas.core.frame.DataFrame'>\n",
      "Int64Index: 1000 entries, 2 to 565\n",
      "Data columns (total 20 columns):\n",
      " #   Column                Non-Null Count  Dtype  \n",
      "---  ------                --------------  -----  \n",
      " 0   Unnamed: 0            1000 non-null   int64  \n",
      " 1   duracao               1000 non-null   int64  \n",
      " 2   historicocredito      1000 non-null   int64  \n",
      " 3   proposito             1000 non-null   int64  \n",
      " 4   valor                 1000 non-null   int64  \n",
      " 5   investimentos         1000 non-null   int64  \n",
      " 6   emprego               1000 non-null   float64\n",
      " 7   tempoparcelamento     1000 non-null   int64  \n",
      " 8   estadocivil           1000 non-null   int64  \n",
      " 9   fiadorterceiros       1000 non-null   int64  \n",
      " 10  residenciadesde       1000 non-null   float64\n",
      " 11  idade                 1000 non-null   int64  \n",
      " 12  outrosfinanciamentos  1000 non-null   int64  \n",
      " 13  habitacao             1000 non-null   float64\n",
      " 14  emprestimoexistente   1000 non-null   int64  \n",
      " 15  profissao             1000 non-null   int64  \n",
      " 16  dependentes           1000 non-null   int64  \n",
      " 17  socioempresa          1000 non-null   int64  \n",
      " 18  estrangeiro           1000 non-null   int64  \n",
      " 19  status                1000 non-null   int64  \n",
      "dtypes: float64(3), int64(17)\n",
      "memory usage: 164.1 KB\n"
     ]
    }
   ],
   "source": [
    "credito_02.info()"
   ]
  },
  {
   "cell_type": "code",
   "execution_count": 10,
   "metadata": {},
   "outputs": [
    {
     "data": {
      "text/plain": [
       "'Unnamed: 0'"
      ]
     },
     "execution_count": 10,
     "metadata": {},
     "output_type": "execute_result"
    }
   ],
   "source": [
    "credito_02.columns[0]"
   ]
  },
  {
   "cell_type": "code",
   "execution_count": 11,
   "metadata": {},
   "outputs": [],
   "source": [
    "'''\n",
    "Removing Unnamed because is not necessary for modeling purposes\n",
    "'''\n",
    "credito_02.drop(axis=1,columns=credito_02.columns[0],inplace=True)"
   ]
  },
  {
   "cell_type": "code",
   "execution_count": 12,
   "metadata": {},
   "outputs": [
    {
     "name": "stdout",
     "output_type": "stream",
     "text": [
      "<class 'pandas.core.frame.DataFrame'>\n",
      "Int64Index: 1000 entries, 2 to 565\n",
      "Data columns (total 19 columns):\n",
      " #   Column                Non-Null Count  Dtype  \n",
      "---  ------                --------------  -----  \n",
      " 0   duracao               1000 non-null   int64  \n",
      " 1   historicocredito      1000 non-null   int64  \n",
      " 2   proposito             1000 non-null   int64  \n",
      " 3   valor                 1000 non-null   int64  \n",
      " 4   investimentos         1000 non-null   int64  \n",
      " 5   emprego               1000 non-null   float64\n",
      " 6   tempoparcelamento     1000 non-null   int64  \n",
      " 7   estadocivil           1000 non-null   int64  \n",
      " 8   fiadorterceiros       1000 non-null   int64  \n",
      " 9   residenciadesde       1000 non-null   float64\n",
      " 10  idade                 1000 non-null   int64  \n",
      " 11  outrosfinanciamentos  1000 non-null   int64  \n",
      " 12  habitacao             1000 non-null   float64\n",
      " 13  emprestimoexistente   1000 non-null   int64  \n",
      " 14  profissao             1000 non-null   int64  \n",
      " 15  dependentes           1000 non-null   int64  \n",
      " 16  socioempresa          1000 non-null   int64  \n",
      " 17  estrangeiro           1000 non-null   int64  \n",
      " 18  status                1000 non-null   int64  \n",
      "dtypes: float64(3), int64(16)\n",
      "memory usage: 156.2 KB\n"
     ]
    }
   ],
   "source": [
    "credito_02.info()"
   ]
  },
  {
   "cell_type": "code",
   "execution_count": 13,
   "metadata": {},
   "outputs": [
    {
     "name": "stdout",
     "output_type": "stream",
     "text": [
      "<class 'pandas.core.frame.DataFrame'>\n",
      "RangeIndex: 1000 entries, 0 to 999\n",
      "Data columns (total 20 columns):\n",
      " #   Column                Non-Null Count  Dtype  \n",
      "---  ------                --------------  -----  \n",
      " 0   Unnamed: 0            1000 non-null   int64  \n",
      " 1   duracao               1000 non-null   int64  \n",
      " 2   historicocredito      1000 non-null   int64  \n",
      " 3   proposito             1000 non-null   int64  \n",
      " 4   valor                 1000 non-null   float64\n",
      " 5   investimentos         1000 non-null   int64  \n",
      " 6   emprego               1000 non-null   float64\n",
      " 7   tempoparcelamento     1000 non-null   int64  \n",
      " 8   estadocivil           1000 non-null   int64  \n",
      " 9   fiadorterceiros       1000 non-null   int64  \n",
      " 10  residenciadesde       1000 non-null   float64\n",
      " 11  idade                 1000 non-null   int64  \n",
      " 12  outrosfinanciamentos  1000 non-null   int64  \n",
      " 13  habitacao             1000 non-null   float64\n",
      " 14  emprestimoexistente   1000 non-null   int64  \n",
      " 15  profissao             1000 non-null   int64  \n",
      " 16  dependentes           1000 non-null   int64  \n",
      " 17  socioempresa          1000 non-null   int64  \n",
      " 18  estrangeiro           1000 non-null   int64  \n",
      " 19  status                1000 non-null   int64  \n",
      "dtypes: float64(4), int64(16)\n",
      "memory usage: 156.4 KB\n"
     ]
    }
   ],
   "source": [
    "credito_03.info()"
   ]
  },
  {
   "cell_type": "code",
   "execution_count": 14,
   "metadata": {},
   "outputs": [],
   "source": [
    "'''\n",
    "Removing Unnamed because is not necessary for modeling purposes\n",
    "'''\n",
    "credito_03.drop(axis=1,columns=credito_03.columns[0],inplace=True)"
   ]
  },
  {
   "cell_type": "code",
   "execution_count": 15,
   "metadata": {},
   "outputs": [
    {
     "name": "stdout",
     "output_type": "stream",
     "text": [
      "<class 'pandas.core.frame.DataFrame'>\n",
      "RangeIndex: 1000 entries, 0 to 999\n",
      "Data columns (total 19 columns):\n",
      " #   Column                Non-Null Count  Dtype  \n",
      "---  ------                --------------  -----  \n",
      " 0   duracao               1000 non-null   int64  \n",
      " 1   historicocredito      1000 non-null   int64  \n",
      " 2   proposito             1000 non-null   int64  \n",
      " 3   valor                 1000 non-null   float64\n",
      " 4   investimentos         1000 non-null   int64  \n",
      " 5   emprego               1000 non-null   float64\n",
      " 6   tempoparcelamento     1000 non-null   int64  \n",
      " 7   estadocivil           1000 non-null   int64  \n",
      " 8   fiadorterceiros       1000 non-null   int64  \n",
      " 9   residenciadesde       1000 non-null   float64\n",
      " 10  idade                 1000 non-null   int64  \n",
      " 11  outrosfinanciamentos  1000 non-null   int64  \n",
      " 12  habitacao             1000 non-null   float64\n",
      " 13  emprestimoexistente   1000 non-null   int64  \n",
      " 14  profissao             1000 non-null   int64  \n",
      " 15  dependentes           1000 non-null   int64  \n",
      " 16  socioempresa          1000 non-null   int64  \n",
      " 17  estrangeiro           1000 non-null   int64  \n",
      " 18  status                1000 non-null   int64  \n",
      "dtypes: float64(4), int64(15)\n",
      "memory usage: 148.6 KB\n"
     ]
    }
   ],
   "source": [
    "credito_03.info()"
   ]
  },
  {
   "cell_type": "markdown",
   "metadata": {},
   "source": [
    "I'll run the attribute selector ExtraTreesClassifier and compare models generate using all dataset attibutes with models attibutes choice using ExtraTreesClassifier"
   ]
  },
  {
   "cell_type": "code",
   "execution_count": 16,
   "metadata": {},
   "outputs": [],
   "source": [
    "'''\n",
    "Separating predictors and the target value for classification\n",
    "'''\n",
    "previsores_01 = credito_01.iloc[:,0:18].values\n",
    "classe_01 = credito_01.iloc[:,18].values\n",
    "previsores_02 = credito_02.iloc[:,0:18].values\n",
    "classe_02 = credito_02.iloc[:,18].values\n",
    "previsores_03 = credito_03.iloc[:,0:18].values\n",
    "classe_03 = credito_03.iloc[:,18].values"
   ]
  },
  {
   "cell_type": "code",
   "execution_count": 17,
   "metadata": {},
   "outputs": [],
   "source": [
    "# Spliting data\n",
    "X_treinamento_01, X_teste_01, y_treinamento_01, y_teste_01 = train_test_split(previsores_01,\n",
    "                                                                  classe_01,\n",
    "                                                                  test_size = 0.3,\n",
    "                                                                  random_state = 1)\n",
    "X_treinamento_02, X_teste_02, y_treinamento_02, y_teste_02 = train_test_split(previsores_02,\n",
    "                                                                  classe_02,\n",
    "                                                                  test_size = 0.3,\n",
    "                                                                  random_state = 1)\n",
    "X_treinamento_03, X_teste_03, y_treinamento_03, y_teste_03 = train_test_split(previsores_03,\n",
    "                                                                  classe_03,\n",
    "                                                                  test_size = 0.3,\n",
    "                                                                  random_state = 1)"
   ]
  },
  {
   "cell_type": "code",
   "execution_count": 18,
   "metadata": {},
   "outputs": [],
   "source": [
    "'''\n",
    "Using a ExtraTreesClassifier to help evaluating 'credito' attributes.\n",
    "'''\n",
    "forest = ExtraTreesClassifier()\n",
    "forest.fit(X_treinamento_01, y_treinamento_01)\n",
    "importancias_01 = forest.feature_importances_\n",
    "indices_01 = np.where(importancias_01 > 0.05)\n",
    "forest = ExtraTreesClassifier()\n",
    "forest.fit(X_treinamento_02, y_treinamento_02)\n",
    "importancias_02 = forest.feature_importances_\n",
    "indices_02 = np.where(importancias_02 > 0.05)\n",
    "forest = ExtraTreesClassifier()\n",
    "forest.fit(X_treinamento_03, y_treinamento_03)\n",
    "importancias_03 = forest.feature_importances_\n",
    "indices_03 = np.where(importancias_03 > 0.05)"
   ]
  },
  {
   "cell_type": "code",
   "execution_count": 19,
   "metadata": {},
   "outputs": [
    {
     "data": {
      "text/plain": [
       "(array([ 0,  1,  2,  3,  4,  5,  6,  9, 10]),)"
      ]
     },
     "execution_count": 19,
     "metadata": {},
     "output_type": "execute_result"
    }
   ],
   "source": [
    "indices_01"
   ]
  },
  {
   "cell_type": "code",
   "execution_count": 20,
   "metadata": {},
   "outputs": [
    {
     "data": {
      "text/plain": [
       "(array([ 0,  1,  2,  3,  4,  5,  6,  7,  9, 10, 14]),)"
      ]
     },
     "execution_count": 20,
     "metadata": {},
     "output_type": "execute_result"
    }
   ],
   "source": [
    "indices_02"
   ]
  },
  {
   "cell_type": "code",
   "execution_count": 21,
   "metadata": {},
   "outputs": [
    {
     "data": {
      "text/plain": [
       "(array([ 0,  1,  2,  3,  4,  5,  6,  7,  9, 10, 14]),)"
      ]
     },
     "execution_count": 21,
     "metadata": {},
     "output_type": "execute_result"
    }
   ],
   "source": [
    "indices_03"
   ]
  },
  {
   "cell_type": "markdown",
   "metadata": {},
   "source": [
    "### First algorithm Support Vector Machine"
   ]
  },
  {
   "cell_type": "code",
   "execution_count": 23,
   "metadata": {},
   "outputs": [
    {
     "data": {
      "text/plain": [
       "0.7066666666666667"
      ]
     },
     "execution_count": 23,
     "metadata": {},
     "output_type": "execute_result"
    }
   ],
   "source": [
    "svm_selected_01 = SVC()\n",
    "svm_selected_01.fit(X_treinamento_01[:,indices_01[0]], y_treinamento_01)\n",
    "previsoes_01 = svm_selected_01.predict(X_teste_01[:,indices_01[0]])\n",
    "taxa_acerto_01 = accuracy_score(y_teste_01, previsoes_01)\n",
    "taxa_acerto_01"
   ]
  },
  {
   "cell_type": "code",
   "execution_count": 24,
   "metadata": {},
   "outputs": [
    {
     "data": {
      "text/plain": [
       "0.7066666666666667"
      ]
     },
     "execution_count": 24,
     "metadata": {},
     "output_type": "execute_result"
    }
   ],
   "source": [
    "svm_selected_02 = SVC()\n",
    "svm_selected_02.fit(X_treinamento_02[:,indices_02[0]], y_treinamento_02)\n",
    "previsoes_02 = svm_selected_02.predict(X_teste_02[:,indices_02[0]])\n",
    "taxa_acerto_02 = accuracy_score(y_teste_02, previsoes_02)\n",
    "taxa_acerto_02"
   ]
  },
  {
   "cell_type": "code",
   "execution_count": 25,
   "metadata": {},
   "outputs": [
    {
     "data": {
      "text/plain": [
       "0.7133333333333334"
      ]
     },
     "execution_count": 25,
     "metadata": {},
     "output_type": "execute_result"
    }
   ],
   "source": [
    "svm_selected_03 = SVC()\n",
    "svm_selected_03.fit(X_treinamento_03[:,indices_03[0]], y_treinamento_03)\n",
    "previsoes_03 = svm_selected_03.predict(X_teste_03[:,indices_03[0]])\n",
    "taxa_acerto_03 = accuracy_score(y_teste_03, previsoes_03)\n",
    "taxa_acerto_03"
   ]
  },
  {
   "cell_type": "code",
   "execution_count": 27,
   "metadata": {},
   "outputs": [
    {
     "data": {
      "text/plain": [
       "0.7066666666666667"
      ]
     },
     "execution_count": 27,
     "metadata": {},
     "output_type": "execute_result"
    }
   ],
   "source": [
    "svm_complete_01 = SVC()\n",
    "svm_complete_01.fit(X_treinamento_01, y_treinamento_01)\n",
    "previsoes_01 = svm_complete_01.predict(X_teste_01)\n",
    "taxa_acerto = accuracy_score(y_teste_01, previsoes_01)\n",
    "taxa_acerto"
   ]
  },
  {
   "cell_type": "code",
   "execution_count": 28,
   "metadata": {},
   "outputs": [
    {
     "data": {
      "text/plain": [
       "0.7066666666666667"
      ]
     },
     "execution_count": 28,
     "metadata": {},
     "output_type": "execute_result"
    }
   ],
   "source": [
    "svm_complete_02 = SVC()\n",
    "svm_complete_02.fit(X_treinamento_02, y_treinamento_02)\n",
    "previsoes_02 = svm_complete_02.predict(X_teste_02)\n",
    "taxa_acerto = accuracy_score(y_teste_02, previsoes_02)\n",
    "taxa_acerto"
   ]
  },
  {
   "cell_type": "code",
   "execution_count": 29,
   "metadata": {},
   "outputs": [
    {
     "data": {
      "text/plain": [
       "0.7066666666666667"
      ]
     },
     "execution_count": 29,
     "metadata": {},
     "output_type": "execute_result"
    }
   ],
   "source": [
    "svm_complete_03 = SVC()\n",
    "svm_complete_03.fit(X_treinamento_03, y_treinamento_03)\n",
    "previsoes_03 = svm_complete_03.predict(X_teste_03)\n",
    "taxa_acerto = accuracy_score(y_teste_03, previsoes_03)\n",
    "taxa_acerto"
   ]
  },
  {
   "cell_type": "markdown",
   "metadata": {},
   "source": [
    "### Second algorithm Naive Bayes"
   ]
  },
  {
   "cell_type": "code",
   "execution_count": 37,
   "metadata": {},
   "outputs": [
    {
     "data": {
      "text/plain": [
       "0.7166666666666667"
      ]
     },
     "execution_count": 37,
     "metadata": {},
     "output_type": "execute_result"
    }
   ],
   "source": [
    "naive_bayes_selected_01 = GaussianNB()\n",
    "naive_bayes_selected_01.fit(X_treinamento_01[:,indices_01[0]], y_treinamento_01)\n",
    "previsoes = naive_bayes_selected_01.predict(X_teste_01[:,indices_01[0]])\n",
    "taxa_acerto = accuracy_score(y_teste_01, previsoes)\n",
    "taxa_acerto"
   ]
  },
  {
   "cell_type": "code",
   "execution_count": 38,
   "metadata": {},
   "outputs": [
    {
     "data": {
      "text/plain": [
       "0.7166666666666667"
      ]
     },
     "execution_count": 38,
     "metadata": {},
     "output_type": "execute_result"
    }
   ],
   "source": [
    "naive_bayes_selected_02 = GaussianNB()\n",
    "naive_bayes_selected_02.fit(X_treinamento_02[:,indices_02[0]], y_treinamento_02)\n",
    "previsoes = naive_bayes_selected_02.predict(X_teste_02[:,indices_02[0]])\n",
    "taxa_acerto = accuracy_score(y_teste_02, previsoes)\n",
    "taxa_acerto"
   ]
  },
  {
   "cell_type": "code",
   "execution_count": 41,
   "metadata": {},
   "outputs": [
    {
     "data": {
      "text/plain": [
       "0.71"
      ]
     },
     "execution_count": 41,
     "metadata": {},
     "output_type": "execute_result"
    }
   ],
   "source": [
    "naive_bayes_selected_03 = GaussianNB()\n",
    "naive_bayes_selected_03.fit(X_treinamento_03[:,indices_03[0]], y_treinamento_03)\n",
    "previsoes = naive_bayes_selected_03.predict(X_teste_03[:,indices_03[0]])\n",
    "taxa_acerto = accuracy_score(y_teste_03, previsoes)\n",
    "taxa_acerto"
   ]
  },
  {
   "cell_type": "code",
   "execution_count": 39,
   "metadata": {},
   "outputs": [
    {
     "data": {
      "text/plain": [
       "0.6933333333333334"
      ]
     },
     "execution_count": 39,
     "metadata": {},
     "output_type": "execute_result"
    }
   ],
   "source": [
    "naive_bayes_complete_01 = GaussianNB()\n",
    "naive_bayes_complete_01.fit(X_treinamento_01, y_treinamento_01)\n",
    "previsoes = naive_bayes_complete_01.predict(X_teste_01)\n",
    "taxa_acerto = accuracy_score(y_teste_01, previsoes)\n",
    "taxa_acerto"
   ]
  },
  {
   "cell_type": "code",
   "execution_count": 40,
   "metadata": {},
   "outputs": [
    {
     "data": {
      "text/plain": [
       "0.69"
      ]
     },
     "execution_count": 40,
     "metadata": {},
     "output_type": "execute_result"
    }
   ],
   "source": [
    "naive_bayes_complete_02 = GaussianNB()\n",
    "naive_bayes_complete_02.fit(X_treinamento_02, y_treinamento_02)\n",
    "previsoes = naive_bayes_complete_02.predict(X_teste_02)\n",
    "taxa_acerto = accuracy_score(y_teste_02, previsoes)\n",
    "taxa_acerto"
   ]
  },
  {
   "cell_type": "code",
   "execution_count": 42,
   "metadata": {},
   "outputs": [
    {
     "data": {
      "text/plain": [
       "0.6566666666666666"
      ]
     },
     "execution_count": 42,
     "metadata": {},
     "output_type": "execute_result"
    }
   ],
   "source": [
    "naive_bayes_complete_03 = GaussianNB()\n",
    "naive_bayes_complete_03.fit(X_treinamento_03, y_treinamento_03)\n",
    "previsoes = naive_bayes_complete_03.predict(X_teste_03)\n",
    "taxa_acerto = accuracy_score(y_teste_03, previsoes)\n",
    "taxa_acerto"
   ]
  },
  {
   "cell_type": "markdown",
   "metadata": {},
   "source": [
    "### The third algorithm using Ranom Forest "
   ]
  },
  {
   "cell_type": "code",
   "execution_count": 44,
   "metadata": {},
   "outputs": [
    {
     "data": {
      "text/plain": [
       "0.7533333333333333"
      ]
     },
     "execution_count": 44,
     "metadata": {},
     "output_type": "execute_result"
    }
   ],
   "source": [
    "floresta_selected_01 = RandomForestClassifier(n_estimators = 100)\n",
    "floresta_selected_01.fit(X_treinamento_01[:,indices_01[0]], y_treinamento_01)\n",
    "previsoes = floresta_selected_01.predict(X_teste_01[:,indices_01[0]])\n",
    "taxa_acerto = accuracy_score(y_teste_01, previsoes)\n",
    "taxa_acerto"
   ]
  },
  {
   "cell_type": "code",
   "execution_count": 45,
   "metadata": {},
   "outputs": [
    {
     "data": {
      "text/plain": [
       "0.7433333333333333"
      ]
     },
     "execution_count": 45,
     "metadata": {},
     "output_type": "execute_result"
    }
   ],
   "source": [
    "floresta_selected_02 = RandomForestClassifier(n_estimators = 100)\n",
    "floresta_selected_02.fit(X_treinamento_02[:,indices_02[0]], y_treinamento_02)\n",
    "previsoes = floresta_selected_02.predict(X_teste_02[:,indices_02[0]])\n",
    "taxa_acerto = accuracy_score(y_teste_02, previsoes)\n",
    "taxa_acerto"
   ]
  },
  {
   "cell_type": "code",
   "execution_count": 46,
   "metadata": {},
   "outputs": [
    {
     "data": {
      "text/plain": [
       "0.7366666666666667"
      ]
     },
     "execution_count": 46,
     "metadata": {},
     "output_type": "execute_result"
    }
   ],
   "source": [
    "floresta_selected_03 = RandomForestClassifier(n_estimators = 100)\n",
    "floresta_selected_03.fit(X_treinamento_03[:,indices_03[0]], y_treinamento_03)\n",
    "previsoes = floresta_selected_03.predict(X_teste_03[:,indices_03[0]])\n",
    "taxa_acerto = accuracy_score(y_teste_03, previsoes)\n",
    "taxa_acerto"
   ]
  },
  {
   "cell_type": "code",
   "execution_count": 47,
   "metadata": {},
   "outputs": [
    {
     "data": {
      "text/plain": [
       "0.76"
      ]
     },
     "execution_count": 47,
     "metadata": {},
     "output_type": "execute_result"
    }
   ],
   "source": [
    "floresta_complete_01 = RandomForestClassifier(n_estimators = 100)\n",
    "floresta_complete_01.fit(X_treinamento_01, y_treinamento_01)\n",
    "previsoes = floresta_complete_01.predict(X_teste_01)\n",
    "taxa_acerto = accuracy_score(y_teste_01, previsoes)\n",
    "taxa_acerto"
   ]
  },
  {
   "cell_type": "code",
   "execution_count": 48,
   "metadata": {},
   "outputs": [
    {
     "data": {
      "text/plain": [
       "0.7433333333333333"
      ]
     },
     "execution_count": 48,
     "metadata": {},
     "output_type": "execute_result"
    }
   ],
   "source": [
    "floresta_complete_02 = RandomForestClassifier(n_estimators = 100)\n",
    "floresta_complete_02.fit(X_treinamento_02, y_treinamento_02)\n",
    "previsoes = floresta_complete_02.predict(X_teste_02)\n",
    "taxa_acerto = accuracy_score(y_teste_02, previsoes)\n",
    "taxa_acerto"
   ]
  },
  {
   "cell_type": "code",
   "execution_count": 49,
   "metadata": {},
   "outputs": [
    {
     "data": {
      "text/plain": [
       "0.72"
      ]
     },
     "execution_count": 49,
     "metadata": {},
     "output_type": "execute_result"
    }
   ],
   "source": [
    "floresta_complete_03 = RandomForestClassifier(n_estimators = 100)\n",
    "floresta_complete_03.fit(X_treinamento_03, y_treinamento_03)\n",
    "previsoes = floresta_complete_03.predict(X_teste_03)\n",
    "taxa_acerto = accuracy_score(y_teste_03, previsoes)\n",
    "taxa_acerto"
   ]
  },
  {
   "cell_type": "markdown",
   "metadata": {},
   "source": [
    "### Now I'll try to normalize the 'valor' to see how the algorithm works!"
   ]
  },
  {
   "cell_type": "code",
   "execution_count": 36,
   "metadata": {},
   "outputs": [],
   "source": [
    "from sklearn import preprocessing"
   ]
  },
  {
   "cell_type": "code",
   "execution_count": 38,
   "metadata": {},
   "outputs": [],
   "source": [
    "normalized_credito = preprocessing.normalize(credito)"
   ]
  },
  {
   "cell_type": "code",
   "execution_count": 60,
   "metadata": {},
   "outputs": [],
   "source": [
    "credito['valor'] = normalized_credito[:,3]"
   ]
  },
  {
   "cell_type": "code",
   "execution_count": 63,
   "metadata": {},
   "outputs": [],
   "source": [
    "'''\n",
    "Separating predictors and the target value for classification\n",
    "'''\n",
    "previsores = credito.iloc[:,0:18].values\n",
    "classe = credito.iloc[:,18].values"
   ]
  },
  {
   "cell_type": "code",
   "execution_count": 67,
   "metadata": {},
   "outputs": [],
   "source": [
    "# Spliting data\n",
    "X_treinamento, X_teste, y_treinamento, y_teste = train_test_split(previsores,\n",
    "                                                                  classe,\n",
    "                                                                  test_size = 0.3,\n",
    "                                                                  random_state = 1)"
   ]
  },
  {
   "cell_type": "code",
   "execution_count": 68,
   "metadata": {},
   "outputs": [
    {
     "data": {
      "text/plain": [
       "array([0.06450638, 0.0939424 , 0.0842546 , 0.10090709, 0.06289549,\n",
       "       0.07678382, 0.06681071, 0.05438602, 0.03379088, 0.06787551,\n",
       "       0.05293774, 0.03681189, 0.04091602, 0.0380231 , 0.05413231,\n",
       "       0.02888959, 0.03367193, 0.00846453])"
      ]
     },
     "execution_count": 68,
     "metadata": {},
     "output_type": "execute_result"
    }
   ],
   "source": [
    "'''\n",
    "Using a ExtraTreesClassifier to help evaluating 'credito' attributes.\n",
    "'''\n",
    "forest = ExtraTreesClassifier()\n",
    "forest.fit(X_treinamento, y_treinamento)\n",
    "importancias = forest.feature_importances_\n",
    "importancias"
   ]
  },
  {
   "cell_type": "code",
   "execution_count": 69,
   "metadata": {},
   "outputs": [
    {
     "data": {
      "text/plain": [
       "array([0.06450638, 0.0939424 , 0.0842546 , 0.10090709, 0.06289549,\n",
       "       0.07678382, 0.06681071, 0.05438602, 0.06787551, 0.05293774,\n",
       "       0.05413231])"
      ]
     },
     "execution_count": 69,
     "metadata": {},
     "output_type": "execute_result"
    }
   ],
   "source": [
    "importancias[importancias > 0.05]"
   ]
  },
  {
   "cell_type": "code",
   "execution_count": 70,
   "metadata": {},
   "outputs": [],
   "source": [
    "indices = np.where(importancias > 0.05)"
   ]
  },
  {
   "cell_type": "markdown",
   "metadata": {},
   "source": [
    "### First algorithm Support Vector Machine"
   ]
  },
  {
   "cell_type": "code",
   "execution_count": 71,
   "metadata": {},
   "outputs": [
    {
     "data": {
      "text/plain": [
       "0.7133333333333334"
      ]
     },
     "execution_count": 71,
     "metadata": {},
     "output_type": "execute_result"
    }
   ],
   "source": [
    "svm_selected = SVC()\n",
    "svm_selected.fit(X_treinamento[:,indices[0]], y_treinamento)\n",
    "previsoes = svm_selected.predict(X_teste[:,indices[0]])\n",
    "taxa_acerto = accuracy_score(y_teste, previsoes)\n",
    "taxa_acerto"
   ]
  },
  {
   "cell_type": "code",
   "execution_count": 72,
   "metadata": {},
   "outputs": [
    {
     "data": {
      "text/plain": [
       "0.7066666666666667"
      ]
     },
     "execution_count": 72,
     "metadata": {},
     "output_type": "execute_result"
    }
   ],
   "source": [
    "svm_complete = SVC()\n",
    "svm_complete.fit(X_treinamento, y_treinamento)\n",
    "previsoes = svm_complete.predict(X_teste)\n",
    "taxa_acerto = accuracy_score(y_teste, previsoes)\n",
    "taxa_acerto"
   ]
  },
  {
   "cell_type": "markdown",
   "metadata": {},
   "source": [
    "#### Creating the second model using Naive Bayes"
   ]
  },
  {
   "cell_type": "code",
   "execution_count": 73,
   "metadata": {},
   "outputs": [
    {
     "data": {
      "text/plain": [
       "0.71"
      ]
     },
     "execution_count": 73,
     "metadata": {},
     "output_type": "execute_result"
    }
   ],
   "source": [
    "naive_bayes_selected = GaussianNB()\n",
    "naive_bayes_selected.fit(X_treinamento[:,indices[0]], y_treinamento)\n",
    "previsoes = naive_bayes_selected.predict(X_teste[:,indices[0]])\n",
    "taxa_acerto = accuracy_score(y_teste, previsoes)\n",
    "taxa_acerto"
   ]
  },
  {
   "cell_type": "code",
   "execution_count": 74,
   "metadata": {},
   "outputs": [
    {
     "data": {
      "text/plain": [
       "0.6566666666666666"
      ]
     },
     "execution_count": 74,
     "metadata": {},
     "output_type": "execute_result"
    }
   ],
   "source": [
    "naive_bayes_complete = GaussianNB()\n",
    "naive_bayes_complete.fit(X_treinamento, y_treinamento)\n",
    "previsoes = naive_bayes_complete.predict(X_teste)\n",
    "taxa_acerto = accuracy_score(y_teste, previsoes)\n",
    "taxa_acerto"
   ]
  },
  {
   "cell_type": "markdown",
   "metadata": {},
   "source": [
    "#### Creating the third model using Ranom Forest "
   ]
  },
  {
   "cell_type": "code",
   "execution_count": 75,
   "metadata": {},
   "outputs": [
    {
     "data": {
      "text/plain": [
       "0.73"
      ]
     },
     "execution_count": 75,
     "metadata": {},
     "output_type": "execute_result"
    }
   ],
   "source": [
    "floresta_selected = RandomForestClassifier(n_estimators = 100)\n",
    "floresta_selected.fit(X_treinamento[:,indices[0]], y_treinamento)\n",
    "previsoes = floresta_selected.predict(X_teste[:,indices[0]])\n",
    "taxa_acerto = accuracy_score(y_teste, previsoes)\n",
    "taxa_acerto"
   ]
  },
  {
   "cell_type": "code",
   "execution_count": 76,
   "metadata": {},
   "outputs": [
    {
     "data": {
      "text/plain": [
       "0.73"
      ]
     },
     "execution_count": 76,
     "metadata": {},
     "output_type": "execute_result"
    }
   ],
   "source": [
    "floresta_complete = RandomForestClassifier(n_estimators = 100)\n",
    "floresta_complete.fit(X_treinamento, y_treinamento)\n",
    "previsoes = floresta_complete.predict(X_teste)\n",
    "taxa_acerto = accuracy_score(y_teste, previsoes)\n",
    "taxa_acerto"
   ]
  },
  {
   "cell_type": "code",
   "execution_count": 77,
   "metadata": {},
   "outputs": [
    {
     "data": {
      "text/html": [
       "<div>\n",
       "<style scoped>\n",
       "    .dataframe tbody tr th:only-of-type {\n",
       "        vertical-align: middle;\n",
       "    }\n",
       "\n",
       "    .dataframe tbody tr th {\n",
       "        vertical-align: top;\n",
       "    }\n",
       "\n",
       "    .dataframe thead th {\n",
       "        text-align: right;\n",
       "    }\n",
       "</style>\n",
       "<table border=\"1\" class=\"dataframe\">\n",
       "  <thead>\n",
       "    <tr style=\"text-align: right;\">\n",
       "      <th></th>\n",
       "      <th>duracao</th>\n",
       "      <th>historicocredito</th>\n",
       "      <th>proposito</th>\n",
       "      <th>valor</th>\n",
       "      <th>investimentos</th>\n",
       "      <th>emprego</th>\n",
       "      <th>tempoparcelamento</th>\n",
       "      <th>estadocivil</th>\n",
       "      <th>fiadorterceiros</th>\n",
       "      <th>residenciadesde</th>\n",
       "      <th>idade</th>\n",
       "      <th>outrosfinanciamentos</th>\n",
       "      <th>habitacao</th>\n",
       "      <th>emprestimoexistente</th>\n",
       "      <th>profissao</th>\n",
       "      <th>dependentes</th>\n",
       "      <th>socioempresa</th>\n",
       "      <th>estrangeiro</th>\n",
       "      <th>status</th>\n",
       "    </tr>\n",
       "  </thead>\n",
       "  <tbody>\n",
       "    <tr>\n",
       "      <th>0</th>\n",
       "      <td>3</td>\n",
       "      <td>2</td>\n",
       "      <td>1</td>\n",
       "      <td>0.999999</td>\n",
       "      <td>2</td>\n",
       "      <td>3.0</td>\n",
       "      <td>2</td>\n",
       "      <td>1</td>\n",
       "      <td>3</td>\n",
       "      <td>2.0</td>\n",
       "      <td>1</td>\n",
       "      <td>3</td>\n",
       "      <td>1.0</td>\n",
       "      <td>1</td>\n",
       "      <td>4</td>\n",
       "      <td>1</td>\n",
       "      <td>0</td>\n",
       "      <td>0</td>\n",
       "      <td>0</td>\n",
       "    </tr>\n",
       "    <tr>\n",
       "      <th>1</th>\n",
       "      <td>1</td>\n",
       "      <td>1</td>\n",
       "      <td>2</td>\n",
       "      <td>0.999989</td>\n",
       "      <td>2</td>\n",
       "      <td>4.0</td>\n",
       "      <td>2</td>\n",
       "      <td>4</td>\n",
       "      <td>3</td>\n",
       "      <td>3.0</td>\n",
       "      <td>3</td>\n",
       "      <td>3</td>\n",
       "      <td>1.0</td>\n",
       "      <td>1</td>\n",
       "      <td>3</td>\n",
       "      <td>2</td>\n",
       "      <td>0</td>\n",
       "      <td>0</td>\n",
       "      <td>1</td>\n",
       "    </tr>\n",
       "    <tr>\n",
       "      <th>2</th>\n",
       "      <td>3</td>\n",
       "      <td>2</td>\n",
       "      <td>3</td>\n",
       "      <td>0.999999</td>\n",
       "      <td>2</td>\n",
       "      <td>4.0</td>\n",
       "      <td>2</td>\n",
       "      <td>4</td>\n",
       "      <td>4</td>\n",
       "      <td>4.0</td>\n",
       "      <td>2</td>\n",
       "      <td>3</td>\n",
       "      <td>2.0</td>\n",
       "      <td>1</td>\n",
       "      <td>4</td>\n",
       "      <td>2</td>\n",
       "      <td>0</td>\n",
       "      <td>0</td>\n",
       "      <td>1</td>\n",
       "    </tr>\n",
       "    <tr>\n",
       "      <th>3</th>\n",
       "      <td>2</td>\n",
       "      <td>3</td>\n",
       "      <td>4</td>\n",
       "      <td>0.999997</td>\n",
       "      <td>2</td>\n",
       "      <td>3.0</td>\n",
       "      <td>3</td>\n",
       "      <td>4</td>\n",
       "      <td>3</td>\n",
       "      <td>4.0</td>\n",
       "      <td>3</td>\n",
       "      <td>3</td>\n",
       "      <td>2.0</td>\n",
       "      <td>2</td>\n",
       "      <td>4</td>\n",
       "      <td>2</td>\n",
       "      <td>0</td>\n",
       "      <td>0</td>\n",
       "      <td>0</td>\n",
       "    </tr>\n",
       "    <tr>\n",
       "      <th>4</th>\n",
       "      <td>2</td>\n",
       "      <td>2</td>\n",
       "      <td>2</td>\n",
       "      <td>0.999999</td>\n",
       "      <td>1</td>\n",
       "      <td>3.0</td>\n",
       "      <td>2</td>\n",
       "      <td>4</td>\n",
       "      <td>3</td>\n",
       "      <td>4.0</td>\n",
       "      <td>2</td>\n",
       "      <td>3</td>\n",
       "      <td>2.0</td>\n",
       "      <td>1</td>\n",
       "      <td>3</td>\n",
       "      <td>2</td>\n",
       "      <td>1</td>\n",
       "      <td>0</td>\n",
       "      <td>1</td>\n",
       "    </tr>\n",
       "  </tbody>\n",
       "</table>\n",
       "</div>"
      ],
      "text/plain": [
       "   duracao  historicocredito  proposito     valor  investimentos  emprego  \\\n",
       "0        3                 2          1  0.999999              2      3.0   \n",
       "1        1                 1          2  0.999989              2      4.0   \n",
       "2        3                 2          3  0.999999              2      4.0   \n",
       "3        2                 3          4  0.999997              2      3.0   \n",
       "4        2                 2          2  0.999999              1      3.0   \n",
       "\n",
       "   tempoparcelamento  estadocivil  fiadorterceiros  residenciadesde  idade  \\\n",
       "0                  2            1                3              2.0      1   \n",
       "1                  2            4                3              3.0      3   \n",
       "2                  2            4                4              4.0      2   \n",
       "3                  3            4                3              4.0      3   \n",
       "4                  2            4                3              4.0      2   \n",
       "\n",
       "   outrosfinanciamentos  habitacao  emprestimoexistente  profissao  \\\n",
       "0                     3        1.0                    1          4   \n",
       "1                     3        1.0                    1          3   \n",
       "2                     3        2.0                    1          4   \n",
       "3                     3        2.0                    2          4   \n",
       "4                     3        2.0                    1          3   \n",
       "\n",
       "   dependentes  socioempresa  estrangeiro  status  \n",
       "0            1             0            0       0  \n",
       "1            2             0            0       1  \n",
       "2            2             0            0       1  \n",
       "3            2             0            0       0  \n",
       "4            2             1            0       1  "
      ]
     },
     "execution_count": 77,
     "metadata": {},
     "output_type": "execute_result"
    }
   ],
   "source": [
    "credito.head()"
   ]
  },
  {
   "cell_type": "code",
   "execution_count": 78,
   "metadata": {},
   "outputs": [],
   "source": [
    "'''\n",
    "Percist a normalized version of dataset\n",
    "'''\n",
    "credito.to_csv('credito_03.csv')"
   ]
  },
  {
   "cell_type": "markdown",
   "metadata": {},
   "source": [
    "## 3.1 - Creating models using Neural Networking"
   ]
  },
  {
   "cell_type": "code",
   "execution_count": 2,
   "metadata": {},
   "outputs": [],
   "source": [
    "# Importação das bibliotecas\n",
    "from sklearn import datasets\n",
    "from sklearn.model_selection import train_test_split\n",
    "from sklearn.metrics import confusion_matrix\n",
    "from keras.models import Sequential\n",
    "from keras.layers import Dense\n",
    "from keras.utils import np_utils\n",
    "import numpy as np\n",
    "import pandas as pd\n",
    "from sklearn.ensemble import ExtraTreesClassifier"
   ]
  },
  {
   "cell_type": "code",
   "execution_count": 3,
   "metadata": {},
   "outputs": [],
   "source": [
    "credito_cleaned = pd.read_csv('credito_01.csv',index_col=[0])\n",
    "credito_categorical = pd.read_csv('credito_02.csv',index_col=[0])\n",
    "credito_normalized = pd.read_csv('credito_03.csv',index_col=[0])"
   ]
  },
  {
   "cell_type": "code",
   "execution_count": 4,
   "metadata": {},
   "outputs": [
    {
     "name": "stdout",
     "output_type": "stream",
     "text": [
      "<class 'pandas.core.frame.DataFrame'>\n",
      "Int64Index: 1000 entries, 2 to 565\n",
      "Data columns (total 19 columns):\n",
      " #   Column                Non-Null Count  Dtype  \n",
      "---  ------                --------------  -----  \n",
      " 0   duracao               1000 non-null   int64  \n",
      " 1   historicocredito      1000 non-null   int64  \n",
      " 2   proposito             1000 non-null   int64  \n",
      " 3   valor                 1000 non-null   int64  \n",
      " 4   investimentos         1000 non-null   int64  \n",
      " 5   emprego               1000 non-null   float64\n",
      " 6   tempoparcelamento     1000 non-null   int64  \n",
      " 7   estadocivil           1000 non-null   int64  \n",
      " 8   fiadorterceiros       1000 non-null   int64  \n",
      " 9   residenciadesde       1000 non-null   float64\n",
      " 10  idade                 1000 non-null   int64  \n",
      " 11  outrosfinanciamentos  1000 non-null   int64  \n",
      " 12  habitacao             1000 non-null   float64\n",
      " 13  emprestimoexistente   1000 non-null   int64  \n",
      " 14  profissao             1000 non-null   int64  \n",
      " 15  dependentes           1000 non-null   int64  \n",
      " 16  socioempresa          1000 non-null   int64  \n",
      " 17  estrangeiro           1000 non-null   int64  \n",
      " 18  status                1000 non-null   int64  \n",
      "dtypes: float64(3), int64(16)\n",
      "memory usage: 156.2 KB\n"
     ]
    }
   ],
   "source": [
    "credito_cleaned.info()"
   ]
  },
  {
   "cell_type": "code",
   "execution_count": 5,
   "metadata": {},
   "outputs": [
    {
     "name": "stdout",
     "output_type": "stream",
     "text": [
      "<class 'pandas.core.frame.DataFrame'>\n",
      "Int64Index: 1000 entries, 0 to 999\n",
      "Data columns (total 20 columns):\n",
      " #   Column                Non-Null Count  Dtype  \n",
      "---  ------                --------------  -----  \n",
      " 0   idcredito             1000 non-null   int64  \n",
      " 1   duracao               1000 non-null   int64  \n",
      " 2   historicocredito      1000 non-null   int64  \n",
      " 3   proposito             1000 non-null   int64  \n",
      " 4   valor                 1000 non-null   int64  \n",
      " 5   investimentos         1000 non-null   int64  \n",
      " 6   emprego               1000 non-null   float64\n",
      " 7   tempoparcelamento     1000 non-null   int64  \n",
      " 8   estadocivil           1000 non-null   int64  \n",
      " 9   fiadorterceiros       1000 non-null   int64  \n",
      " 10  residenciadesde       1000 non-null   float64\n",
      " 11  idade                 1000 non-null   int64  \n",
      " 12  outrosfinanciamentos  1000 non-null   int64  \n",
      " 13  habitacao             1000 non-null   float64\n",
      " 14  emprestimoexistente   1000 non-null   int64  \n",
      " 15  profissao             1000 non-null   int64  \n",
      " 16  dependentes           1000 non-null   int64  \n",
      " 17  socioempresa          1000 non-null   int64  \n",
      " 18  estrangeiro           1000 non-null   int64  \n",
      " 19  status                1000 non-null   int64  \n",
      "dtypes: float64(3), int64(17)\n",
      "memory usage: 164.1 KB\n"
     ]
    }
   ],
   "source": [
    "credito_categorical.info()"
   ]
  },
  {
   "cell_type": "code",
   "execution_count": 6,
   "metadata": {},
   "outputs": [],
   "source": [
    "'''\n",
    "Removing idcredito because is not necessary for modeling purposes\n",
    "'''\n",
    "credito_categorical.drop(axis=1,columns=['idcredito'],inplace=True)"
   ]
  },
  {
   "cell_type": "code",
   "execution_count": 7,
   "metadata": {},
   "outputs": [
    {
     "data": {
      "text/html": [
       "<div>\n",
       "<style scoped>\n",
       "    .dataframe tbody tr th:only-of-type {\n",
       "        vertical-align: middle;\n",
       "    }\n",
       "\n",
       "    .dataframe tbody tr th {\n",
       "        vertical-align: top;\n",
       "    }\n",
       "\n",
       "    .dataframe thead th {\n",
       "        text-align: right;\n",
       "    }\n",
       "</style>\n",
       "<table border=\"1\" class=\"dataframe\">\n",
       "  <thead>\n",
       "    <tr style=\"text-align: right;\">\n",
       "      <th></th>\n",
       "      <th>duracao</th>\n",
       "      <th>historicocredito</th>\n",
       "      <th>proposito</th>\n",
       "      <th>valor</th>\n",
       "      <th>investimentos</th>\n",
       "      <th>emprego</th>\n",
       "      <th>tempoparcelamento</th>\n",
       "      <th>estadocivil</th>\n",
       "      <th>fiadorterceiros</th>\n",
       "      <th>residenciadesde</th>\n",
       "      <th>idade</th>\n",
       "      <th>outrosfinanciamentos</th>\n",
       "      <th>habitacao</th>\n",
       "      <th>emprestimoexistente</th>\n",
       "      <th>profissao</th>\n",
       "      <th>dependentes</th>\n",
       "      <th>socioempresa</th>\n",
       "      <th>estrangeiro</th>\n",
       "      <th>status</th>\n",
       "    </tr>\n",
       "  </thead>\n",
       "  <tbody>\n",
       "    <tr>\n",
       "      <th>0</th>\n",
       "      <td>3</td>\n",
       "      <td>2</td>\n",
       "      <td>1</td>\n",
       "      <td>5951</td>\n",
       "      <td>2</td>\n",
       "      <td>3.0</td>\n",
       "      <td>2</td>\n",
       "      <td>1</td>\n",
       "      <td>3</td>\n",
       "      <td>2.0</td>\n",
       "      <td>1</td>\n",
       "      <td>3</td>\n",
       "      <td>1.0</td>\n",
       "      <td>1</td>\n",
       "      <td>4</td>\n",
       "      <td>1</td>\n",
       "      <td>0</td>\n",
       "      <td>0</td>\n",
       "      <td>0</td>\n",
       "    </tr>\n",
       "    <tr>\n",
       "      <th>1</th>\n",
       "      <td>1</td>\n",
       "      <td>1</td>\n",
       "      <td>2</td>\n",
       "      <td>2096</td>\n",
       "      <td>2</td>\n",
       "      <td>4.0</td>\n",
       "      <td>2</td>\n",
       "      <td>4</td>\n",
       "      <td>3</td>\n",
       "      <td>3.0</td>\n",
       "      <td>3</td>\n",
       "      <td>3</td>\n",
       "      <td>1.0</td>\n",
       "      <td>1</td>\n",
       "      <td>3</td>\n",
       "      <td>2</td>\n",
       "      <td>0</td>\n",
       "      <td>0</td>\n",
       "      <td>1</td>\n",
       "    </tr>\n",
       "    <tr>\n",
       "      <th>2</th>\n",
       "      <td>3</td>\n",
       "      <td>2</td>\n",
       "      <td>3</td>\n",
       "      <td>7882</td>\n",
       "      <td>2</td>\n",
       "      <td>4.0</td>\n",
       "      <td>2</td>\n",
       "      <td>4</td>\n",
       "      <td>4</td>\n",
       "      <td>4.0</td>\n",
       "      <td>2</td>\n",
       "      <td>3</td>\n",
       "      <td>2.0</td>\n",
       "      <td>1</td>\n",
       "      <td>4</td>\n",
       "      <td>2</td>\n",
       "      <td>0</td>\n",
       "      <td>0</td>\n",
       "      <td>1</td>\n",
       "    </tr>\n",
       "    <tr>\n",
       "      <th>3</th>\n",
       "      <td>2</td>\n",
       "      <td>3</td>\n",
       "      <td>4</td>\n",
       "      <td>4870</td>\n",
       "      <td>2</td>\n",
       "      <td>3.0</td>\n",
       "      <td>3</td>\n",
       "      <td>4</td>\n",
       "      <td>3</td>\n",
       "      <td>4.0</td>\n",
       "      <td>3</td>\n",
       "      <td>3</td>\n",
       "      <td>2.0</td>\n",
       "      <td>2</td>\n",
       "      <td>4</td>\n",
       "      <td>2</td>\n",
       "      <td>0</td>\n",
       "      <td>0</td>\n",
       "      <td>0</td>\n",
       "    </tr>\n",
       "    <tr>\n",
       "      <th>4</th>\n",
       "      <td>2</td>\n",
       "      <td>2</td>\n",
       "      <td>2</td>\n",
       "      <td>9055</td>\n",
       "      <td>1</td>\n",
       "      <td>3.0</td>\n",
       "      <td>2</td>\n",
       "      <td>4</td>\n",
       "      <td>3</td>\n",
       "      <td>4.0</td>\n",
       "      <td>2</td>\n",
       "      <td>3</td>\n",
       "      <td>2.0</td>\n",
       "      <td>1</td>\n",
       "      <td>3</td>\n",
       "      <td>2</td>\n",
       "      <td>1</td>\n",
       "      <td>0</td>\n",
       "      <td>1</td>\n",
       "    </tr>\n",
       "  </tbody>\n",
       "</table>\n",
       "</div>"
      ],
      "text/plain": [
       "   duracao  historicocredito  proposito  valor  investimentos  emprego  \\\n",
       "0        3                 2          1   5951              2      3.0   \n",
       "1        1                 1          2   2096              2      4.0   \n",
       "2        3                 2          3   7882              2      4.0   \n",
       "3        2                 3          4   4870              2      3.0   \n",
       "4        2                 2          2   9055              1      3.0   \n",
       "\n",
       "   tempoparcelamento  estadocivil  fiadorterceiros  residenciadesde  idade  \\\n",
       "0                  2            1                3              2.0      1   \n",
       "1                  2            4                3              3.0      3   \n",
       "2                  2            4                4              4.0      2   \n",
       "3                  3            4                3              4.0      3   \n",
       "4                  2            4                3              4.0      2   \n",
       "\n",
       "   outrosfinanciamentos  habitacao  emprestimoexistente  profissao  \\\n",
       "0                     3        1.0                    1          4   \n",
       "1                     3        1.0                    1          3   \n",
       "2                     3        2.0                    1          4   \n",
       "3                     3        2.0                    2          4   \n",
       "4                     3        2.0                    1          3   \n",
       "\n",
       "   dependentes  socioempresa  estrangeiro  status  \n",
       "0            1             0            0       0  \n",
       "1            2             0            0       1  \n",
       "2            2             0            0       1  \n",
       "3            2             0            0       0  \n",
       "4            2             1            0       1  "
      ]
     },
     "execution_count": 7,
     "metadata": {},
     "output_type": "execute_result"
    }
   ],
   "source": [
    "credito_categorical.head()"
   ]
  },
  {
   "cell_type": "code",
   "execution_count": 8,
   "metadata": {},
   "outputs": [
    {
     "name": "stdout",
     "output_type": "stream",
     "text": [
      "<class 'pandas.core.frame.DataFrame'>\n",
      "Int64Index: 1000 entries, 0 to 999\n",
      "Data columns (total 19 columns):\n",
      " #   Column                Non-Null Count  Dtype  \n",
      "---  ------                --------------  -----  \n",
      " 0   duracao               1000 non-null   int64  \n",
      " 1   historicocredito      1000 non-null   int64  \n",
      " 2   proposito             1000 non-null   int64  \n",
      " 3   valor                 1000 non-null   float64\n",
      " 4   investimentos         1000 non-null   int64  \n",
      " 5   emprego               1000 non-null   float64\n",
      " 6   tempoparcelamento     1000 non-null   int64  \n",
      " 7   estadocivil           1000 non-null   int64  \n",
      " 8   fiadorterceiros       1000 non-null   int64  \n",
      " 9   residenciadesde       1000 non-null   float64\n",
      " 10  idade                 1000 non-null   int64  \n",
      " 11  outrosfinanciamentos  1000 non-null   int64  \n",
      " 12  habitacao             1000 non-null   float64\n",
      " 13  emprestimoexistente   1000 non-null   int64  \n",
      " 14  profissao             1000 non-null   int64  \n",
      " 15  dependentes           1000 non-null   int64  \n",
      " 16  socioempresa          1000 non-null   int64  \n",
      " 17  estrangeiro           1000 non-null   int64  \n",
      " 18  status                1000 non-null   int64  \n",
      "dtypes: float64(4), int64(15)\n",
      "memory usage: 156.2 KB\n"
     ]
    }
   ],
   "source": [
    "credito_normalized.info()"
   ]
  },
  {
   "cell_type": "markdown",
   "metadata": {},
   "source": [
    "#### Training models for cleaned dataset"
   ]
  },
  {
   "cell_type": "code",
   "execution_count": 10,
   "metadata": {},
   "outputs": [],
   "source": [
    "previsores_cleaned = credito_cleaned.iloc[:,0:18].values\n",
    "classe_dummy_cleaned = np_utils.to_categorical(credito_cleaned['status'])"
   ]
  },
  {
   "cell_type": "code",
   "execution_count": 11,
   "metadata": {},
   "outputs": [],
   "source": [
    "X_treinamento, X_teste, y_treinamento, y_teste = train_test_split(previsores_cleaned,\n",
    "                                                                  classe_dummy_cleaned,\n",
    "                                                                  test_size = 0.3,\n",
    "                                                                  random_state = 0)"
   ]
  },
  {
   "cell_type": "code",
   "execution_count": 12,
   "metadata": {},
   "outputs": [
    {
     "data": {
      "text/plain": [
       "array([0.10588097, 0.07557865, 0.06998148, 0.09834164, 0.05776722,\n",
       "       0.06410472, 0.05886869, 0.04767947, 0.03086775, 0.06058183,\n",
       "       0.09781196, 0.03574431, 0.03845833, 0.03782601, 0.04763787,\n",
       "       0.02843694, 0.03585531, 0.00857684])"
      ]
     },
     "execution_count": 12,
     "metadata": {},
     "output_type": "execute_result"
    }
   ],
   "source": [
    "forest = ExtraTreesClassifier()\n",
    "forest.fit(X_treinamento, y_treinamento)\n",
    "importancias = forest.feature_importances_\n",
    "importancias"
   ]
  },
  {
   "cell_type": "code",
   "execution_count": 13,
   "metadata": {},
   "outputs": [],
   "source": [
    "indices = np.where(importancias > 0.05)"
   ]
  },
  {
   "cell_type": "code",
   "execution_count": 14,
   "metadata": {},
   "outputs": [],
   "source": [
    "modelo_completo = Sequential()\n",
    "modelo_completo.add(Dense(units = 20, input_dim = 18))\n",
    "modelo_completo.add(Dense(units = 20))\n",
    "modelo_completo.add(Dense(units = 10))\n",
    "modelo_completo.add(Dense(units = 2, activation = 'softmax'))"
   ]
  },
  {
   "cell_type": "code",
   "execution_count": 15,
   "metadata": {},
   "outputs": [
    {
     "data": {
      "text/plain": [
       "<tensorflow.python.keras.callbacks.History at 0x7f2c0337d350>"
      ]
     },
     "execution_count": 15,
     "metadata": {},
     "output_type": "execute_result"
    }
   ],
   "source": [
    "modelo_completo.compile(optimizer = 'adam', \n",
    "               loss = 'categorical_crossentropy',\n",
    "               metrics = ['accuracy'])\n",
    "modelo_completo.fit(X_treinamento, y_treinamento, epochs = 1000, verbose=False,\n",
    "           validation_data = (X_teste, y_teste))"
   ]
  },
  {
   "cell_type": "code",
   "execution_count": 16,
   "metadata": {},
   "outputs": [
    {
     "name": "stdout",
     "output_type": "stream",
     "text": [
      "Train: 0.693, Test: 0.770\n"
     ]
    }
   ],
   "source": [
    "# evaluate the model\n",
    "_, train_acc = modelo_completo.evaluate(X_treinamento, y_treinamento, verbose=0)\n",
    "_, test_acc = modelo_completo.evaluate(X_teste, y_teste, verbose=0)\n",
    "print('Train: %.3f, Test: %.3f' % (train_acc, test_acc))"
   ]
  },
  {
   "cell_type": "code",
   "execution_count": 17,
   "metadata": {},
   "outputs": [
    {
     "data": {
      "text/plain": [
       "array([ 0,  1,  2,  3,  4,  5,  6,  9, 10])"
      ]
     },
     "execution_count": 17,
     "metadata": {},
     "output_type": "execute_result"
    }
   ],
   "source": [
    "indices[0]"
   ]
  },
  {
   "cell_type": "code",
   "execution_count": 19,
   "metadata": {},
   "outputs": [],
   "source": [
    "modelo_selected = Sequential()\n",
    "modelo_selected.add(Dense(units = 20, input_dim = len(indices[0])))\n",
    "modelo_selected.add(Dense(units = 20))\n",
    "modelo_selected.add(Dense(units = 10))\n",
    "modelo_selected.add(Dense(units = 2, activation = 'softmax'))"
   ]
  },
  {
   "cell_type": "code",
   "execution_count": 20,
   "metadata": {},
   "outputs": [
    {
     "data": {
      "text/plain": [
       "<tensorflow.python.keras.callbacks.History at 0x7f2c03bcf2d0>"
      ]
     },
     "execution_count": 20,
     "metadata": {},
     "output_type": "execute_result"
    }
   ],
   "source": [
    "modelo_selected.compile(optimizer = 'adam', \n",
    "               loss = 'categorical_crossentropy',\n",
    "               metrics = ['accuracy'])\n",
    "modelo_selected.fit(X_treinamento[:,indices[0]], y_treinamento, epochs = 1000, verbose=False,\n",
    "           validation_data = (X_teste[:,indices[0]], y_teste))"
   ]
  },
  {
   "cell_type": "code",
   "execution_count": 21,
   "metadata": {},
   "outputs": [
    {
     "name": "stdout",
     "output_type": "stream",
     "text": [
      "Train: 0.671, Test: 0.713\n"
     ]
    }
   ],
   "source": [
    "# evaluate the model\n",
    "_, train_acc_2 = modelo_selected.evaluate(X_treinamento[:,indices[0]], y_treinamento, verbose=0)\n",
    "_, test_acc_2 = modelo_selected.evaluate(X_teste[:,indices[0]], y_teste, verbose=0)\n",
    "print('Train: %.3f, Test: %.3f' % (train_acc_2, test_acc_2))"
   ]
  },
  {
   "cell_type": "markdown",
   "metadata": {},
   "source": [
    "#### Training models for categorical dataset"
   ]
  },
  {
   "cell_type": "code",
   "execution_count": 15,
   "metadata": {},
   "outputs": [],
   "source": [
    "previsores_categorical = credito_categorical.iloc[:,0:18].values\n",
    "classe_dummy_categorical = np_utils.to_categorical(credito_categorical['status'])"
   ]
  },
  {
   "cell_type": "code",
   "execution_count": 16,
   "metadata": {},
   "outputs": [],
   "source": [
    "X_treinamento, X_teste, y_treinamento, y_teste = train_test_split(previsores_categorical,\n",
    "                                                                  previsores_categorical,\n",
    "                                                                  test_size = 0.3,\n",
    "                                                                  random_state = 0)"
   ]
  },
  {
   "cell_type": "code",
   "execution_count": 22,
   "metadata": {},
   "outputs": [
    {
     "data": {
      "text/plain": [
       "<tensorflow.python.keras.callbacks.History at 0x7f2c0327eb10>"
      ]
     },
     "execution_count": 22,
     "metadata": {},
     "output_type": "execute_result"
    }
   ],
   "source": [
    "modelo_completo.compile(optimizer = 'adam', \n",
    "               loss = 'categorical_crossentropy',\n",
    "               metrics = ['accuracy'])\n",
    "modelo_completo.fit(X_treinamento, y_treinamento, epochs = 1000, verbose=False,\n",
    "           validation_data = (X_teste, y_teste))"
   ]
  },
  {
   "cell_type": "code",
   "execution_count": 24,
   "metadata": {},
   "outputs": [
    {
     "name": "stdout",
     "output_type": "stream",
     "text": [
      "Train: 0.690, Test: 0.760\n"
     ]
    }
   ],
   "source": [
    "# evaluate the model\n",
    "_, train_acc = modelo_completo.evaluate(X_treinamento, y_treinamento, verbose=0)\n",
    "_, test_acc = modelo_completo.evaluate(X_teste, y_teste, verbose=0)\n",
    "print('Train: %.3f, Test: %.3f' % (train_acc, test_acc))"
   ]
  },
  {
   "cell_type": "code",
   "execution_count": 25,
   "metadata": {},
   "outputs": [
    {
     "data": {
      "text/plain": [
       "array([0.10402433, 0.07272384, 0.07207744, 0.10326271, 0.05942286,\n",
       "       0.06426545, 0.06071391, 0.04783915, 0.02934317, 0.06071454,\n",
       "       0.09460328, 0.0371871 , 0.03766895, 0.03550478, 0.04858451,\n",
       "       0.02854074, 0.03494028, 0.00858298])"
      ]
     },
     "execution_count": 25,
     "metadata": {},
     "output_type": "execute_result"
    }
   ],
   "source": [
    "forest = ExtraTreesClassifier()\n",
    "forest.fit(X_treinamento, y_treinamento)\n",
    "importancias = forest.feature_importances_\n",
    "importancias"
   ]
  },
  {
   "cell_type": "code",
   "execution_count": 26,
   "metadata": {},
   "outputs": [],
   "source": [
    "indices = np.where(importancias > 0.05)"
   ]
  },
  {
   "cell_type": "code",
   "execution_count": 27,
   "metadata": {},
   "outputs": [
    {
     "data": {
      "text/plain": [
       "array([ 0,  1,  2,  3,  4,  5,  6,  9, 10])"
      ]
     },
     "execution_count": 27,
     "metadata": {},
     "output_type": "execute_result"
    }
   ],
   "source": [
    "indices[0]"
   ]
  },
  {
   "cell_type": "code",
   "execution_count": 28,
   "metadata": {},
   "outputs": [],
   "source": [
    "modelo_selected = Sequential()\n",
    "modelo_selected.add(Dense(units = 20, input_dim = len(indices[0])))\n",
    "modelo_selected.add(Dense(units = 20))\n",
    "modelo_selected.add(Dense(units = 10))\n",
    "modelo_selected.add(Dense(units = 2, activation = 'softmax'))"
   ]
  },
  {
   "cell_type": "code",
   "execution_count": 29,
   "metadata": {},
   "outputs": [
    {
     "data": {
      "text/plain": [
       "<tensorflow.python.keras.callbacks.History at 0x7f2bbc434f50>"
      ]
     },
     "execution_count": 29,
     "metadata": {},
     "output_type": "execute_result"
    }
   ],
   "source": [
    "modelo_selected.compile(optimizer = 'adam', \n",
    "               loss = 'categorical_crossentropy',\n",
    "               metrics = ['accuracy'])\n",
    "modelo_selected.fit(X_treinamento[:,indices[0]], y_treinamento, epochs = 1000, verbose=False,\n",
    "           validation_data = (X_teste[:,indices[0]], y_teste))"
   ]
  },
  {
   "cell_type": "code",
   "execution_count": 30,
   "metadata": {},
   "outputs": [
    {
     "name": "stdout",
     "output_type": "stream",
     "text": [
      "Train: 0.683, Test: 0.750\n"
     ]
    }
   ],
   "source": [
    "# evaluate the model\n",
    "_, train_acc_2 = modelo_selected.evaluate(X_treinamento[:,indices[0]], y_treinamento, verbose=0)\n",
    "_, test_acc_2 = modelo_selected.evaluate(X_teste[:,indices[0]], y_teste, verbose=0)\n",
    "print('Train: %.3f, Test: %.3f' % (train_acc_2, test_acc_2))"
   ]
  },
  {
   "cell_type": "code",
   "execution_count": 11,
   "metadata": {},
   "outputs": [],
   "source": [
    "# threshold for predictions\n",
    "#previsoes = modelo.predict(X_teste)\n",
    "#previsoes = (previsoes > 0.5)\n",
    "#previsoes"
   ]
  },
  {
   "cell_type": "code",
   "execution_count": 31,
   "metadata": {},
   "outputs": [],
   "source": [
    "previsores_normalized = credito_normalized.iloc[:,0:18].values\n",
    "classe_dummy_normalized = np_utils.to_categorical(credito_normalized['status'])"
   ]
  },
  {
   "cell_type": "code",
   "execution_count": 32,
   "metadata": {},
   "outputs": [],
   "source": [
    "X_treinamento, X_teste, y_treinamento, y_teste = train_test_split(previsores_normalized,\n",
    "                                                                  classe_dummy_normalized,\n",
    "                                                                  test_size = 0.3,\n",
    "                                                                  random_state = 0)"
   ]
  },
  {
   "cell_type": "code",
   "execution_count": 33,
   "metadata": {},
   "outputs": [
    {
     "data": {
      "text/plain": [
       "<tensorflow.python.keras.callbacks.History at 0x7f2ba44fe4d0>"
      ]
     },
     "execution_count": 33,
     "metadata": {},
     "output_type": "execute_result"
    }
   ],
   "source": [
    "modelo_completo.compile(optimizer = 'adam', \n",
    "               loss = 'categorical_crossentropy',\n",
    "               metrics = ['accuracy'])\n",
    "modelo_completo.fit(X_treinamento, y_treinamento, epochs = 1000, verbose=False,\n",
    "           validation_data = (X_teste, y_teste))"
   ]
  },
  {
   "cell_type": "code",
   "execution_count": 34,
   "metadata": {},
   "outputs": [
    {
     "name": "stdout",
     "output_type": "stream",
     "text": [
      "Train: 0.701, Test: 0.770\n"
     ]
    }
   ],
   "source": [
    "# evaluate the model\n",
    "_, train_acc = modelo_completo.evaluate(X_treinamento, y_treinamento, verbose=0)\n",
    "_, test_acc = modelo_completo.evaluate(X_teste, y_teste, verbose=0)\n",
    "print('Train: %.3f, Test: %.3f' % (train_acc, test_acc))"
   ]
  },
  {
   "cell_type": "code",
   "execution_count": 35,
   "metadata": {},
   "outputs": [
    {
     "data": {
      "text/plain": [
       "array([0.06230774, 0.0761877 , 0.08374255, 0.10229968, 0.06838735,\n",
       "       0.07350471, 0.06595665, 0.04850275, 0.03382278, 0.07393018,\n",
       "       0.05649689, 0.03845689, 0.04230674, 0.03947911, 0.05502729,\n",
       "       0.02786512, 0.04233639, 0.00938948])"
      ]
     },
     "execution_count": 35,
     "metadata": {},
     "output_type": "execute_result"
    }
   ],
   "source": [
    "forest = ExtraTreesClassifier()\n",
    "forest.fit(X_treinamento, y_treinamento)\n",
    "importancias = forest.feature_importances_\n",
    "importancias"
   ]
  },
  {
   "cell_type": "code",
   "execution_count": 36,
   "metadata": {},
   "outputs": [],
   "source": [
    "indices = np.where(importancias > 0.05)"
   ]
  },
  {
   "cell_type": "code",
   "execution_count": 37,
   "metadata": {},
   "outputs": [
    {
     "data": {
      "text/plain": [
       "array([ 0,  1,  2,  3,  4,  5,  6,  9, 10, 14])"
      ]
     },
     "execution_count": 37,
     "metadata": {},
     "output_type": "execute_result"
    }
   ],
   "source": [
    "indices[0]"
   ]
  },
  {
   "cell_type": "code",
   "execution_count": 38,
   "metadata": {},
   "outputs": [],
   "source": [
    "modelo_selected = Sequential()\n",
    "modelo_selected.add(Dense(units = 20, input_dim = len(indices[0])))\n",
    "modelo_selected.add(Dense(units = 20))\n",
    "modelo_selected.add(Dense(units = 10))\n",
    "modelo_selected.add(Dense(units = 2, activation = 'softmax'))"
   ]
  },
  {
   "cell_type": "code",
   "execution_count": 39,
   "metadata": {},
   "outputs": [
    {
     "data": {
      "text/plain": [
       "<tensorflow.python.keras.callbacks.History at 0x7f2ba4515c50>"
      ]
     },
     "execution_count": 39,
     "metadata": {},
     "output_type": "execute_result"
    }
   ],
   "source": [
    "modelo_selected.compile(optimizer = 'adam', \n",
    "               loss = 'categorical_crossentropy',\n",
    "               metrics = ['accuracy'])\n",
    "modelo_selected.fit(X_treinamento[:,indices[0]], y_treinamento, epochs = 1000, verbose=False,\n",
    "           validation_data = (X_teste[:,indices[0]], y_teste))"
   ]
  },
  {
   "cell_type": "code",
   "execution_count": 40,
   "metadata": {},
   "outputs": [
    {
     "name": "stdout",
     "output_type": "stream",
     "text": [
      "Train: 0.696, Test: 0.757\n"
     ]
    }
   ],
   "source": [
    "# evaluate the model\n",
    "_, train_acc_2 = modelo_selected.evaluate(X_treinamento[:,indices[0]], y_treinamento, verbose=0)\n",
    "_, test_acc_2 = modelo_selected.evaluate(X_teste[:,indices[0]], y_teste, verbose=0)\n",
    "print('Train: %.3f, Test: %.3f' % (train_acc_2, test_acc_2))"
   ]
  },
  {
   "cell_type": "markdown",
   "metadata": {},
   "source": [
    "# Conclusion"
   ]
  },
  {
   "cell_type": "markdown",
   "metadata": {},
   "source": [
    "Based in previews results I'll publish in production the model was created using Neural Network with all attributes from a categorical model that acheive 77% of accuracy in test data."
   ]
  }
 ],
 "metadata": {
  "kernelspec": {
   "display_name": "Python 3",
   "language": "python",
   "name": "python3"
  },
  "language_info": {
   "codemirror_mode": {
    "name": "ipython",
    "version": 3
   },
   "file_extension": ".py",
   "mimetype": "text/x-python",
   "name": "python",
   "nbconvert_exporter": "python",
   "pygments_lexer": "ipython3",
   "version": "3.7.6"
  }
 },
 "nbformat": 4,
 "nbformat_minor": 4
}
