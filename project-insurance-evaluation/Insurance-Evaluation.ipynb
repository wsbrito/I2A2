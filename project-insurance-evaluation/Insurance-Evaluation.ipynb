{
 "cells": [
  {
   "cell_type": "markdown",
   "metadata": {},
   "source": [
    "# Risk Insurance Evaluation - Wagner Brito"
   ]
  },
  {
   "cell_type": "code",
   "execution_count": 2,
   "metadata": {},
   "outputs": [],
   "source": [
    "import pandas as pd"
   ]
  },
  {
   "cell_type": "code",
   "execution_count": 3,
   "metadata": {},
   "outputs": [],
   "source": [
    "# Load dataset\n",
    "insurance = pd.read_csv('insurance.csv',index_col=0)"
   ]
  },
  {
   "cell_type": "markdown",
   "metadata": {},
   "source": [
    "## First impressions about this dataset"
   ]
  },
  {
   "cell_type": "code",
   "execution_count": 4,
   "metadata": {},
   "outputs": [
    {
     "data": {
      "text/html": [
       "<div>\n",
       "<style scoped>\n",
       "    .dataframe tbody tr th:only-of-type {\n",
       "        vertical-align: middle;\n",
       "    }\n",
       "\n",
       "    .dataframe tbody tr th {\n",
       "        vertical-align: top;\n",
       "    }\n",
       "\n",
       "    .dataframe thead th {\n",
       "        text-align: right;\n",
       "    }\n",
       "</style>\n",
       "<table border=\"1\" class=\"dataframe\">\n",
       "  <thead>\n",
       "    <tr style=\"text-align: right;\">\n",
       "      <th></th>\n",
       "      <th>GoodStudent</th>\n",
       "      <th>Age</th>\n",
       "      <th>SocioEcon</th>\n",
       "      <th>RiskAversion</th>\n",
       "      <th>VehicleYear</th>\n",
       "      <th>ThisCarDam</th>\n",
       "      <th>RuggedAuto</th>\n",
       "      <th>Accident</th>\n",
       "      <th>MakeModel</th>\n",
       "      <th>DrivQuality</th>\n",
       "      <th>...</th>\n",
       "      <th>HomeBase</th>\n",
       "      <th>AntiTheft</th>\n",
       "      <th>PropCost</th>\n",
       "      <th>OtherCarCost</th>\n",
       "      <th>OtherCar</th>\n",
       "      <th>MedCost</th>\n",
       "      <th>Cushioning</th>\n",
       "      <th>Airbag</th>\n",
       "      <th>ILiCost</th>\n",
       "      <th>DrivHist</th>\n",
       "    </tr>\n",
       "  </thead>\n",
       "  <tbody>\n",
       "    <tr>\n",
       "      <th>1</th>\n",
       "      <td>False</td>\n",
       "      <td>Adult</td>\n",
       "      <td>Prole</td>\n",
       "      <td>Adventurous</td>\n",
       "      <td>Older</td>\n",
       "      <td>Moderate</td>\n",
       "      <td>EggShell</td>\n",
       "      <td>Mild</td>\n",
       "      <td>Economy</td>\n",
       "      <td>Poor</td>\n",
       "      <td>...</td>\n",
       "      <td>City</td>\n",
       "      <td>False</td>\n",
       "      <td>TenThou</td>\n",
       "      <td>Thousand</td>\n",
       "      <td>True</td>\n",
       "      <td>Thousand</td>\n",
       "      <td>Poor</td>\n",
       "      <td>False</td>\n",
       "      <td>Thousand</td>\n",
       "      <td>Many</td>\n",
       "    </tr>\n",
       "    <tr>\n",
       "      <th>2</th>\n",
       "      <td>False</td>\n",
       "      <td>Senior</td>\n",
       "      <td>Prole</td>\n",
       "      <td>Cautious</td>\n",
       "      <td>Current</td>\n",
       "      <td>None</td>\n",
       "      <td>Football</td>\n",
       "      <td>None</td>\n",
       "      <td>Economy</td>\n",
       "      <td>Normal</td>\n",
       "      <td>...</td>\n",
       "      <td>City</td>\n",
       "      <td>True</td>\n",
       "      <td>Thousand</td>\n",
       "      <td>Thousand</td>\n",
       "      <td>True</td>\n",
       "      <td>Thousand</td>\n",
       "      <td>Good</td>\n",
       "      <td>True</td>\n",
       "      <td>Thousand</td>\n",
       "      <td>Zero</td>\n",
       "    </tr>\n",
       "    <tr>\n",
       "      <th>3</th>\n",
       "      <td>False</td>\n",
       "      <td>Senior</td>\n",
       "      <td>UpperMiddle</td>\n",
       "      <td>Psychopath</td>\n",
       "      <td>Current</td>\n",
       "      <td>None</td>\n",
       "      <td>Football</td>\n",
       "      <td>None</td>\n",
       "      <td>FamilySedan</td>\n",
       "      <td>Excellent</td>\n",
       "      <td>...</td>\n",
       "      <td>City</td>\n",
       "      <td>False</td>\n",
       "      <td>Thousand</td>\n",
       "      <td>Thousand</td>\n",
       "      <td>False</td>\n",
       "      <td>Thousand</td>\n",
       "      <td>Good</td>\n",
       "      <td>True</td>\n",
       "      <td>Thousand</td>\n",
       "      <td>One</td>\n",
       "    </tr>\n",
       "    <tr>\n",
       "      <th>4</th>\n",
       "      <td>False</td>\n",
       "      <td>Adolescent</td>\n",
       "      <td>Middle</td>\n",
       "      <td>Normal</td>\n",
       "      <td>Older</td>\n",
       "      <td>None</td>\n",
       "      <td>EggShell</td>\n",
       "      <td>None</td>\n",
       "      <td>Economy</td>\n",
       "      <td>Normal</td>\n",
       "      <td>...</td>\n",
       "      <td>Suburb</td>\n",
       "      <td>False</td>\n",
       "      <td>Thousand</td>\n",
       "      <td>Thousand</td>\n",
       "      <td>True</td>\n",
       "      <td>Thousand</td>\n",
       "      <td>Fair</td>\n",
       "      <td>False</td>\n",
       "      <td>Thousand</td>\n",
       "      <td>Zero</td>\n",
       "    </tr>\n",
       "    <tr>\n",
       "      <th>5</th>\n",
       "      <td>False</td>\n",
       "      <td>Adolescent</td>\n",
       "      <td>Prole</td>\n",
       "      <td>Normal</td>\n",
       "      <td>Older</td>\n",
       "      <td>Moderate</td>\n",
       "      <td>Football</td>\n",
       "      <td>Moderate</td>\n",
       "      <td>Economy</td>\n",
       "      <td>Poor</td>\n",
       "      <td>...</td>\n",
       "      <td>City</td>\n",
       "      <td>False</td>\n",
       "      <td>TenThou</td>\n",
       "      <td>Thousand</td>\n",
       "      <td>False</td>\n",
       "      <td>Thousand</td>\n",
       "      <td>Fair</td>\n",
       "      <td>False</td>\n",
       "      <td>Thousand</td>\n",
       "      <td>Many</td>\n",
       "    </tr>\n",
       "  </tbody>\n",
       "</table>\n",
       "<p>5 rows × 27 columns</p>\n",
       "</div>"
      ],
      "text/plain": [
       "   GoodStudent         Age    SocioEcon RiskAversion VehicleYear ThisCarDam  \\\n",
       "1        False       Adult        Prole  Adventurous       Older   Moderate   \n",
       "2        False      Senior        Prole     Cautious     Current       None   \n",
       "3        False      Senior  UpperMiddle   Psychopath     Current       None   \n",
       "4        False  Adolescent       Middle       Normal       Older       None   \n",
       "5        False  Adolescent        Prole       Normal       Older   Moderate   \n",
       "\n",
       "  RuggedAuto  Accident    MakeModel DrivQuality  ... HomeBase  AntiTheft  \\\n",
       "1   EggShell      Mild      Economy        Poor  ...     City      False   \n",
       "2   Football      None      Economy      Normal  ...     City       True   \n",
       "3   Football      None  FamilySedan   Excellent  ...     City      False   \n",
       "4   EggShell      None      Economy      Normal  ...   Suburb      False   \n",
       "5   Football  Moderate      Economy        Poor  ...     City      False   \n",
       "\n",
       "   PropCost  OtherCarCost OtherCar   MedCost Cushioning Airbag   ILiCost  \\\n",
       "1   TenThou      Thousand     True  Thousand       Poor  False  Thousand   \n",
       "2  Thousand      Thousand     True  Thousand       Good   True  Thousand   \n",
       "3  Thousand      Thousand    False  Thousand       Good   True  Thousand   \n",
       "4  Thousand      Thousand     True  Thousand       Fair  False  Thousand   \n",
       "5   TenThou      Thousand    False  Thousand       Fair  False  Thousand   \n",
       "\n",
       "  DrivHist  \n",
       "1     Many  \n",
       "2     Zero  \n",
       "3      One  \n",
       "4     Zero  \n",
       "5     Many  \n",
       "\n",
       "[5 rows x 27 columns]"
      ]
     },
     "execution_count": 4,
     "metadata": {},
     "output_type": "execute_result"
    }
   ],
   "source": [
    "insurance.head()"
   ]
  },
  {
   "cell_type": "markdown",
   "metadata": {},
   "source": [
    "### Aparently I don't need worry about missing data"
   ]
  },
  {
   "cell_type": "code",
   "execution_count": 5,
   "metadata": {},
   "outputs": [
    {
     "name": "stdout",
     "output_type": "stream",
     "text": [
      "<class 'pandas.core.frame.DataFrame'>\n",
      "Int64Index: 20000 entries, 1 to 20000\n",
      "Data columns (total 27 columns):\n",
      " #   Column        Non-Null Count  Dtype \n",
      "---  ------        --------------  ----- \n",
      " 0   GoodStudent   20000 non-null  bool  \n",
      " 1   Age           20000 non-null  object\n",
      " 2   SocioEcon     20000 non-null  object\n",
      " 3   RiskAversion  20000 non-null  object\n",
      " 4   VehicleYear   20000 non-null  object\n",
      " 5   ThisCarDam    20000 non-null  object\n",
      " 6   RuggedAuto    20000 non-null  object\n",
      " 7   Accident      20000 non-null  object\n",
      " 8   MakeModel     20000 non-null  object\n",
      " 9   DrivQuality   20000 non-null  object\n",
      " 10  Mileage       20000 non-null  object\n",
      " 11  Antilock      20000 non-null  bool  \n",
      " 12  DrivingSkill  20000 non-null  object\n",
      " 13  SeniorTrain   20000 non-null  bool  \n",
      " 14  ThisCarCost   20000 non-null  object\n",
      " 15  Theft         20000 non-null  bool  \n",
      " 16  CarValue      20000 non-null  object\n",
      " 17  HomeBase      20000 non-null  object\n",
      " 18  AntiTheft     20000 non-null  bool  \n",
      " 19  PropCost      20000 non-null  object\n",
      " 20  OtherCarCost  20000 non-null  object\n",
      " 21  OtherCar      20000 non-null  bool  \n",
      " 22  MedCost       20000 non-null  object\n",
      " 23  Cushioning    20000 non-null  object\n",
      " 24  Airbag        20000 non-null  bool  \n",
      " 25  ILiCost       20000 non-null  object\n",
      " 26  DrivHist      20000 non-null  object\n",
      "dtypes: bool(7), object(20)\n",
      "memory usage: 3.3+ MB\n"
     ]
    }
   ],
   "source": [
    "insurance.info()"
   ]
  },
  {
   "cell_type": "code",
   "execution_count": 6,
   "metadata": {},
   "outputs": [
    {
     "data": {
      "text/html": [
       "<div>\n",
       "<style scoped>\n",
       "    .dataframe tbody tr th:only-of-type {\n",
       "        vertical-align: middle;\n",
       "    }\n",
       "\n",
       "    .dataframe tbody tr th {\n",
       "        vertical-align: top;\n",
       "    }\n",
       "\n",
       "    .dataframe thead th {\n",
       "        text-align: right;\n",
       "    }\n",
       "</style>\n",
       "<table border=\"1\" class=\"dataframe\">\n",
       "  <thead>\n",
       "    <tr style=\"text-align: right;\">\n",
       "      <th></th>\n",
       "      <th>GoodStudent</th>\n",
       "      <th>Age</th>\n",
       "      <th>SocioEcon</th>\n",
       "      <th>RiskAversion</th>\n",
       "      <th>VehicleYear</th>\n",
       "      <th>ThisCarDam</th>\n",
       "      <th>RuggedAuto</th>\n",
       "      <th>Accident</th>\n",
       "      <th>MakeModel</th>\n",
       "      <th>DrivQuality</th>\n",
       "      <th>...</th>\n",
       "      <th>HomeBase</th>\n",
       "      <th>AntiTheft</th>\n",
       "      <th>PropCost</th>\n",
       "      <th>OtherCarCost</th>\n",
       "      <th>OtherCar</th>\n",
       "      <th>MedCost</th>\n",
       "      <th>Cushioning</th>\n",
       "      <th>Airbag</th>\n",
       "      <th>ILiCost</th>\n",
       "      <th>DrivHist</th>\n",
       "    </tr>\n",
       "  </thead>\n",
       "  <tbody>\n",
       "    <tr>\n",
       "      <th>count</th>\n",
       "      <td>20000</td>\n",
       "      <td>20000</td>\n",
       "      <td>20000</td>\n",
       "      <td>20000</td>\n",
       "      <td>20000</td>\n",
       "      <td>20000</td>\n",
       "      <td>20000</td>\n",
       "      <td>20000</td>\n",
       "      <td>20000</td>\n",
       "      <td>20000</td>\n",
       "      <td>...</td>\n",
       "      <td>20000</td>\n",
       "      <td>20000</td>\n",
       "      <td>20000</td>\n",
       "      <td>20000</td>\n",
       "      <td>20000</td>\n",
       "      <td>20000</td>\n",
       "      <td>20000</td>\n",
       "      <td>20000</td>\n",
       "      <td>20000</td>\n",
       "      <td>20000</td>\n",
       "    </tr>\n",
       "    <tr>\n",
       "      <th>unique</th>\n",
       "      <td>2</td>\n",
       "      <td>3</td>\n",
       "      <td>4</td>\n",
       "      <td>4</td>\n",
       "      <td>2</td>\n",
       "      <td>4</td>\n",
       "      <td>3</td>\n",
       "      <td>4</td>\n",
       "      <td>5</td>\n",
       "      <td>3</td>\n",
       "      <td>...</td>\n",
       "      <td>4</td>\n",
       "      <td>2</td>\n",
       "      <td>4</td>\n",
       "      <td>3</td>\n",
       "      <td>2</td>\n",
       "      <td>4</td>\n",
       "      <td>4</td>\n",
       "      <td>2</td>\n",
       "      <td>4</td>\n",
       "      <td>3</td>\n",
       "    </tr>\n",
       "    <tr>\n",
       "      <th>top</th>\n",
       "      <td>False</td>\n",
       "      <td>Adult</td>\n",
       "      <td>Prole</td>\n",
       "      <td>Normal</td>\n",
       "      <td>Older</td>\n",
       "      <td>None</td>\n",
       "      <td>EggShell</td>\n",
       "      <td>None</td>\n",
       "      <td>Economy</td>\n",
       "      <td>Normal</td>\n",
       "      <td>...</td>\n",
       "      <td>City</td>\n",
       "      <td>False</td>\n",
       "      <td>Thousand</td>\n",
       "      <td>Thousand</td>\n",
       "      <td>True</td>\n",
       "      <td>Thousand</td>\n",
       "      <td>Poor</td>\n",
       "      <td>False</td>\n",
       "      <td>Thousand</td>\n",
       "      <td>Zero</td>\n",
       "    </tr>\n",
       "    <tr>\n",
       "      <th>freq</th>\n",
       "      <td>19115</td>\n",
       "      <td>11939</td>\n",
       "      <td>8444</td>\n",
       "      <td>9644</td>\n",
       "      <td>13089</td>\n",
       "      <td>14681</td>\n",
       "      <td>9838</td>\n",
       "      <td>14336</td>\n",
       "      <td>7637</td>\n",
       "      <td>8897</td>\n",
       "      <td>...</td>\n",
       "      <td>7709</td>\n",
       "      <td>11705</td>\n",
       "      <td>11170</td>\n",
       "      <td>17180</td>\n",
       "      <td>13955</td>\n",
       "      <td>18589</td>\n",
       "      <td>6547</td>\n",
       "      <td>11468</td>\n",
       "      <td>19356</td>\n",
       "      <td>11486</td>\n",
       "    </tr>\n",
       "  </tbody>\n",
       "</table>\n",
       "<p>4 rows × 27 columns</p>\n",
       "</div>"
      ],
      "text/plain": [
       "       GoodStudent    Age SocioEcon RiskAversion VehicleYear ThisCarDam  \\\n",
       "count        20000  20000     20000        20000       20000      20000   \n",
       "unique           2      3         4            4           2          4   \n",
       "top          False  Adult     Prole       Normal       Older       None   \n",
       "freq         19115  11939      8444         9644       13089      14681   \n",
       "\n",
       "       RuggedAuto Accident MakeModel DrivQuality  ... HomeBase AntiTheft  \\\n",
       "count       20000    20000     20000       20000  ...    20000     20000   \n",
       "unique          3        4         5           3  ...        4         2   \n",
       "top      EggShell     None   Economy      Normal  ...     City     False   \n",
       "freq         9838    14336      7637        8897  ...     7709     11705   \n",
       "\n",
       "        PropCost OtherCarCost OtherCar   MedCost Cushioning Airbag   ILiCost  \\\n",
       "count      20000        20000    20000     20000      20000  20000     20000   \n",
       "unique         4            3        2         4          4      2         4   \n",
       "top     Thousand     Thousand     True  Thousand       Poor  False  Thousand   \n",
       "freq       11170        17180    13955     18589       6547  11468     19356   \n",
       "\n",
       "       DrivHist  \n",
       "count     20000  \n",
       "unique        3  \n",
       "top        Zero  \n",
       "freq      11486  \n",
       "\n",
       "[4 rows x 27 columns]"
      ]
     },
     "execution_count": 6,
     "metadata": {},
     "output_type": "execute_result"
    }
   ],
   "source": [
    "'''\n",
    "Some points:\n",
    "Age: Adult = 11939\n",
    "AntiTheft: False = 11705\n",
    "'''\n",
    "insurance.describe()"
   ]
  },
  {
   "cell_type": "code",
   "execution_count": 26,
   "metadata": {},
   "outputs": [
    {
     "data": {
      "text/html": [
       "<div>\n",
       "<style scoped>\n",
       "    .dataframe tbody tr th:only-of-type {\n",
       "        vertical-align: middle;\n",
       "    }\n",
       "\n",
       "    .dataframe tbody tr th {\n",
       "        vertical-align: top;\n",
       "    }\n",
       "\n",
       "    .dataframe thead th {\n",
       "        text-align: right;\n",
       "    }\n",
       "</style>\n",
       "<table border=\"1\" class=\"dataframe\">\n",
       "  <thead>\n",
       "    <tr style=\"text-align: right;\">\n",
       "      <th></th>\n",
       "      <th>GoodStudent</th>\n",
       "      <th>Age</th>\n",
       "      <th>SocioEcon</th>\n",
       "      <th>RiskAversion</th>\n",
       "      <th>VehicleYear</th>\n",
       "      <th>ThisCarDam</th>\n",
       "      <th>RuggedAuto</th>\n",
       "      <th>Accident</th>\n",
       "      <th>MakeModel</th>\n",
       "    </tr>\n",
       "  </thead>\n",
       "  <tbody>\n",
       "    <tr>\n",
       "      <th>count</th>\n",
       "      <td>20000</td>\n",
       "      <td>20000</td>\n",
       "      <td>20000</td>\n",
       "      <td>20000</td>\n",
       "      <td>20000</td>\n",
       "      <td>20000</td>\n",
       "      <td>20000</td>\n",
       "      <td>20000</td>\n",
       "      <td>20000</td>\n",
       "    </tr>\n",
       "    <tr>\n",
       "      <th>unique</th>\n",
       "      <td>2</td>\n",
       "      <td>3</td>\n",
       "      <td>4</td>\n",
       "      <td>4</td>\n",
       "      <td>2</td>\n",
       "      <td>4</td>\n",
       "      <td>3</td>\n",
       "      <td>4</td>\n",
       "      <td>5</td>\n",
       "    </tr>\n",
       "    <tr>\n",
       "      <th>top</th>\n",
       "      <td>False</td>\n",
       "      <td>Adult</td>\n",
       "      <td>Prole</td>\n",
       "      <td>Normal</td>\n",
       "      <td>Older</td>\n",
       "      <td>None</td>\n",
       "      <td>EggShell</td>\n",
       "      <td>None</td>\n",
       "      <td>Economy</td>\n",
       "    </tr>\n",
       "    <tr>\n",
       "      <th>freq</th>\n",
       "      <td>19115</td>\n",
       "      <td>11939</td>\n",
       "      <td>8444</td>\n",
       "      <td>9644</td>\n",
       "      <td>13089</td>\n",
       "      <td>14681</td>\n",
       "      <td>9838</td>\n",
       "      <td>14336</td>\n",
       "      <td>7637</td>\n",
       "    </tr>\n",
       "  </tbody>\n",
       "</table>\n",
       "</div>"
      ],
      "text/plain": [
       "       GoodStudent    Age SocioEcon RiskAversion VehicleYear ThisCarDam  \\\n",
       "count        20000  20000     20000        20000       20000      20000   \n",
       "unique           2      3         4            4           2          4   \n",
       "top          False  Adult     Prole       Normal       Older       None   \n",
       "freq         19115  11939      8444         9644       13089      14681   \n",
       "\n",
       "       RuggedAuto Accident MakeModel  \n",
       "count       20000    20000     20000  \n",
       "unique          3        4         5  \n",
       "top      EggShell     None   Economy  \n",
       "freq         9838    14336      7637  "
      ]
     },
     "execution_count": 26,
     "metadata": {},
     "output_type": "execute_result"
    }
   ],
   "source": [
    "insurance.iloc[:,0:9].describe()"
   ]
  },
  {
   "cell_type": "code",
   "execution_count": 27,
   "metadata": {},
   "outputs": [
    {
     "data": {
      "text/html": [
       "<div>\n",
       "<style scoped>\n",
       "    .dataframe tbody tr th:only-of-type {\n",
       "        vertical-align: middle;\n",
       "    }\n",
       "\n",
       "    .dataframe tbody tr th {\n",
       "        vertical-align: top;\n",
       "    }\n",
       "\n",
       "    .dataframe thead th {\n",
       "        text-align: right;\n",
       "    }\n",
       "</style>\n",
       "<table border=\"1\" class=\"dataframe\">\n",
       "  <thead>\n",
       "    <tr style=\"text-align: right;\">\n",
       "      <th></th>\n",
       "      <th>DrivQuality</th>\n",
       "      <th>Mileage</th>\n",
       "      <th>Antilock</th>\n",
       "      <th>DrivingSkill</th>\n",
       "      <th>SeniorTrain</th>\n",
       "      <th>ThisCarCost</th>\n",
       "      <th>Theft</th>\n",
       "      <th>CarValue</th>\n",
       "      <th>HomeBase</th>\n",
       "    </tr>\n",
       "  </thead>\n",
       "  <tbody>\n",
       "    <tr>\n",
       "      <th>count</th>\n",
       "      <td>20000</td>\n",
       "      <td>20000</td>\n",
       "      <td>20000</td>\n",
       "      <td>20000</td>\n",
       "      <td>20000</td>\n",
       "      <td>20000</td>\n",
       "      <td>20000</td>\n",
       "      <td>20000</td>\n",
       "      <td>20000</td>\n",
       "    </tr>\n",
       "    <tr>\n",
       "      <th>unique</th>\n",
       "      <td>3</td>\n",
       "      <td>4</td>\n",
       "      <td>2</td>\n",
       "      <td>3</td>\n",
       "      <td>2</td>\n",
       "      <td>4</td>\n",
       "      <td>2</td>\n",
       "      <td>5</td>\n",
       "      <td>4</td>\n",
       "    </tr>\n",
       "    <tr>\n",
       "      <th>top</th>\n",
       "      <td>Normal</td>\n",
       "      <td>FiftyThou</td>\n",
       "      <td>False</td>\n",
       "      <td>Normal</td>\n",
       "      <td>False</td>\n",
       "      <td>Thousand</td>\n",
       "      <td>False</td>\n",
       "      <td>FiveThou</td>\n",
       "      <td>City</td>\n",
       "    </tr>\n",
       "    <tr>\n",
       "      <th>freq</th>\n",
       "      <td>8897</td>\n",
       "      <td>8041</td>\n",
       "      <td>16041</td>\n",
       "      <td>11308</td>\n",
       "      <td>17665</td>\n",
       "      <td>16443</td>\n",
       "      <td>19969</td>\n",
       "      <td>8467</td>\n",
       "      <td>7709</td>\n",
       "    </tr>\n",
       "  </tbody>\n",
       "</table>\n",
       "</div>"
      ],
      "text/plain": [
       "       DrivQuality    Mileage Antilock DrivingSkill SeniorTrain ThisCarCost  \\\n",
       "count        20000      20000    20000        20000       20000       20000   \n",
       "unique           3          4        2            3           2           4   \n",
       "top         Normal  FiftyThou    False       Normal       False    Thousand   \n",
       "freq          8897       8041    16041        11308       17665       16443   \n",
       "\n",
       "        Theft  CarValue HomeBase  \n",
       "count   20000     20000    20000  \n",
       "unique      2         5        4  \n",
       "top     False  FiveThou     City  \n",
       "freq    19969      8467     7709  "
      ]
     },
     "execution_count": 27,
     "metadata": {},
     "output_type": "execute_result"
    }
   ],
   "source": [
    "insurance.iloc[:,9:18].describe()"
   ]
  },
  {
   "cell_type": "code",
   "execution_count": 28,
   "metadata": {},
   "outputs": [
    {
     "data": {
      "text/html": [
       "<div>\n",
       "<style scoped>\n",
       "    .dataframe tbody tr th:only-of-type {\n",
       "        vertical-align: middle;\n",
       "    }\n",
       "\n",
       "    .dataframe tbody tr th {\n",
       "        vertical-align: top;\n",
       "    }\n",
       "\n",
       "    .dataframe thead th {\n",
       "        text-align: right;\n",
       "    }\n",
       "</style>\n",
       "<table border=\"1\" class=\"dataframe\">\n",
       "  <thead>\n",
       "    <tr style=\"text-align: right;\">\n",
       "      <th></th>\n",
       "      <th>AntiTheft</th>\n",
       "      <th>PropCost</th>\n",
       "      <th>OtherCarCost</th>\n",
       "      <th>OtherCar</th>\n",
       "      <th>MedCost</th>\n",
       "      <th>Cushioning</th>\n",
       "      <th>Airbag</th>\n",
       "      <th>ILiCost</th>\n",
       "      <th>DrivHist</th>\n",
       "    </tr>\n",
       "  </thead>\n",
       "  <tbody>\n",
       "    <tr>\n",
       "      <th>count</th>\n",
       "      <td>20000</td>\n",
       "      <td>20000</td>\n",
       "      <td>20000</td>\n",
       "      <td>20000</td>\n",
       "      <td>20000</td>\n",
       "      <td>20000</td>\n",
       "      <td>20000</td>\n",
       "      <td>20000</td>\n",
       "      <td>20000</td>\n",
       "    </tr>\n",
       "    <tr>\n",
       "      <th>unique</th>\n",
       "      <td>2</td>\n",
       "      <td>4</td>\n",
       "      <td>3</td>\n",
       "      <td>2</td>\n",
       "      <td>4</td>\n",
       "      <td>4</td>\n",
       "      <td>2</td>\n",
       "      <td>4</td>\n",
       "      <td>3</td>\n",
       "    </tr>\n",
       "    <tr>\n",
       "      <th>top</th>\n",
       "      <td>False</td>\n",
       "      <td>Thousand</td>\n",
       "      <td>Thousand</td>\n",
       "      <td>True</td>\n",
       "      <td>Thousand</td>\n",
       "      <td>Poor</td>\n",
       "      <td>False</td>\n",
       "      <td>Thousand</td>\n",
       "      <td>Zero</td>\n",
       "    </tr>\n",
       "    <tr>\n",
       "      <th>freq</th>\n",
       "      <td>11705</td>\n",
       "      <td>11170</td>\n",
       "      <td>17180</td>\n",
       "      <td>13955</td>\n",
       "      <td>18589</td>\n",
       "      <td>6547</td>\n",
       "      <td>11468</td>\n",
       "      <td>19356</td>\n",
       "      <td>11486</td>\n",
       "    </tr>\n",
       "  </tbody>\n",
       "</table>\n",
       "</div>"
      ],
      "text/plain": [
       "       AntiTheft  PropCost OtherCarCost OtherCar   MedCost Cushioning Airbag  \\\n",
       "count      20000     20000        20000    20000     20000      20000  20000   \n",
       "unique         2         4            3        2         4          4      2   \n",
       "top        False  Thousand     Thousand     True  Thousand       Poor  False   \n",
       "freq       11705     11170        17180    13955     18589       6547  11468   \n",
       "\n",
       "         ILiCost DrivHist  \n",
       "count      20000    20000  \n",
       "unique         4        3  \n",
       "top     Thousand     Zero  \n",
       "freq       19356    11486  "
      ]
     },
     "execution_count": 28,
     "metadata": {},
     "output_type": "execute_result"
    }
   ],
   "source": [
    "insurance.iloc[:,18:].describe()"
   ]
  },
  {
   "cell_type": "markdown",
   "metadata": {},
   "source": [
    "## This is the object of this study\n",
    "### Create a model to classified a accident severity level"
   ]
  },
  {
   "cell_type": "code",
   "execution_count": 7,
   "metadata": {},
   "outputs": [
    {
     "data": {
      "text/plain": [
       "array(['Mild', 'None', 'Moderate', 'Severe'], dtype=object)"
      ]
     },
     "execution_count": 7,
     "metadata": {},
     "output_type": "execute_result"
    }
   ],
   "source": [
    "'''\n",
    "Accident severity level:\n",
    "    'Mild':'Not severe'\n",
    "    'None',:'Don't have any accident'\n",
    "    'Moderate':'Moderate'\n",
    "    'Severe':'Severe'\n",
    "'''\n",
    "insurance['Accident'].unique()"
   ]
  },
  {
   "cell_type": "markdown",
   "metadata": {},
   "source": [
    "### Watching a percentage of accident severity level in hole dataset"
   ]
  },
  {
   "cell_type": "code",
   "execution_count": 19,
   "metadata": {},
   "outputs": [
    {
     "data": {
      "text/html": [
       "<div>\n",
       "<style scoped>\n",
       "    .dataframe tbody tr th:only-of-type {\n",
       "        vertical-align: middle;\n",
       "    }\n",
       "\n",
       "    .dataframe tbody tr th {\n",
       "        vertical-align: top;\n",
       "    }\n",
       "\n",
       "    .dataframe thead th {\n",
       "        text-align: right;\n",
       "    }\n",
       "</style>\n",
       "<table border=\"1\" class=\"dataframe\">\n",
       "  <thead>\n",
       "    <tr style=\"text-align: right;\">\n",
       "      <th></th>\n",
       "      <th>Total</th>\n",
       "      <th>%</th>\n",
       "    </tr>\n",
       "    <tr>\n",
       "      <th>Accident</th>\n",
       "      <th></th>\n",
       "      <th></th>\n",
       "    </tr>\n",
       "  </thead>\n",
       "  <tbody>\n",
       "    <tr>\n",
       "      <th>Mild</th>\n",
       "      <td>1738</td>\n",
       "      <td>8.69</td>\n",
       "    </tr>\n",
       "    <tr>\n",
       "      <th>Moderate</th>\n",
       "      <td>1604</td>\n",
       "      <td>8.02</td>\n",
       "    </tr>\n",
       "    <tr>\n",
       "      <th>None</th>\n",
       "      <td>14336</td>\n",
       "      <td>71.68</td>\n",
       "    </tr>\n",
       "    <tr>\n",
       "      <th>Severe</th>\n",
       "      <td>2322</td>\n",
       "      <td>11.61</td>\n",
       "    </tr>\n",
       "  </tbody>\n",
       "</table>\n",
       "</div>"
      ],
      "text/plain": [
       "          Total      %\n",
       "Accident              \n",
       "Mild       1738   8.69\n",
       "Moderate   1604   8.02\n",
       "None      14336  71.68\n",
       "Severe     2322  11.61"
      ]
     },
     "execution_count": 19,
     "metadata": {},
     "output_type": "execute_result"
    }
   ],
   "source": [
    "df_accident = insurance.groupby('Accident').count()['Age']\n",
    "df_accident = pd.DataFrame(df_accident)\n",
    "df_accident.columns = ['Total']\n",
    "df_accident['%'] = (df_accident / 20000) * 100\n",
    "df_accident"
   ]
  },
  {
   "cell_type": "markdown",
   "metadata": {},
   "source": [
    "### Looking the values of attributes"
   ]
  },
  {
   "cell_type": "code",
   "execution_count": 12,
   "metadata": {},
   "outputs": [
    {
     "name": "stdout",
     "output_type": "stream",
     "text": [
      "GoodStudent :  [False  True]\n",
      "Age :  ['Adult' 'Senior' 'Adolescent']\n",
      "SocioEcon :  ['Prole' 'UpperMiddle' 'Middle' 'Wealthy']\n",
      "RiskAversion :  ['Adventurous' 'Cautious' 'Psychopath' 'Normal']\n",
      "VehicleYear :  ['Older' 'Current']\n",
      "ThisCarDam :  ['Moderate' 'None' 'Mild' 'Severe']\n",
      "RuggedAuto :  ['EggShell' 'Football' 'Tank']\n",
      "Accident :  ['Mild' 'None' 'Moderate' 'Severe']\n",
      "MakeModel :  ['Economy' 'FamilySedan' 'SportsCar' 'Luxury' 'SuperLuxury']\n",
      "DrivQuality :  ['Poor' 'Normal' 'Excellent']\n",
      "Mileage :  ['TwentyThou' 'Domino' 'FiftyThou' 'FiveThou']\n",
      "Antilock :  [False  True]\n",
      "DrivingSkill :  ['SubStandard' 'Normal' 'Expert']\n",
      "SeniorTrain :  [False  True]\n",
      "ThisCarCost :  ['TenThou' 'Thousand' 'HundredThou' 'Million']\n",
      "Theft :  [False  True]\n",
      "CarValue :  ['FiveThou' 'TenThou' 'TwentyThou' 'FiftyThou' 'Million']\n",
      "HomeBase :  ['City' 'Suburb' 'Secure' 'Rural']\n",
      "AntiTheft :  [False  True]\n",
      "PropCost :  ['TenThou' 'Thousand' 'HundredThou' 'Million']\n",
      "OtherCarCost :  ['Thousand' 'HundredThou' 'TenThou']\n",
      "OtherCar :  [ True False]\n",
      "MedCost :  ['Thousand' 'TenThou' 'HundredThou' 'Million']\n",
      "Cushioning :  ['Poor' 'Good' 'Fair' 'Excellent']\n",
      "Airbag :  [False  True]\n",
      "ILiCost :  ['Thousand' 'HundredThou' 'TenThou' 'Million']\n",
      "DrivHist :  ['Many' 'Zero' 'One']\n"
     ]
    }
   ],
   "source": [
    "for c_name in insurance.columns:\n",
    "    print(c_name,\": \",insurance[c_name].unique())"
   ]
  },
  {
   "cell_type": "markdown",
   "metadata": {},
   "source": [
    "### Try run a Random Forest with this attributes\n",
    "#### Age RiskAversion DrivQuality DrivingSkill HomeBase DrivHist"
   ]
  },
  {
   "cell_type": "code",
   "execution_count": 4,
   "metadata": {},
   "outputs": [],
   "source": [
    "from sklearn.model_selection import train_test_split\n",
    "from sklearn.preprocessing import LabelEncoder\n",
    "from sklearn.metrics import confusion_matrix, accuracy_score\n",
    "from sklearn.ensemble import RandomForestClassifier"
   ]
  },
  {
   "cell_type": "code",
   "execution_count": 6,
   "metadata": {},
   "outputs": [],
   "source": [
    "previsores = insurance[['Age','RiskAversion','DrivQuality','DrivingSkill','HomeBase','DrivHist']].values\n",
    "classe = insurance['Accident'].values"
   ]
  },
  {
   "cell_type": "markdown",
   "metadata": {},
   "source": [
    "### Parse categorical data to numerical"
   ]
  },
  {
   "cell_type": "code",
   "execution_count": 8,
   "metadata": {},
   "outputs": [],
   "source": [
    "labelencoder = LabelEncoder()\n",
    "previsores[:,0] = labelencoder.fit_transform(previsores[:,0])\n",
    "previsores[:,1] = labelencoder.fit_transform(previsores[:,1])\n",
    "previsores[:, 2] = labelencoder.fit_transform(previsores[:, 2])\n",
    "previsores[:, 3] = labelencoder.fit_transform(previsores[:, 3])\n",
    "previsores[:, 4] = labelencoder.fit_transform(previsores[:, 4])\n",
    "previsores[:, 5] = labelencoder.fit_transform(previsores[:, 5])"
   ]
  },
  {
   "cell_type": "markdown",
   "metadata": {},
   "source": [
    "### Slipt data to train and test"
   ]
  },
  {
   "cell_type": "code",
   "execution_count": 14,
   "metadata": {},
   "outputs": [],
   "source": [
    "X_treinamento, X_teste, y_treinamento, y_teste = train_test_split(previsores,\n",
    "                                                                  classe,\n",
    "                                                                  test_size = 0.3,\n",
    "                                                                  random_state = 0)"
   ]
  },
  {
   "cell_type": "markdown",
   "metadata": {},
   "source": [
    "### Creating model"
   ]
  },
  {
   "cell_type": "code",
   "execution_count": 15,
   "metadata": {},
   "outputs": [
    {
     "data": {
      "text/plain": [
       "RandomForestClassifier()"
      ]
     },
     "execution_count": 15,
     "metadata": {},
     "output_type": "execute_result"
    }
   ],
   "source": [
    "floresta = RandomForestClassifier(n_estimators = 100)\n",
    "floresta.fit(X_treinamento, y_treinamento)"
   ]
  },
  {
   "cell_type": "code",
   "execution_count": 16,
   "metadata": {},
   "outputs": [
    {
     "data": {
      "text/plain": [
       "0.7096666666666667"
      ]
     },
     "execution_count": 16,
     "metadata": {},
     "output_type": "execute_result"
    }
   ],
   "source": [
    "previsoes = floresta.predict(X_teste)\n",
    "confusao = confusion_matrix(y_teste, previsoes)\n",
    "taxa_acerto = accuracy_score(y_teste, previsoes)\n",
    "taxa_acerto"
   ]
  },
  {
   "cell_type": "markdown",
   "metadata": {},
   "source": [
    "### Evaluate all attributes to trying to increase the hit hate"
   ]
  },
  {
   "cell_type": "code",
   "execution_count": 5,
   "metadata": {},
   "outputs": [],
   "source": [
    "previsores_2 = insurance[['GoodStudent', 'Age', 'SocioEcon',\\\n",
    "                          'RiskAversion', 'VehicleYear', 'ThisCarDam',\\\n",
    "                          'RuggedAuto', 'MakeModel', 'DrivQuality',\\\n",
    "                          'Mileage', 'Antilock', 'DrivingSkill',\\\n",
    "                          'SeniorTrain', 'ThisCarCost', 'Theft',\\\n",
    "                          'CarValue', 'HomeBase', 'AntiTheft',\\\n",
    "                          'PropCost', 'OtherCarCost', 'OtherCar',\\\n",
    "                          'MedCost', 'Cushioning', 'Airbag', 'ILiCost','DrivHist']].values"
   ]
  },
  {
   "cell_type": "code",
   "execution_count": 9,
   "metadata": {},
   "outputs": [],
   "source": [
    "for i in range(previsores_2.shape[1]):\n",
    "    previsores_2[:,i] = labelencoder.fit_transform(previsores_2[:,i])"
   ]
  },
  {
   "cell_type": "code",
   "execution_count": 10,
   "metadata": {},
   "outputs": [],
   "source": [
    "X_treinamento_2, X_teste_2, y_treinamento_2, y_teste_2 = train_test_split(previsores_2,\\\n",
    "                                                                          classe,\\\n",
    "                                                                          test_size = 0.3,\\\n",
    "                                                                          random_state = 1)"
   ]
  },
  {
   "cell_type": "code",
   "execution_count": null,
   "metadata": {},
   "outputs": [],
   "source": [
    "from sklearn.ensemble import ExtraTreesClassifier"
   ]
  },
  {
   "cell_type": "code",
   "execution_count": 41,
   "metadata": {},
   "outputs": [
    {
     "data": {
      "text/plain": [
       "array([0.03826341, 0.03050124, 0.04909587, 0.03810542, 0.02444953,\n",
       "       0.03353926, 0.02556499, 0.02595993, 0.06452549, 0.04442261,\n",
       "       0.01003174, 0.04508723, 0.00504459, 0.12302319, 0.00195218,\n",
       "       0.0285837 , 0.02451965, 0.0167777 , 0.09793552, 0.11285928,\n",
       "       0.02248784, 0.03657553, 0.03597172, 0.01557811, 0.01794333,\n",
       "       0.03120094])"
      ]
     },
     "execution_count": 41,
     "metadata": {},
     "output_type": "execute_result"
    }
   ],
   "source": [
    "forest = ExtraTreesClassifier()\n",
    "forest.fit(X_treinamento_2, y_treinamento_2)\n",
    "importancias = forest.feature_importances_\n",
    "importancias"
   ]
  },
  {
   "cell_type": "markdown",
   "metadata": {},
   "source": [
    "### Show the attributes that relevance rate is upper 0.06"
   ]
  },
  {
   "cell_type": "code",
   "execution_count": 53,
   "metadata": {},
   "outputs": [
    {
     "data": {
      "text/plain": [
       "array([0.06452549, 0.12302319, 0.09793552, 0.11285928])"
      ]
     },
     "execution_count": 53,
     "metadata": {},
     "output_type": "execute_result"
    }
   ],
   "source": [
    "importancias[importancias > 0.06]"
   ]
  },
  {
   "cell_type": "code",
   "execution_count": 71,
   "metadata": {},
   "outputs": [],
   "source": [
    "import numpy as np"
   ]
  },
  {
   "cell_type": "markdown",
   "metadata": {},
   "source": [
    "### Grab the index of more relevant attributes"
   ]
  },
  {
   "cell_type": "code",
   "execution_count": 57,
   "metadata": {},
   "outputs": [],
   "source": [
    "indices = np.where(importancias > 0.06)"
   ]
  },
  {
   "cell_type": "code",
   "execution_count": 58,
   "metadata": {},
   "outputs": [
    {
     "data": {
      "text/plain": [
       "array([0.06452549, 0.12302319, 0.09793552, 0.11285928])"
      ]
     },
     "execution_count": 58,
     "metadata": {},
     "output_type": "execute_result"
    }
   ],
   "source": [
    "importancias[indices]"
   ]
  },
  {
   "cell_type": "code",
   "execution_count": 11,
   "metadata": {},
   "outputs": [],
   "source": [
    "X_treinamento_3 = X_treinamento_2[:,[ 8, 13, 18, 19]]\n",
    "X_teste_3 = X_teste_2[:,[ 8, 13, 18, 19]]"
   ]
  },
  {
   "cell_type": "code",
   "execution_count": 60,
   "metadata": {},
   "outputs": [
    {
     "data": {
      "text/plain": [
       "RandomForestClassifier()"
      ]
     },
     "execution_count": 60,
     "metadata": {},
     "output_type": "execute_result"
    }
   ],
   "source": [
    "floresta = RandomForestClassifier(n_estimators = 100)\n",
    "floresta.fit(X_treinamento_3, y_treinamento_2)"
   ]
  },
  {
   "cell_type": "code",
   "execution_count": 61,
   "metadata": {},
   "outputs": [
    {
     "data": {
      "text/plain": [
       "0.7153333333333334"
      ]
     },
     "execution_count": 61,
     "metadata": {},
     "output_type": "execute_result"
    }
   ],
   "source": [
    "previsoes = floresta.predict(X_teste_3)\n",
    "confusao = confusion_matrix(y_teste, previsoes)\n",
    "taxa_acerto = accuracy_score(y_teste, previsoes)\n",
    "taxa_acerto"
   ]
  },
  {
   "cell_type": "markdown",
   "metadata": {},
   "source": [
    "### Try to another algorithm"
   ]
  },
  {
   "cell_type": "code",
   "execution_count": 12,
   "metadata": {},
   "outputs": [],
   "source": [
    "from sklearn.svm import SVC"
   ]
  },
  {
   "cell_type": "code",
   "execution_count": 15,
   "metadata": {},
   "outputs": [
    {
     "data": {
      "text/plain": [
       "0.8426666666666667"
      ]
     },
     "execution_count": 15,
     "metadata": {},
     "output_type": "execute_result"
    }
   ],
   "source": [
    "svm2 = SVC()\n",
    "modelo = svm2.fit(X_treinamento_3, y_treinamento_2)\n",
    "previsoes2 = modelo.predict(X_teste_3)\n",
    "taxa_acerto = accuracy_score(y_teste_2, previsoes2)\n",
    "taxa_acerto"
   ]
  },
  {
   "cell_type": "markdown",
   "metadata": {},
   "source": [
    "## Save the lastes model to reuse"
   ]
  },
  {
   "cell_type": "code",
   "execution_count": 1,
   "metadata": {},
   "outputs": [],
   "source": [
    "import pickle"
   ]
  },
  {
   "cell_type": "code",
   "execution_count": 16,
   "metadata": {},
   "outputs": [],
   "source": [
    "pickle.dump(modelo, open('app/modelo.sav','wb'))"
   ]
  },
  {
   "cell_type": "markdown",
   "metadata": {},
   "source": [
    "## Run a teste with the save model "
   ]
  },
  {
   "cell_type": "markdown",
   "metadata": {},
   "source": [
    "### After use attribute selection I use columns [ 8, 13, 18, 19] to create X_treinamento_3 but I forgot to keep the columns names."
   ]
  },
  {
   "cell_type": "code",
   "execution_count": 24,
   "metadata": {},
   "outputs": [],
   "source": [
    "check_names = insurance[['GoodStudent', 'Age', 'SocioEcon',\\\n",
    "                          'RiskAversion', 'VehicleYear', 'ThisCarDam',\\\n",
    "                          'RuggedAuto', 'MakeModel', 'DrivQuality',\\\n",
    "                          'Mileage', 'Antilock', 'DrivingSkill',\\\n",
    "                          'SeniorTrain', 'ThisCarCost', 'Theft',\\\n",
    "                          'CarValue', 'HomeBase', 'AntiTheft',\\\n",
    "                          'PropCost', 'OtherCarCost', 'OtherCar',\\\n",
    "                          'MedCost', 'Cushioning', 'Airbag', 'ILiCost','DrivHist']]"
   ]
  },
  {
   "cell_type": "code",
   "execution_count": 23,
   "metadata": {},
   "outputs": [
    {
     "data": {
      "text/plain": [
       "Index(['DrivQuality', 'ThisCarCost', 'PropCost', 'OtherCarCost'], dtype='object')"
      ]
     },
     "execution_count": 23,
     "metadata": {},
     "output_type": "execute_result"
    }
   ],
   "source": [
    "check_names.columns[[ 8, 13, 18, 19]]"
   ]
  },
  {
   "cell_type": "code",
   "execution_count": 60,
   "metadata": {},
   "outputs": [
    {
     "data": {
      "text/plain": [
       "array(['Poor', 'Normal', 'Excellent'], dtype=object)"
      ]
     },
     "execution_count": 60,
     "metadata": {},
     "output_type": "execute_result"
    }
   ],
   "source": [
    "insurance['DrivQuality'].unique()"
   ]
  },
  {
   "cell_type": "code",
   "execution_count": 74,
   "metadata": {},
   "outputs": [
    {
     "data": {
      "text/plain": [
       "array([0, 1, 2])"
      ]
     },
     "execution_count": 74,
     "metadata": {},
     "output_type": "execute_result"
    }
   ],
   "source": [
    "DrivQuality = check_names['DrivQuality'].values\n",
    "DrivQuality = labelencoder.fit_transform(DrivQuality)\n",
    "np.unique(DrivQuality)"
   ]
  },
  {
   "cell_type": "code",
   "execution_count": 61,
   "metadata": {},
   "outputs": [
    {
     "data": {
      "text/plain": [
       "array(['TenThou', 'Thousand', 'HundredThou', 'Million'], dtype=object)"
      ]
     },
     "execution_count": 61,
     "metadata": {},
     "output_type": "execute_result"
    }
   ],
   "source": [
    "insurance['ThisCarCost'].unique()"
   ]
  },
  {
   "cell_type": "code",
   "execution_count": 75,
   "metadata": {},
   "outputs": [
    {
     "data": {
      "text/plain": [
       "array([0, 1, 2, 3])"
      ]
     },
     "execution_count": 75,
     "metadata": {},
     "output_type": "execute_result"
    }
   ],
   "source": [
    "ThisCarCost = check_names['ThisCarCost'].values\n",
    "ThisCarCost = labelencoder.fit_transform(ThisCarCost)\n",
    "np.unique(ThisCarCost)"
   ]
  },
  {
   "cell_type": "code",
   "execution_count": 62,
   "metadata": {},
   "outputs": [
    {
     "data": {
      "text/plain": [
       "array(['TenThou', 'Thousand', 'HundredThou', 'Million'], dtype=object)"
      ]
     },
     "execution_count": 62,
     "metadata": {},
     "output_type": "execute_result"
    }
   ],
   "source": [
    "insurance['PropCost'].unique()"
   ]
  },
  {
   "cell_type": "code",
   "execution_count": 77,
   "metadata": {},
   "outputs": [
    {
     "data": {
      "text/plain": [
       "array([0, 1, 2, 3])"
      ]
     },
     "execution_count": 77,
     "metadata": {},
     "output_type": "execute_result"
    }
   ],
   "source": [
    "PropCost = check_names['PropCost'].values\n",
    "PropCost = labelencoder.fit_transform(PropCost)\n",
    "np.unique(PropCost)"
   ]
  },
  {
   "cell_type": "code",
   "execution_count": 63,
   "metadata": {},
   "outputs": [
    {
     "data": {
      "text/plain": [
       "array(['Thousand', 'HundredThou', 'TenThou'], dtype=object)"
      ]
     },
     "execution_count": 63,
     "metadata": {},
     "output_type": "execute_result"
    }
   ],
   "source": [
    "insurance['OtherCarCost'].unique()"
   ]
  },
  {
   "cell_type": "code",
   "execution_count": 78,
   "metadata": {},
   "outputs": [
    {
     "data": {
      "text/plain": [
       "array([0, 1, 2])"
      ]
     },
     "execution_count": 78,
     "metadata": {},
     "output_type": "execute_result"
    }
   ],
   "source": [
    "OtherCarCost = check_names['OtherCarCost'].values\n",
    "OtherCarCost = labelencoder.fit_transform(OtherCarCost)\n",
    "np.unique(OtherCarCost)"
   ]
  },
  {
   "cell_type": "code",
   "execution_count": 80,
   "metadata": {},
   "outputs": [],
   "source": [
    "modelo_salvo = pickle.load(open('app/modelo.sav','rb'))"
   ]
  },
  {
   "cell_type": "code",
   "execution_count": 83,
   "metadata": {},
   "outputs": [],
   "source": [
    "test_record = [[1,3,1,0]]\n",
    "test_record = np.asarray(test_record)"
   ]
  },
  {
   "cell_type": "code",
   "execution_count": 85,
   "metadata": {},
   "outputs": [],
   "source": [
    "answer = modelo_salvo.predict(test_record)"
   ]
  },
  {
   "cell_type": "code",
   "execution_count": 86,
   "metadata": {},
   "outputs": [
    {
     "name": "stdout",
     "output_type": "stream",
     "text": [
      "['Moderate']\n"
     ]
    }
   ],
   "source": [
    "print(answer)"
   ]
  },
  {
   "cell_type": "code",
   "execution_count": null,
   "metadata": {},
   "outputs": [],
   "source": []
  }
 ],
 "metadata": {
  "kernelspec": {
   "display_name": "Python 3",
   "language": "python",
   "name": "python3"
  },
  "language_info": {
   "codemirror_mode": {
    "name": "ipython",
    "version": 3
   },
   "file_extension": ".py",
   "mimetype": "text/x-python",
   "name": "python",
   "nbconvert_exporter": "python",
   "pygments_lexer": "ipython3",
   "version": "3.7.6"
  }
 },
 "nbformat": 4,
 "nbformat_minor": 4
}
