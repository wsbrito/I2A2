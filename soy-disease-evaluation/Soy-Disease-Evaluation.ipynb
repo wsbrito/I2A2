{
 "cells": [
  {
   "cell_type": "markdown",
   "metadata": {},
   "source": [
    "# Soy disease evaluation\n",
    "#### By Wagner Brito"
   ]
  },
  {
   "cell_type": "code",
   "execution_count": 74,
   "metadata": {},
   "outputs": [],
   "source": [
    "# All necessary imports\n",
    "import pandas as pd\n",
    "import numpy as np\n",
    "from sklearn.preprocessing import LabelEncoder\n",
    "from sklearn.model_selection import train_test_split\n",
    "from sklearn.ensemble import ExtraTreesClassifier\n",
    "from sklearn.svm import SVC\n",
    "from sklearn.metrics import confusion_matrix, accuracy_score\n",
    "from sklearn.naive_bayes import GaussianNB\n",
    "from sklearn.ensemble import RandomForestClassifier"
   ]
  },
  {
   "cell_type": "markdown",
   "metadata": {},
   "source": [
    "Getting the dataset"
   ]
  },
  {
   "cell_type": "code",
   "execution_count": 2,
   "metadata": {},
   "outputs": [],
   "source": [
    "soybean = pd.read_csv('soybean.csv')"
   ]
  },
  {
   "cell_type": "code",
   "execution_count": 3,
   "metadata": {},
   "outputs": [
    {
     "data": {
      "text/html": [
       "<div>\n",
       "<style scoped>\n",
       "    .dataframe tbody tr th:only-of-type {\n",
       "        vertical-align: middle;\n",
       "    }\n",
       "\n",
       "    .dataframe tbody tr th {\n",
       "        vertical-align: top;\n",
       "    }\n",
       "\n",
       "    .dataframe thead th {\n",
       "        text-align: right;\n",
       "    }\n",
       "</style>\n",
       "<table border=\"1\" class=\"dataframe\">\n",
       "  <thead>\n",
       "    <tr style=\"text-align: right;\">\n",
       "      <th></th>\n",
       "      <th>date</th>\n",
       "      <th>plant-stand</th>\n",
       "      <th>precip</th>\n",
       "      <th>temp</th>\n",
       "      <th>hail</th>\n",
       "      <th>crop-hist</th>\n",
       "      <th>area-damaged</th>\n",
       "      <th>severity</th>\n",
       "      <th>seed-tmt</th>\n",
       "      <th>germination</th>\n",
       "      <th>...</th>\n",
       "      <th>sclerotia</th>\n",
       "      <th>fruit-pods</th>\n",
       "      <th>fruit-spots</th>\n",
       "      <th>seed</th>\n",
       "      <th>mold-growth</th>\n",
       "      <th>seed-discolor</th>\n",
       "      <th>seed-size</th>\n",
       "      <th>shriveling</th>\n",
       "      <th>roots</th>\n",
       "      <th>class</th>\n",
       "    </tr>\n",
       "  </thead>\n",
       "  <tbody>\n",
       "    <tr>\n",
       "      <th>0</th>\n",
       "      <td>october</td>\n",
       "      <td>normal</td>\n",
       "      <td>gt-norm</td>\n",
       "      <td>norm</td>\n",
       "      <td>yes</td>\n",
       "      <td>same-lst-yr</td>\n",
       "      <td>low-areas</td>\n",
       "      <td>pot-severe</td>\n",
       "      <td>none</td>\n",
       "      <td>90-100</td>\n",
       "      <td>...</td>\n",
       "      <td>absent</td>\n",
       "      <td>norm</td>\n",
       "      <td>dna</td>\n",
       "      <td>norm</td>\n",
       "      <td>absent</td>\n",
       "      <td>absent</td>\n",
       "      <td>norm</td>\n",
       "      <td>absent</td>\n",
       "      <td>norm</td>\n",
       "      <td>diaporthe-stem-canker</td>\n",
       "    </tr>\n",
       "    <tr>\n",
       "      <th>1</th>\n",
       "      <td>august</td>\n",
       "      <td>normal</td>\n",
       "      <td>gt-norm</td>\n",
       "      <td>norm</td>\n",
       "      <td>yes</td>\n",
       "      <td>same-lst-two-yrs</td>\n",
       "      <td>scattered</td>\n",
       "      <td>severe</td>\n",
       "      <td>fungicide</td>\n",
       "      <td>80-89</td>\n",
       "      <td>...</td>\n",
       "      <td>absent</td>\n",
       "      <td>norm</td>\n",
       "      <td>dna</td>\n",
       "      <td>norm</td>\n",
       "      <td>absent</td>\n",
       "      <td>absent</td>\n",
       "      <td>norm</td>\n",
       "      <td>absent</td>\n",
       "      <td>norm</td>\n",
       "      <td>diaporthe-stem-canker</td>\n",
       "    </tr>\n",
       "    <tr>\n",
       "      <th>2</th>\n",
       "      <td>july</td>\n",
       "      <td>normal</td>\n",
       "      <td>gt-norm</td>\n",
       "      <td>norm</td>\n",
       "      <td>yes</td>\n",
       "      <td>same-lst-yr</td>\n",
       "      <td>scattered</td>\n",
       "      <td>severe</td>\n",
       "      <td>fungicide</td>\n",
       "      <td>lt-80</td>\n",
       "      <td>...</td>\n",
       "      <td>absent</td>\n",
       "      <td>norm</td>\n",
       "      <td>dna</td>\n",
       "      <td>norm</td>\n",
       "      <td>absent</td>\n",
       "      <td>absent</td>\n",
       "      <td>norm</td>\n",
       "      <td>absent</td>\n",
       "      <td>norm</td>\n",
       "      <td>diaporthe-stem-canker</td>\n",
       "    </tr>\n",
       "    <tr>\n",
       "      <th>3</th>\n",
       "      <td>july</td>\n",
       "      <td>normal</td>\n",
       "      <td>gt-norm</td>\n",
       "      <td>norm</td>\n",
       "      <td>yes</td>\n",
       "      <td>same-lst-yr</td>\n",
       "      <td>scattered</td>\n",
       "      <td>severe</td>\n",
       "      <td>none</td>\n",
       "      <td>80-89</td>\n",
       "      <td>...</td>\n",
       "      <td>absent</td>\n",
       "      <td>norm</td>\n",
       "      <td>dna</td>\n",
       "      <td>norm</td>\n",
       "      <td>absent</td>\n",
       "      <td>absent</td>\n",
       "      <td>norm</td>\n",
       "      <td>absent</td>\n",
       "      <td>norm</td>\n",
       "      <td>diaporthe-stem-canker</td>\n",
       "    </tr>\n",
       "    <tr>\n",
       "      <th>4</th>\n",
       "      <td>october</td>\n",
       "      <td>normal</td>\n",
       "      <td>gt-norm</td>\n",
       "      <td>norm</td>\n",
       "      <td>yes</td>\n",
       "      <td>same-lst-two-yrs</td>\n",
       "      <td>scattered</td>\n",
       "      <td>pot-severe</td>\n",
       "      <td>none</td>\n",
       "      <td>lt-80</td>\n",
       "      <td>...</td>\n",
       "      <td>absent</td>\n",
       "      <td>norm</td>\n",
       "      <td>dna</td>\n",
       "      <td>norm</td>\n",
       "      <td>absent</td>\n",
       "      <td>absent</td>\n",
       "      <td>norm</td>\n",
       "      <td>absent</td>\n",
       "      <td>norm</td>\n",
       "      <td>diaporthe-stem-canker</td>\n",
       "    </tr>\n",
       "  </tbody>\n",
       "</table>\n",
       "<p>5 rows × 36 columns</p>\n",
       "</div>"
      ],
      "text/plain": [
       "      date plant-stand   precip  temp hail         crop-hist area-damaged  \\\n",
       "0  october      normal  gt-norm  norm  yes       same-lst-yr    low-areas   \n",
       "1   august      normal  gt-norm  norm  yes  same-lst-two-yrs    scattered   \n",
       "2     july      normal  gt-norm  norm  yes       same-lst-yr    scattered   \n",
       "3     july      normal  gt-norm  norm  yes       same-lst-yr    scattered   \n",
       "4  october      normal  gt-norm  norm  yes  same-lst-two-yrs    scattered   \n",
       "\n",
       "     severity   seed-tmt germination  ... sclerotia fruit-pods fruit-spots  \\\n",
       "0  pot-severe       none      90-100  ...    absent       norm         dna   \n",
       "1      severe  fungicide       80-89  ...    absent       norm         dna   \n",
       "2      severe  fungicide       lt-80  ...    absent       norm         dna   \n",
       "3      severe       none       80-89  ...    absent       norm         dna   \n",
       "4  pot-severe       none       lt-80  ...    absent       norm         dna   \n",
       "\n",
       "   seed mold-growth seed-discolor seed-size shriveling roots  \\\n",
       "0  norm      absent        absent      norm     absent  norm   \n",
       "1  norm      absent        absent      norm     absent  norm   \n",
       "2  norm      absent        absent      norm     absent  norm   \n",
       "3  norm      absent        absent      norm     absent  norm   \n",
       "4  norm      absent        absent      norm     absent  norm   \n",
       "\n",
       "                   class  \n",
       "0  diaporthe-stem-canker  \n",
       "1  diaporthe-stem-canker  \n",
       "2  diaporthe-stem-canker  \n",
       "3  diaporthe-stem-canker  \n",
       "4  diaporthe-stem-canker  \n",
       "\n",
       "[5 rows x 36 columns]"
      ]
     },
     "execution_count": 3,
     "metadata": {},
     "output_type": "execute_result"
    }
   ],
   "source": [
    "soybean.head()"
   ]
  },
  {
   "cell_type": "code",
   "execution_count": 4,
   "metadata": {},
   "outputs": [
    {
     "data": {
      "text/html": [
       "<div>\n",
       "<style scoped>\n",
       "    .dataframe tbody tr th:only-of-type {\n",
       "        vertical-align: middle;\n",
       "    }\n",
       "\n",
       "    .dataframe tbody tr th {\n",
       "        vertical-align: top;\n",
       "    }\n",
       "\n",
       "    .dataframe thead th {\n",
       "        text-align: right;\n",
       "    }\n",
       "</style>\n",
       "<table border=\"1\" class=\"dataframe\">\n",
       "  <thead>\n",
       "    <tr style=\"text-align: right;\">\n",
       "      <th></th>\n",
       "      <th>date</th>\n",
       "      <th>plant-stand</th>\n",
       "      <th>precip</th>\n",
       "      <th>temp</th>\n",
       "      <th>hail</th>\n",
       "      <th>crop-hist</th>\n",
       "      <th>area-damaged</th>\n",
       "      <th>severity</th>\n",
       "      <th>seed-tmt</th>\n",
       "      <th>germination</th>\n",
       "      <th>...</th>\n",
       "      <th>sclerotia</th>\n",
       "      <th>fruit-pods</th>\n",
       "      <th>fruit-spots</th>\n",
       "      <th>seed</th>\n",
       "      <th>mold-growth</th>\n",
       "      <th>seed-discolor</th>\n",
       "      <th>seed-size</th>\n",
       "      <th>shriveling</th>\n",
       "      <th>roots</th>\n",
       "      <th>class</th>\n",
       "    </tr>\n",
       "  </thead>\n",
       "  <tbody>\n",
       "    <tr>\n",
       "      <th>count</th>\n",
       "      <td>683</td>\n",
       "      <td>683</td>\n",
       "      <td>683</td>\n",
       "      <td>683</td>\n",
       "      <td>683</td>\n",
       "      <td>683</td>\n",
       "      <td>683</td>\n",
       "      <td>683</td>\n",
       "      <td>683</td>\n",
       "      <td>683</td>\n",
       "      <td>...</td>\n",
       "      <td>683</td>\n",
       "      <td>683</td>\n",
       "      <td>683</td>\n",
       "      <td>683</td>\n",
       "      <td>683</td>\n",
       "      <td>683</td>\n",
       "      <td>683</td>\n",
       "      <td>683</td>\n",
       "      <td>683</td>\n",
       "      <td>683</td>\n",
       "    </tr>\n",
       "    <tr>\n",
       "      <th>unique</th>\n",
       "      <td>8</td>\n",
       "      <td>3</td>\n",
       "      <td>4</td>\n",
       "      <td>4</td>\n",
       "      <td>3</td>\n",
       "      <td>5</td>\n",
       "      <td>5</td>\n",
       "      <td>4</td>\n",
       "      <td>4</td>\n",
       "      <td>4</td>\n",
       "      <td>...</td>\n",
       "      <td>3</td>\n",
       "      <td>5</td>\n",
       "      <td>5</td>\n",
       "      <td>3</td>\n",
       "      <td>3</td>\n",
       "      <td>3</td>\n",
       "      <td>3</td>\n",
       "      <td>3</td>\n",
       "      <td>4</td>\n",
       "      <td>19</td>\n",
       "    </tr>\n",
       "    <tr>\n",
       "      <th>top</th>\n",
       "      <td>september</td>\n",
       "      <td>normal</td>\n",
       "      <td>gt-norm</td>\n",
       "      <td>norm</td>\n",
       "      <td>yes</td>\n",
       "      <td>same-lst-two-yrs</td>\n",
       "      <td>low-areas</td>\n",
       "      <td>pot-severe</td>\n",
       "      <td>none</td>\n",
       "      <td>80-89</td>\n",
       "      <td>...</td>\n",
       "      <td>absent</td>\n",
       "      <td>norm</td>\n",
       "      <td>absent</td>\n",
       "      <td>norm</td>\n",
       "      <td>absent</td>\n",
       "      <td>absent</td>\n",
       "      <td>norm</td>\n",
       "      <td>absent</td>\n",
       "      <td>norm</td>\n",
       "      <td>brown-spot</td>\n",
       "    </tr>\n",
       "    <tr>\n",
       "      <th>freq</th>\n",
       "      <td>149</td>\n",
       "      <td>354</td>\n",
       "      <td>459</td>\n",
       "      <td>374</td>\n",
       "      <td>435</td>\n",
       "      <td>219</td>\n",
       "      <td>227</td>\n",
       "      <td>322</td>\n",
       "      <td>305</td>\n",
       "      <td>213</td>\n",
       "      <td>...</td>\n",
       "      <td>625</td>\n",
       "      <td>407</td>\n",
       "      <td>345</td>\n",
       "      <td>476</td>\n",
       "      <td>524</td>\n",
       "      <td>513</td>\n",
       "      <td>532</td>\n",
       "      <td>539</td>\n",
       "      <td>551</td>\n",
       "      <td>92</td>\n",
       "    </tr>\n",
       "  </tbody>\n",
       "</table>\n",
       "<p>4 rows × 36 columns</p>\n",
       "</div>"
      ],
      "text/plain": [
       "             date plant-stand   precip  temp hail         crop-hist  \\\n",
       "count         683         683      683   683  683               683   \n",
       "unique          8           3        4     4    3                 5   \n",
       "top     september      normal  gt-norm  norm  yes  same-lst-two-yrs   \n",
       "freq          149         354      459   374  435               219   \n",
       "\n",
       "       area-damaged    severity seed-tmt germination  ... sclerotia  \\\n",
       "count           683         683      683         683  ...       683   \n",
       "unique            5           4        4           4  ...         3   \n",
       "top       low-areas  pot-severe     none       80-89  ...    absent   \n",
       "freq            227         322      305         213  ...       625   \n",
       "\n",
       "       fruit-pods fruit-spots  seed mold-growth seed-discolor seed-size  \\\n",
       "count         683         683   683         683           683       683   \n",
       "unique          5           5     3           3             3         3   \n",
       "top          norm      absent  norm      absent        absent      norm   \n",
       "freq          407         345   476         524           513       532   \n",
       "\n",
       "       shriveling roots       class  \n",
       "count         683   683         683  \n",
       "unique          3     4          19  \n",
       "top        absent  norm  brown-spot  \n",
       "freq          539   551          92  \n",
       "\n",
       "[4 rows x 36 columns]"
      ]
     },
     "execution_count": 4,
     "metadata": {},
     "output_type": "execute_result"
    }
   ],
   "source": [
    "soybean.describe()"
   ]
  },
  {
   "cell_type": "code",
   "execution_count": 15,
   "metadata": {},
   "outputs": [
    {
     "name": "stdout",
     "output_type": "stream",
     "text": [
      "date - null total is 0\n",
      "plant-stand - null total is 0\n",
      "precip - null total is 0\n",
      "temp - null total is 0\n",
      "hail - null total is 0\n",
      "crop-hist - null total is 0\n",
      "area-damaged - null total is 0\n",
      "severity - null total is 0\n",
      "seed-tmt - null total is 0\n",
      "germination - null total is 0\n",
      "plant-growth - null total is 0\n",
      "leaves - null total is 0\n",
      "leafspots-halo - null total is 0\n",
      "leafspots-marg - null total is 0\n",
      "leafspot-size - null total is 0\n",
      "leaf-shread - null total is 0\n",
      "leaf-malf - null total is 0\n",
      "leaf-mild - null total is 0\n",
      "stem - null total is 0\n",
      "lodging - null total is 0\n",
      "stem-cankers - null total is 0\n",
      "canker-lesion - null total is 0\n",
      "fruiting-bodies - null total is 0\n",
      "external-decay - null total is 0\n",
      "mycelium - null total is 0\n",
      "int-discolor - null total is 0\n",
      "sclerotia - null total is 0\n",
      "fruit-pods - null total is 0\n",
      "fruit-spots - null total is 0\n",
      "seed - null total is 0\n",
      "mold-growth - null total is 0\n",
      "seed-discolor - null total is 0\n",
      "seed-size - null total is 0\n",
      "shriveling - null total is 0\n",
      "roots - null total is 0\n",
      "class - null total is 0\n"
     ]
    }
   ],
   "source": [
    "# Check all dataset columns if have missing values\n",
    "for c in soybean.columns:\n",
    "    print(c,'- null total is',soybean[c].isnull().sum())\n",
    "    #print()"
   ]
  },
  {
   "cell_type": "markdown",
   "metadata": {},
   "source": [
    "According the specification that I receive the class have the name of disases"
   ]
  },
  {
   "cell_type": "code",
   "execution_count": 18,
   "metadata": {},
   "outputs": [
    {
     "data": {
      "text/plain": [
       "brown-spot                     92\n",
       "alternarialeaf-spot            91\n",
       "frog-eye-leaf-spot             91\n",
       "phytophthora-rot               88\n",
       "anthracnose                    44\n",
       "brown-stem-rot                 44\n",
       "rhizoctonia-root-rot           20\n",
       "powdery-mildew                 20\n",
       "downy-mildew                   20\n",
       "diaporthe-stem-canker          20\n",
       "bacterial-pustule              20\n",
       "purple-seed-stain              20\n",
       "phyllosticta-leaf-spot         20\n",
       "charcoal-rot                   20\n",
       "bacterial-blight               20\n",
       "2-4-d-injury                   16\n",
       "diaporthe-pod-&-stem-blight    15\n",
       "cyst-nematode                  14\n",
       "herbicide-injury                8\n",
       "Name: class, dtype: int64"
      ]
     },
     "execution_count": 18,
     "metadata": {},
     "output_type": "execute_result"
    }
   ],
   "source": [
    "# Looking the disease count \n",
    "soybean['class'].value_counts()"
   ]
  },
  {
   "cell_type": "code",
   "execution_count": 25,
   "metadata": {},
   "outputs": [],
   "source": [
    "# Change the attributes to numeric pattern \n",
    "previsores = soybean.iloc[:,0:35].values\n",
    "classe = soybean.iloc[:,35].values"
   ]
  },
  {
   "cell_type": "code",
   "execution_count": 29,
   "metadata": {},
   "outputs": [
    {
     "data": {
      "text/plain": [
       "array(['june', 'lt-normal', 'gt-norm', 'gt-norm', '?', 'same-lst-two-yrs',\n",
       "       'low-areas', '?', '?', '?', 'abnorm', 'abnorm', '?', '?', '?', '?',\n",
       "       '?', '?', 'abnorm', '?', 'above-soil', 'dk-brown-blk', '?',\n",
       "       'absent', 'absent', 'none', 'absent', '?', '?', '?', '?', '?', '?',\n",
       "       '?', 'rotted'], dtype=object)"
      ]
     },
     "execution_count": 29,
     "metadata": {},
     "output_type": "execute_result"
    }
   ],
   "source": [
    "previsores[34]"
   ]
  },
  {
   "cell_type": "markdown",
   "metadata": {},
   "source": [
    "Apparently has missing data in this dataset!"
   ]
  },
  {
   "cell_type": "code",
   "execution_count": 31,
   "metadata": {},
   "outputs": [
    {
     "name": "stdout",
     "output_type": "stream",
     "text": [
      "date :  ['october' 'august' 'july' 'september' 'may' 'april' 'june' '?']\n",
      "plant-stand :  ['normal' 'lt-normal' '?']\n",
      "precip :  ['gt-norm' 'lt-norm' 'norm' '?']\n",
      "temp :  ['norm' 'gt-norm' 'lt-norm' '?']\n",
      "hail :  ['yes' 'no' '?']\n",
      "crop-hist :  ['same-lst-yr' 'same-lst-two-yrs' 'same-lst-sev-yrs' 'diff-lst-year' '?']\n",
      "area-damaged :  ['low-areas' 'scattered' 'whole-field' 'upper-areas' '?']\n",
      "severity :  ['pot-severe' 'severe' '?' 'minor']\n",
      "seed-tmt :  ['none' 'fungicide' '?' 'other']\n",
      "germination :  ['90-100' '80-89' 'lt-80' '?']\n",
      "plant-growth :  ['abnorm' 'norm' '?']\n",
      "leaves :  ['abnorm' 'norm']\n",
      "leafspots-halo :  ['absent' '?' 'no-yellow-halos' 'yellow-halos']\n",
      "leafspots-marg :  ['dna' '?' 'w-s-marg' 'no-w-s-marg']\n",
      "leafspot-size :  ['dna' '?' 'gt-1/8' 'lt-1/8']\n",
      "leaf-shread :  ['absent' '?' 'present']\n",
      "leaf-malf :  ['absent' '?' 'present']\n",
      "leaf-mild :  ['absent' '?' 'upper-surf' 'lower-surf']\n",
      "stem :  ['abnorm' 'norm' '?']\n",
      "lodging :  ['no' 'yes' '?']\n",
      "stem-cankers :  ['above-sec-nde' 'absent' 'below-soil' 'above-soil' '?']\n",
      "canker-lesion :  ['brown' 'dna' 'tan' 'dk-brown-blk' '?']\n",
      "fruiting-bodies :  ['present' 'absent' '?']\n",
      "external-decay :  ['firm-and-dry' 'absent' '?' 'watery']\n",
      "mycelium :  ['absent' 'present' '?']\n",
      "int-discolor :  ['none' 'black' 'brown' '?']\n",
      "sclerotia :  ['absent' 'present' '?']\n",
      "fruit-pods :  ['norm' 'dna' '?' 'diseased' 'few-present']\n",
      "fruit-spots :  ['dna' '?' 'absent' 'colored' 'brown-w/blk-specks']\n",
      "seed :  ['norm' '?' 'abnorm']\n",
      "mold-growth :  ['absent' '?' 'present']\n",
      "seed-discolor :  ['absent' '?' 'present']\n",
      "seed-size :  ['norm' '?' 'lt-norm']\n",
      "shriveling :  ['absent' '?' 'present']\n",
      "roots :  ['norm' 'rotted' 'galls-cysts' '?']\n",
      "class :  ['diaporthe-stem-canker' 'charcoal-rot' 'rhizoctonia-root-rot'\n",
      " 'phytophthora-rot' 'brown-stem-rot' 'powdery-mildew' 'downy-mildew'\n",
      " 'brown-spot' 'bacterial-blight' 'bacterial-pustule' 'purple-seed-stain'\n",
      " 'anthracnose' 'phyllosticta-leaf-spot' 'alternarialeaf-spot'\n",
      " 'frog-eye-leaf-spot' 'diaporthe-pod-&-stem-blight' 'cyst-nematode'\n",
      " '2-4-d-injury' 'herbicide-injury']\n"
     ]
    }
   ],
   "source": [
    "# Looking the values more closely\n",
    "for c_name in soybean.columns:\n",
    "    print(c_name,\": \",soybean[c_name].unique())"
   ]
  },
  {
   "cell_type": "markdown",
   "metadata": {},
   "source": [
    "I will consider this '?' like unknown values just it"
   ]
  },
  {
   "cell_type": "code",
   "execution_count": 38,
   "metadata": {},
   "outputs": [],
   "source": [
    "# Now change the attributes to numeric pattern using LabelEncoder\n",
    "labelencoder = LabelEncoder()\n",
    "for i in range(previsores.shape[1]):\n",
    "    previsores[:,i] = labelencoder.fit_transform(previsores[:,i])"
   ]
  },
  {
   "cell_type": "code",
   "execution_count": 40,
   "metadata": {},
   "outputs": [],
   "source": [
    "# Divisão da base de dados entre treinamento e teste (30% para testar e 70% para treinar)\n",
    "X_treinamento, X_teste, y_treinamento, y_teste = train_test_split(previsores,\n",
    "                                                                  classe,\n",
    "                                                                  test_size = 0.3,\n",
    "                                                                  random_state = 1)"
   ]
  },
  {
   "cell_type": "markdown",
   "metadata": {},
   "source": [
    "#### Run attribute selector ExtraTreesClassifier"
   ]
  },
  {
   "cell_type": "code",
   "execution_count": 42,
   "metadata": {},
   "outputs": [
    {
     "data": {
      "text/plain": [
       "array([0.04031678, 0.01714287, 0.03417743, 0.02591519, 0.02286531,\n",
       "       0.0193398 , 0.0236472 , 0.02447941, 0.01956565, 0.01176654,\n",
       "       0.0275621 , 0.02178092, 0.0380159 , 0.05529389, 0.05902085,\n",
       "       0.02788785, 0.00993334, 0.026936  , 0.03683324, 0.01023657,\n",
       "       0.03821308, 0.04491269, 0.03752514, 0.03382248, 0.00666818,\n",
       "       0.04653053, 0.02056925, 0.0562368 , 0.04335014, 0.03052857,\n",
       "       0.02385599, 0.0181879 , 0.01400766, 0.00894168, 0.02393303])"
      ]
     },
     "execution_count": 42,
     "metadata": {},
     "output_type": "execute_result"
    }
   ],
   "source": [
    "forest = ExtraTreesClassifier()\n",
    "forest.fit(X_treinamento, y_treinamento)\n",
    "importancias = forest.feature_importances_\n",
    "importancias"
   ]
  },
  {
   "cell_type": "code",
   "execution_count": 47,
   "metadata": {},
   "outputs": [
    {
     "data": {
      "text/plain": [
       "array([0.04031678, 0.0380159 , 0.05529389, 0.05902085, 0.03683324,\n",
       "       0.03821308, 0.04491269, 0.03752514, 0.04653053, 0.0562368 ,\n",
       "       0.04335014])"
      ]
     },
     "execution_count": 47,
     "metadata": {},
     "output_type": "execute_result"
    }
   ],
   "source": [
    "importancias[importancias > 0.035]"
   ]
  },
  {
   "cell_type": "code",
   "execution_count": 69,
   "metadata": {},
   "outputs": [],
   "source": [
    "indices = np.where(importancias > 0.035)"
   ]
  },
  {
   "cell_type": "code",
   "execution_count": 61,
   "metadata": {},
   "outputs": [
    {
     "data": {
      "text/plain": [
       "array([ 0, 12, 13, 14, 18, 20, 21, 22, 25, 27, 28])"
      ]
     },
     "execution_count": 61,
     "metadata": {},
     "output_type": "execute_result"
    }
   ],
   "source": [
    "indices[0]"
   ]
  },
  {
   "cell_type": "code",
   "execution_count": 62,
   "metadata": {},
   "outputs": [
    {
     "data": {
      "text/plain": [
       "array([[3, 2, 3, ..., 3, 1, 3],\n",
       "       [7, 2, 3, ..., 3, 1, 3],\n",
       "       [6, 1, 1, ..., 3, 1, 2],\n",
       "       ...,\n",
       "       [3, 1, 1, ..., 2, 4, 4],\n",
       "       [6, 2, 3, ..., 3, 4, 1],\n",
       "       [3, 1, 1, ..., 3, 2, 4]], dtype=object)"
      ]
     },
     "execution_count": 62,
     "metadata": {},
     "output_type": "execute_result"
    }
   ],
   "source": [
    "X_treinamento[:,indices[0]]"
   ]
  },
  {
   "cell_type": "markdown",
   "metadata": {},
   "source": [
    "#### Creating the first model using SVM"
   ]
  },
  {
   "cell_type": "code",
   "execution_count": 66,
   "metadata": {},
   "outputs": [
    {
     "data": {
      "text/plain": [
       "0.7853658536585366"
      ]
     },
     "execution_count": 66,
     "metadata": {},
     "output_type": "execute_result"
    }
   ],
   "source": [
    "svm = SVC()\n",
    "svm.fit(X_treinamento[:,indices[0]], y_treinamento)\n",
    "previsoes = svm.predict(X_teste[:,indices[0]])\n",
    "taxa_acerto = accuracy_score(y_teste, previsoes)\n",
    "taxa_acerto"
   ]
  },
  {
   "cell_type": "code",
   "execution_count": 67,
   "metadata": {},
   "outputs": [],
   "source": [
    "# change the attribute revelvance to test\n",
    "indices = np.where(importancias > 0.045)"
   ]
  },
  {
   "cell_type": "code",
   "execution_count": 68,
   "metadata": {},
   "outputs": [
    {
     "data": {
      "text/plain": [
       "0.6097560975609756"
      ]
     },
     "execution_count": 68,
     "metadata": {},
     "output_type": "execute_result"
    }
   ],
   "source": [
    "svm = SVC()\n",
    "svm.fit(X_treinamento[:,indices[0]], y_treinamento)\n",
    "previsoes = svm.predict(X_teste[:,indices[0]])\n",
    "taxa_acerto = accuracy_score(y_teste, previsoes)\n",
    "taxa_acerto"
   ]
  },
  {
   "cell_type": "code",
   "execution_count": 70,
   "metadata": {},
   "outputs": [],
   "source": [
    "# Keep the first relevance rate\n",
    "indices = np.where(importancias > 0.035)"
   ]
  },
  {
   "cell_type": "code",
   "execution_count": 78,
   "metadata": {},
   "outputs": [
    {
     "data": {
      "text/plain": [
       "0.8439024390243902"
      ]
     },
     "execution_count": 78,
     "metadata": {},
     "output_type": "execute_result"
    }
   ],
   "source": [
    "svm = SVC()\n",
    "svm.fit(X_treinamento, y_treinamento)\n",
    "previsoes = svm.predict(X_teste)\n",
    "taxa_acerto = accuracy_score(y_teste, previsoes)\n",
    "taxa_acerto"
   ]
  },
  {
   "cell_type": "markdown",
   "metadata": {},
   "source": [
    "#### Creting the second model using Naive Bayes"
   ]
  },
  {
   "cell_type": "code",
   "execution_count": 72,
   "metadata": {},
   "outputs": [
    {
     "data": {
      "text/plain": [
       "0.7804878048780488"
      ]
     },
     "execution_count": 72,
     "metadata": {},
     "output_type": "execute_result"
    }
   ],
   "source": [
    "naive_bayes = GaussianNB()\n",
    "naive_bayes.fit(X_treinamento[:,indices[0]], y_treinamento)\n",
    "previsoes = naive_bayes.predict(X_teste[:,indices[0]])\n",
    "taxa_acerto = accuracy_score(y_teste, previsoes)\n",
    "taxa_acerto"
   ]
  },
  {
   "cell_type": "code",
   "execution_count": 77,
   "metadata": {},
   "outputs": [
    {
     "data": {
      "text/plain": [
       "0.8439024390243902"
      ]
     },
     "execution_count": 77,
     "metadata": {},
     "output_type": "execute_result"
    }
   ],
   "source": [
    "naive_bayes = GaussianNB()\n",
    "naive_bayes.fit(X_treinamento, y_treinamento)\n",
    "previsoes = naive_bayes.predict(X_teste)\n",
    "taxa_acerto = accuracy_score(y_teste, previsoes)\n",
    "taxa_acerto"
   ]
  },
  {
   "cell_type": "markdown",
   "metadata": {},
   "source": [
    "#### Creting the third model using Ranom Forest "
   ]
  },
  {
   "cell_type": "code",
   "execution_count": 75,
   "metadata": {},
   "outputs": [
    {
     "data": {
      "text/plain": [
       "0.8975609756097561"
      ]
     },
     "execution_count": 75,
     "metadata": {},
     "output_type": "execute_result"
    }
   ],
   "source": [
    "floresta = RandomForestClassifier(n_estimators = 100)\n",
    "floresta.fit(X_treinamento[:,indices[0]], y_treinamento)\n",
    "previsoes = floresta.predict(X_teste[:,indices[0]])\n",
    "taxa_acerto = accuracy_score(y_teste, previsoes)\n",
    "taxa_acerto"
   ]
  },
  {
   "cell_type": "code",
   "execution_count": 76,
   "metadata": {},
   "outputs": [
    {
     "data": {
      "text/plain": [
       "0.9414634146341463"
      ]
     },
     "execution_count": 76,
     "metadata": {},
     "output_type": "execute_result"
    }
   ],
   "source": [
    "# Using all atributes\n",
    "floresta = RandomForestClassifier(n_estimators = 100)\n",
    "floresta.fit(X_treinamento, y_treinamento)\n",
    "previsoes = floresta.predict(X_teste)\n",
    "taxa_acerto = accuracy_score(y_teste, previsoes)\n",
    "taxa_acerto"
   ]
  },
  {
   "cell_type": "markdown",
   "metadata": {},
   "source": [
    "### The best result was with Random Forest and all attributes"
   ]
  },
  {
   "cell_type": "code",
   "execution_count": null,
   "metadata": {},
   "outputs": [],
   "source": []
  }
 ],
 "metadata": {
  "kernelspec": {
   "display_name": "Python 3",
   "language": "python",
   "name": "python3"
  },
  "language_info": {
   "codemirror_mode": {
    "name": "ipython",
    "version": 3
   },
   "file_extension": ".py",
   "mimetype": "text/x-python",
   "name": "python",
   "nbconvert_exporter": "python",
   "pygments_lexer": "ipython3",
   "version": "3.7.6"
  }
 },
 "nbformat": 4,
 "nbformat_minor": 4
}
